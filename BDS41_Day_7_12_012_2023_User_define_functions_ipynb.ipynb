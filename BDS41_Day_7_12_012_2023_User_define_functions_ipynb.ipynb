{
  "nbformat": 4,
  "nbformat_minor": 0,
  "metadata": {
    "colab": {
      "provenance": [],
      "toc_visible": true,
      "authorship_tag": "ABX9TyNvIQLuwn6Q+/PqGI56Ttt0",
      "include_colab_link": true
    },
    "kernelspec": {
      "name": "python3",
      "display_name": "Python 3"
    },
    "language_info": {
      "name": "python"
    }
  },
  "cells": [
    {
      "cell_type": "markdown",
      "metadata": {
        "id": "view-in-github",
        "colab_type": "text"
      },
      "source": [
        "<a href=\"https://colab.research.google.com/github/deepalama/TakeoBDS41/blob/main/BDS41_Day_7_12_012_2023_User_define_functions_ipynb.ipynb\" target=\"_parent\"><img src=\"https://colab.research.google.com/assets/colab-badge.svg\" alt=\"Open In Colab\"/></a>"
      ]
    },
    {
      "cell_type": "markdown",
      "source": [
        "# User Define function"
      ],
      "metadata": {
        "id": "KsibyTwCtWAx"
      }
    },
    {
      "cell_type": "code",
      "execution_count": null,
      "metadata": {
        "colab": {
          "base_uri": "https://localhost:8080/"
        },
        "id": "gXuqMymwtL1x",
        "outputId": "c2a55c02-d144-47f6-f9ad-dfc165ac570b"
      },
      "outputs": [
        {
          "output_type": "stream",
          "name": "stdout",
          "text": [
            "welcome to data science bootcamp\n"
          ]
        }
      ],
      "source": [
        "def welcome_world():\n",
        "    print('welcome to data science bootcamp')\n",
        "\n",
        "welcome_world()"
      ]
    },
    {
      "cell_type": "code",
      "source": [
        "welcome_world()"
      ],
      "metadata": {
        "colab": {
          "base_uri": "https://localhost:8080/"
        },
        "id": "4oFCZTXntsHD",
        "outputId": "a561740a-b331-4d6c-be60-3ee7296f73ff"
      },
      "execution_count": null,
      "outputs": [
        {
          "output_type": "stream",
          "name": "stdout",
          "text": [
            "welcome to data science bootcamp\n"
          ]
        }
      ]
    },
    {
      "cell_type": "code",
      "source": [
        "def add_nums(a,b,c):\n",
        "    return(a+b+c)"
      ],
      "metadata": {
        "id": "C7Uox_EmuEMb"
      },
      "execution_count": null,
      "outputs": []
    },
    {
      "cell_type": "code",
      "source": [
        "add_nums(10, 20, 30)"
      ],
      "metadata": {
        "colab": {
          "base_uri": "https://localhost:8080/"
        },
        "id": "k-flczthuL5Q",
        "outputId": "0e740798-ef8c-4661-8bc7-59089d97b467"
      },
      "execution_count": null,
      "outputs": [
        {
          "output_type": "execute_result",
          "data": {
            "text/plain": [
              "60"
            ]
          },
          "metadata": {},
          "execution_count": 5
        }
      ]
    },
    {
      "cell_type": "code",
      "source": [
        "add_nums(10.5, 10.5, 10.99)"
      ],
      "metadata": {
        "colab": {
          "base_uri": "https://localhost:8080/"
        },
        "id": "s76GT-0Duc_V",
        "outputId": "e425c499-839b-4b65-a5a4-e777316c86a6"
      },
      "execution_count": null,
      "outputs": [
        {
          "output_type": "execute_result",
          "data": {
            "text/plain": [
              "31.990000000000002"
            ]
          },
          "metadata": {},
          "execution_count": 7
        }
      ]
    },
    {
      "cell_type": "code",
      "source": [
        "add_nums(12+34j, -23-45j, 34+56j)"
      ],
      "metadata": {
        "colab": {
          "base_uri": "https://localhost:8080/"
        },
        "id": "D9qfnSJiupeb",
        "outputId": "9561a68c-9df4-41b1-99f7-500391e27129"
      },
      "execution_count": null,
      "outputs": [
        {
          "output_type": "execute_result",
          "data": {
            "text/plain": [
              "(23+45j)"
            ]
          },
          "metadata": {},
          "execution_count": 8
        }
      ]
    },
    {
      "cell_type": "code",
      "source": [
        "def sub_nums(a,b,c):\n",
        "    return(a-b-c)"
      ],
      "metadata": {
        "id": "xCLrGadsvEqy"
      },
      "execution_count": null,
      "outputs": []
    },
    {
      "cell_type": "code",
      "source": [
        "sub_nums(50, 10, 10)"
      ],
      "metadata": {
        "colab": {
          "base_uri": "https://localhost:8080/"
        },
        "id": "ZBNlTW0YvqWO",
        "outputId": "abd841c3-b90c-4d62-a662-80118c4bb97c"
      },
      "execution_count": null,
      "outputs": [
        {
          "output_type": "execute_result",
          "data": {
            "text/plain": [
              "30"
            ]
          },
          "metadata": {},
          "execution_count": 13
        }
      ]
    },
    {
      "cell_type": "code",
      "source": [
        "def mul_nums(a,b,c):\n",
        "    return(a*b*c)"
      ],
      "metadata": {
        "id": "-waGSI4avKtH"
      },
      "execution_count": null,
      "outputs": []
    },
    {
      "cell_type": "code",
      "source": [
        "mul_nums(50, 10, 10)"
      ],
      "metadata": {
        "colab": {
          "base_uri": "https://localhost:8080/"
        },
        "id": "UaZTuJxEvxgI",
        "outputId": "e88d9a81-0cde-4956-be85-60903d8d5dc5"
      },
      "execution_count": null,
      "outputs": [
        {
          "output_type": "execute_result",
          "data": {
            "text/plain": [
              "5000"
            ]
          },
          "metadata": {},
          "execution_count": 18
        }
      ]
    },
    {
      "cell_type": "code",
      "source": [
        "def div_nums(a,b,c):\n",
        "    return(a/b/c)"
      ],
      "metadata": {
        "id": "FNnA6GZ8vNcs"
      },
      "execution_count": null,
      "outputs": []
    },
    {
      "cell_type": "code",
      "source": [
        "div_nums(50, 10, 10)"
      ],
      "metadata": {
        "colab": {
          "base_uri": "https://localhost:8080/"
        },
        "id": "mf0IEn83vyF4",
        "outputId": "a67a6f8d-95a9-4fff-883c-191ab052a951"
      },
      "execution_count": null,
      "outputs": [
        {
          "output_type": "execute_result",
          "data": {
            "text/plain": [
              "0.5"
            ]
          },
          "metadata": {},
          "execution_count": 19
        }
      ]
    },
    {
      "cell_type": "code",
      "source": [
        "def allFun_nums(a,b,c):\n",
        "    print('add - ', a+b+c)\n",
        "    print('sub - ',a-b-c)\n",
        "    print('multiply - ',a*b*c)\n",
        "    print('divide - ',a/b/c)"
      ],
      "metadata": {
        "id": "PHgSp4TsvT7J"
      },
      "execution_count": null,
      "outputs": []
    },
    {
      "cell_type": "code",
      "source": [
        "allFun_nums(10, 10, 10)"
      ],
      "metadata": {
        "colab": {
          "base_uri": "https://localhost:8080/"
        },
        "id": "cA2Al1y3vhdX",
        "outputId": "e7d4530d-e129-4c6a-cd1b-989028338101"
      },
      "execution_count": null,
      "outputs": [
        {
          "output_type": "stream",
          "name": "stdout",
          "text": [
            "add -  30\n",
            "sub -  -10\n",
            "multiply -  1000\n",
            "divide -  0.1\n"
          ]
        }
      ]
    },
    {
      "cell_type": "code",
      "source": [
        "def create_email(a, b):\n",
        "    print(a, '.', b, '@yahoomail.com')"
      ],
      "metadata": {
        "id": "fKe-S9LOyCGK"
      },
      "execution_count": null,
      "outputs": []
    },
    {
      "cell_type": "code",
      "source": [
        "create_email('eva', 'rai')"
      ],
      "metadata": {
        "colab": {
          "base_uri": "https://localhost:8080/"
        },
        "id": "uf04TXIzzdIK",
        "outputId": "350bbee6-6033-457f-de2c-de0d044b7d14"
      },
      "execution_count": null,
      "outputs": [
        {
          "output_type": "stream",
          "name": "stdout",
          "text": [
            "eva . rai @yahoomail.com\n"
          ]
        }
      ]
    },
    {
      "cell_type": "markdown",
      "source": [
        "# print shapes using user define function"
      ],
      "metadata": {
        "id": "vBVM_XnE3wmA"
      }
    },
    {
      "cell_type": "code",
      "source": [
        "def shapes(a, b):\n",
        "    for i in range(a):\n",
        "        for j in range(b):\n",
        "            print('*', end =' ')\n",
        "        print('')\n"
      ],
      "metadata": {
        "id": "N-WbCXZQzjYf"
      },
      "execution_count": null,
      "outputs": []
    },
    {
      "cell_type": "code",
      "source": [
        "shapes(5, 5)"
      ],
      "metadata": {
        "colab": {
          "base_uri": "https://localhost:8080/"
        },
        "id": "j13jgDFm0PKJ",
        "outputId": "ab97798e-5fd6-4987-9f80-aa8723fc1f33"
      },
      "execution_count": null,
      "outputs": [
        {
          "output_type": "stream",
          "name": "stdout",
          "text": [
            "* * * * * \n",
            "* * * * * \n",
            "* * * * * \n",
            "* * * * * \n",
            "* * * * * \n"
          ]
        }
      ]
    },
    {
      "cell_type": "code",
      "source": [
        "shapes(5, 10)"
      ],
      "metadata": {
        "colab": {
          "base_uri": "https://localhost:8080/"
        },
        "id": "0G-Brky22BvR",
        "outputId": "b132bade-96a5-4f37-88fd-383a38fdf56a"
      },
      "execution_count": null,
      "outputs": [
        {
          "output_type": "stream",
          "name": "stdout",
          "text": [
            "* * * * * * * * * * \n",
            "* * * * * * * * * * \n",
            "* * * * * * * * * * \n",
            "* * * * * * * * * * \n",
            "* * * * * * * * * * \n"
          ]
        }
      ]
    },
    {
      "cell_type": "markdown",
      "source": [
        "# odd even"
      ],
      "metadata": {
        "id": "xMiLkZHHtW_m"
      }
    },
    {
      "cell_type": "code",
      "source": [
        "def odd_even(a):\n",
        "    if a % 2 == 0:\n",
        "        print('This number ', a, ' is even')\n",
        "    else:\n",
        "        print('This number ', a, ' is odd')"
      ],
      "metadata": {
        "id": "07iYiWsc4JBA"
      },
      "execution_count": null,
      "outputs": []
    },
    {
      "cell_type": "code",
      "source": [
        "odd_even(5)\n",
        "odd_even(10)"
      ],
      "metadata": {
        "colab": {
          "base_uri": "https://localhost:8080/"
        },
        "id": "nMaJSNNc5sjw",
        "outputId": "56bfe964-8ad7-43c3-ce8a-274ce486c1bd"
      },
      "execution_count": null,
      "outputs": [
        {
          "output_type": "stream",
          "name": "stdout",
          "text": [
            "This number  5  is odd\n",
            "This number  10  is even\n"
          ]
        }
      ]
    },
    {
      "cell_type": "markdown",
      "source": [
        "# results"
      ],
      "metadata": {
        "id": "iO8JiB1RtWGs"
      }
    },
    {
      "cell_type": "code",
      "source": [
        "def pass_classes(a):\n",
        "    if a >= 85:\n",
        "        print('Distinction')\n",
        "    elif a >= 60:\n",
        "        print('First class')\n",
        "    elif a >= 40:\n",
        "        print('Second class')\n",
        "    elif a >= 35:\n",
        "        print('Third class')\n",
        "    else:\n",
        "        print('Better luck next time')"
      ],
      "metadata": {
        "id": "VBmWQLGi4iu9"
      },
      "execution_count": null,
      "outputs": []
    },
    {
      "cell_type": "code",
      "source": [
        "pass_classes(90)\n",
        "pass_classes(85)\n",
        "pass_classes(70)\n",
        "pass_classes(60)\n",
        "pass_classes(55)\n",
        "pass_classes(40)\n",
        "pass_classes(37)\n",
        "pass_classes(35)\n",
        "pass_classes(30)"
      ],
      "metadata": {
        "colab": {
          "base_uri": "https://localhost:8080/"
        },
        "id": "3hjo6L6I5Qgm",
        "outputId": "6375f12f-a5d7-4c3d-dd96-3827b9687cb9"
      },
      "execution_count": null,
      "outputs": [
        {
          "output_type": "stream",
          "name": "stdout",
          "text": [
            "Distinction\n",
            "Distinction\n",
            "First class\n",
            "First class\n",
            "Second class\n",
            "Second class\n",
            "Third class\n",
            "Third class\n",
            "Better luck next time\n"
          ]
        }
      ]
    },
    {
      "cell_type": "code",
      "source": [
        "def result(a, b, c, d, e):\n",
        "    total_marks = (a+b+c+d+e)\n",
        "    percentage = (total_marks/500)*100\n",
        "    if percentage >= 85:\n",
        "        print('Distenction')\n",
        "    elif percentage < 85 and percentage >= 60:\n",
        "        print('First class')\n",
        "    elif percentage < 60 and percentage >= 40:\n",
        "        print('Second class')\n",
        "    elif percentage < 40 and percentage >= 35:\n",
        "        print('Third class')\n",
        "    else:\n",
        "        print('Better luck next time')"
      ],
      "metadata": {
        "id": "B2nn8aCN5QcH"
      },
      "execution_count": null,
      "outputs": []
    },
    {
      "cell_type": "code",
      "source": [
        "result(85, 60, 55, 80, 40)"
      ],
      "metadata": {
        "colab": {
          "base_uri": "https://localhost:8080/"
        },
        "id": "QlFJ8kyw8ZYX",
        "outputId": "ea609568-e769-4020-e656-3f5629552b0b"
      },
      "execution_count": null,
      "outputs": [
        {
          "output_type": "stream",
          "name": "stdout",
          "text": [
            "First class\n"
          ]
        }
      ]
    },
    {
      "cell_type": "code",
      "source": [
        "def dic_result(x):\n",
        "    for name, percentage in x.items():\n",
        "        print(name, ' : ', pass_classes())"
      ],
      "metadata": {
        "id": "exO7qRCYBQ2a"
      },
      "execution_count": null,
      "outputs": []
    },
    {
      "cell_type": "code",
      "source": [
        "dict1 = {'Adam' : 87 , 'Brian' : 22 , 'Cathy' : 60 , 'Dave' : 46 , 'Roy' : 41 }\n",
        "\n",
        "dic_result(dict1)"
      ],
      "metadata": {
        "colab": {
          "base_uri": "https://localhost:8080/",
          "height": 297
        },
        "id": "0x_6cTUx-Kbk",
        "outputId": "1f720504-b976-490e-acd2-e9b0739c5b63"
      },
      "execution_count": null,
      "outputs": [
        {
          "output_type": "error",
          "ename": "NameError",
          "evalue": "ignored",
          "traceback": [
            "\u001b[0;31m---------------------------------------------------------------------------\u001b[0m",
            "\u001b[0;31mNameError\u001b[0m                                 Traceback (most recent call last)",
            "\u001b[0;32m<ipython-input-2-da0323c92349>\u001b[0m in \u001b[0;36m<cell line: 3>\u001b[0;34m()\u001b[0m\n\u001b[1;32m      1\u001b[0m \u001b[0mdict1\u001b[0m \u001b[0;34m=\u001b[0m \u001b[0;34m{\u001b[0m\u001b[0;34m'Adam'\u001b[0m \u001b[0;34m:\u001b[0m \u001b[0;36m87\u001b[0m \u001b[0;34m,\u001b[0m \u001b[0;34m'Brian'\u001b[0m \u001b[0;34m:\u001b[0m \u001b[0;36m22\u001b[0m \u001b[0;34m,\u001b[0m \u001b[0;34m'Cathy'\u001b[0m \u001b[0;34m:\u001b[0m \u001b[0;36m60\u001b[0m \u001b[0;34m,\u001b[0m \u001b[0;34m'Dave'\u001b[0m \u001b[0;34m:\u001b[0m \u001b[0;36m46\u001b[0m \u001b[0;34m,\u001b[0m \u001b[0;34m'Roy'\u001b[0m \u001b[0;34m:\u001b[0m \u001b[0;36m41\u001b[0m \u001b[0;34m}\u001b[0m\u001b[0;34m\u001b[0m\u001b[0;34m\u001b[0m\u001b[0m\n\u001b[1;32m      2\u001b[0m \u001b[0;34m\u001b[0m\u001b[0m\n\u001b[0;32m----> 3\u001b[0;31m \u001b[0mdic_result\u001b[0m\u001b[0;34m(\u001b[0m\u001b[0mdict1\u001b[0m\u001b[0;34m)\u001b[0m\u001b[0;34m\u001b[0m\u001b[0;34m\u001b[0m\u001b[0m\n\u001b[0m",
            "\u001b[0;32m<ipython-input-1-06a1a6532e3a>\u001b[0m in \u001b[0;36mdic_result\u001b[0;34m(x)\u001b[0m\n\u001b[1;32m      1\u001b[0m \u001b[0;32mdef\u001b[0m \u001b[0mdic_result\u001b[0m\u001b[0;34m(\u001b[0m\u001b[0mx\u001b[0m\u001b[0;34m)\u001b[0m\u001b[0;34m:\u001b[0m\u001b[0;34m\u001b[0m\u001b[0;34m\u001b[0m\u001b[0m\n\u001b[1;32m      2\u001b[0m     \u001b[0;32mfor\u001b[0m \u001b[0mname\u001b[0m\u001b[0;34m,\u001b[0m \u001b[0mpercentage\u001b[0m \u001b[0;32min\u001b[0m \u001b[0mx\u001b[0m\u001b[0;34m.\u001b[0m\u001b[0mitems\u001b[0m\u001b[0;34m(\u001b[0m\u001b[0;34m)\u001b[0m\u001b[0;34m:\u001b[0m\u001b[0;34m\u001b[0m\u001b[0;34m\u001b[0m\u001b[0m\n\u001b[0;32m----> 3\u001b[0;31m         \u001b[0mprint\u001b[0m\u001b[0;34m(\u001b[0m\u001b[0mname\u001b[0m\u001b[0;34m,\u001b[0m \u001b[0;34m' : '\u001b[0m\u001b[0;34m,\u001b[0m \u001b[0mpass_classes\u001b[0m\u001b[0;34m(\u001b[0m\u001b[0;34m)\u001b[0m\u001b[0;34m)\u001b[0m\u001b[0;34m\u001b[0m\u001b[0;34m\u001b[0m\u001b[0m\n\u001b[0m",
            "\u001b[0;31mNameError\u001b[0m: name 'pass_classes' is not defined"
          ]
        }
      ]
    },
    {
      "cell_type": "markdown",
      "source": [
        "# New Section"
      ],
      "metadata": {
        "id": "i5cy5cvz8qfi"
      }
    },
    {
      "cell_type": "code",
      "source": [
        "def result2():\n",
        "    a = input('please enter marks for english - ')\n",
        "    b = input('please enter marks for math - ')\n",
        "    c = input('please enter marks for science - ')\n",
        "    d = input('please enter marks for computer - ')\n",
        "    e = input('please enter marks for accounts - ')\n",
        "    total_marks = (a+b+c+d+e)\n",
        "    percentage = (total_marks/500)/100\n",
        "    if percentage >= 85:\n",
        "        print('Distenction')\n",
        "    elif percentage < 85 and percentage >= 60:\n",
        "        print('First class')\n",
        "    elif percentage < 60 and percentage >= 40:\n",
        "        print('Second class')\n",
        "    elif percentage < 40 and percentage >= 35:\n",
        "        print('Third class')\n",
        "    else:\n",
        "        print('Better luck next time')"
      ],
      "metadata": {
        "id": "gDpKPav_8Vf0"
      },
      "execution_count": null,
      "outputs": []
    },
    {
      "cell_type": "markdown",
      "source": [
        "# New Section"
      ],
      "metadata": {
        "id": "KImErvBm5-1Q"
      }
    },
    {
      "cell_type": "code",
      "source": [
        "def any_argument(*deepa):\n",
        "    return deepa"
      ],
      "metadata": {
        "id": "CuHYElbPCicr"
      },
      "execution_count": null,
      "outputs": []
    },
    {
      "cell_type": "code",
      "source": [
        "any_argument()"
      ],
      "metadata": {
        "colab": {
          "base_uri": "https://localhost:8080/"
        },
        "id": "I4kdcypiCwDC",
        "outputId": "dfc334a6-8f36-4559-cf2e-33b7af832a8a"
      },
      "execution_count": null,
      "outputs": [
        {
          "output_type": "execute_result",
          "data": {
            "text/plain": [
              "()"
            ]
          },
          "metadata": {},
          "execution_count": 98
        }
      ]
    },
    {
      "cell_type": "code",
      "source": [
        "any_argument(5)"
      ],
      "metadata": {
        "colab": {
          "base_uri": "https://localhost:8080/"
        },
        "id": "gXgISjiZCv-E",
        "outputId": "22fdfc9c-5242-42e7-d1fe-4bbbf90ba3e0"
      },
      "execution_count": null,
      "outputs": [
        {
          "output_type": "execute_result",
          "data": {
            "text/plain": [
              "(5,)"
            ]
          },
          "metadata": {},
          "execution_count": 99
        }
      ]
    },
    {
      "cell_type": "code",
      "source": [
        "any_argument(5, 10)"
      ],
      "metadata": {
        "colab": {
          "base_uri": "https://localhost:8080/"
        },
        "id": "JzBpdXBtCv06",
        "outputId": "2ca123ec-e056-4d3e-d866-5d5134006b24"
      },
      "execution_count": null,
      "outputs": [
        {
          "output_type": "execute_result",
          "data": {
            "text/plain": [
              "(5, 10, 19, 99, 123)"
            ]
          },
          "metadata": {},
          "execution_count": 100
        }
      ]
    },
    {
      "cell_type": "code",
      "source": [
        "any_argument(5, 10, 19, 99, 123, 632, 5, 10, 19, 99, 123, 632, 5, 10, 19, 99, 123, 632)"
      ],
      "metadata": {
        "colab": {
          "base_uri": "https://localhost:8080/"
        },
        "id": "Tm0DG-sYDmBp",
        "outputId": "2b369085-755b-40af-d740-d59f45078c4e"
      },
      "execution_count": null,
      "outputs": [
        {
          "output_type": "execute_result",
          "data": {
            "text/plain": [
              "(5, 10, 19, 99, 123, 632, 5, 10, 19, 99, 123, 632, 5, 10, 19, 99, 123, 632)"
            ]
          },
          "metadata": {},
          "execution_count": 105
        }
      ]
    },
    {
      "cell_type": "code",
      "source": [
        "any_argument('a', 'b', 'c', 'd', 'e', 'f')"
      ],
      "metadata": {
        "colab": {
          "base_uri": "https://localhost:8080/"
        },
        "id": "OI4Pu_MmC0bk",
        "outputId": "42498458-f681-4ced-952e-04d3dfefa373"
      },
      "execution_count": null,
      "outputs": [
        {
          "output_type": "execute_result",
          "data": {
            "text/plain": [
              "('a', 'b', 'c', 'd', 'e', 'f')"
            ]
          },
          "metadata": {},
          "execution_count": 101
        }
      ]
    },
    {
      "cell_type": "code",
      "source": [
        "any_argument(True, False, True)"
      ],
      "metadata": {
        "colab": {
          "base_uri": "https://localhost:8080/"
        },
        "id": "0kdWXp_pC1Cv",
        "outputId": "a2e57c55-f5fe-45ca-df61-82f3a4bc2164"
      },
      "execution_count": null,
      "outputs": [
        {
          "output_type": "execute_result",
          "data": {
            "text/plain": [
              "(True, False, True)"
            ]
          },
          "metadata": {},
          "execution_count": 102
        }
      ]
    },
    {
      "cell_type": "markdown",
      "source": [
        "# New Section"
      ],
      "metadata": {
        "id": "iIxQ8JP7EMm_"
      }
    },
    {
      "cell_type": "code",
      "source": [
        "# keyWordArgument\n",
        "\n",
        "def any_kwargument(**kwargs):\n",
        "    return kwargs"
      ],
      "metadata": {
        "id": "6tB9GMX-EuUW"
      },
      "execution_count": null,
      "outputs": []
    },
    {
      "cell_type": "code",
      "source": [
        "def any_kwargument1(**deepa):\n",
        "    return deepa"
      ],
      "metadata": {
        "id": "KTooGDc_Fqxl"
      },
      "execution_count": null,
      "outputs": []
    },
    {
      "cell_type": "code",
      "source": [
        "any_kwargument1(name = 'Deepa')"
      ],
      "metadata": {
        "colab": {
          "base_uri": "https://localhost:8080/"
        },
        "id": "8No4mGrIFMjc",
        "outputId": "33ca2b43-236b-44ac-80a9-df5d7aedb9d1"
      },
      "execution_count": null,
      "outputs": [
        {
          "output_type": "execute_result",
          "data": {
            "text/plain": [
              "{'name': 'Deepa'}"
            ]
          },
          "metadata": {},
          "execution_count": 113
        }
      ]
    },
    {
      "cell_type": "code",
      "source": [
        "any_kwargument1(fname = 'harry', lname = 'york')"
      ],
      "metadata": {
        "colab": {
          "base_uri": "https://localhost:8080/"
        },
        "id": "2RqHd37UFVfk",
        "outputId": "f3220de6-de47-4e8f-d0ba-2f97948f1a78"
      },
      "execution_count": null,
      "outputs": [
        {
          "output_type": "execute_result",
          "data": {
            "text/plain": [
              "{'fname': 'harry', 'lname': 'york'}"
            ]
          },
          "metadata": {},
          "execution_count": 112
        }
      ]
    },
    {
      "cell_type": "code",
      "source": [
        "any_kwargument1(fname = 'harry', lname = 'york', city = 'bentonville', State = 'Florida', age = 16, test = True, cost = 11.99)"
      ],
      "metadata": {
        "colab": {
          "base_uri": "https://localhost:8080/"
        },
        "id": "TKXUAUrLFVYR",
        "outputId": "f6a46f61-e472-4067-8da4-a5f9a154e4e2"
      },
      "execution_count": null,
      "outputs": [
        {
          "output_type": "execute_result",
          "data": {
            "text/plain": [
              "{'fname': 'harry',\n",
              " 'lname': 'york',\n",
              " 'city': 'bentonville',\n",
              " 'State': 'Florida',\n",
              " 'age': 16,\n",
              " 'test': True,\n",
              " 'cost': 11.99}"
            ]
          },
          "metadata": {},
          "execution_count": 117
        }
      ]
    },
    {
      "cell_type": "code",
      "source": [],
      "metadata": {
        "id": "-aDo4f9TFVOL"
      },
      "execution_count": null,
      "outputs": []
    }
  ]
}