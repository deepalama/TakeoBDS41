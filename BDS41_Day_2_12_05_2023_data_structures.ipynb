{
  "nbformat": 4,
  "nbformat_minor": 0,
  "metadata": {
    "colab": {
      "provenance": [],
      "collapsed_sections": [
        "8E97BGfV7sP2",
        "S_Vcc2K1D0ul",
        "Vmj4LBLz6vGZ",
        "0v7BbKtICAmQ",
        "PTf-P4cfCBat",
        "N906E7JrBATF",
        "6YWgRrdCzIOs"
      ],
      "toc_visible": true,
      "authorship_tag": "ABX9TyN2gdktji4D281hHCF0DJtw",
      "include_colab_link": true
    },
    "kernelspec": {
      "name": "python3",
      "display_name": "Python 3"
    },
    "language_info": {
      "name": "python"
    }
  },
  "cells": [
    {
      "cell_type": "markdown",
      "metadata": {
        "id": "view-in-github",
        "colab_type": "text"
      },
      "source": [
        "<a href=\"https://colab.research.google.com/github/deepalama/TakeoBDS41/blob/main/BDS41_Day_2_12_05_2023_data_structures.ipynb\" target=\"_parent\"><img src=\"https://colab.research.google.com/assets/colab-badge.svg\" alt=\"Open In Colab\"/></a>"
      ]
    },
    {
      "cell_type": "markdown",
      "metadata": {
        "id": "8E97BGfV7sP2"
      },
      "source": [
        "# Day 2 - 12/05/2023"
      ]
    },
    {
      "cell_type": "markdown",
      "source": [
        "Python Data Type\n",
        "Built-In Functions\n",
        "Slicing & Indexing\n",
        "Positive & Negative"
      ],
      "metadata": {
        "id": "cJ82eXpXDaAX"
      }
    },
    {
      "cell_type": "code",
      "source": [
        "name = 'Adam'\n",
        "print(name)\n",
        "print(type(name))"
      ],
      "metadata": {
        "colab": {
          "base_uri": "https://localhost:8080/"
        },
        "id": "Iwuov35jDZrG",
        "outputId": "9c607072-9734-44bb-fb37-aeb91a2bc270"
      },
      "execution_count": null,
      "outputs": [
        {
          "output_type": "stream",
          "name": "stdout",
          "text": [
            "Adam\n",
            "<class 'str'>\n"
          ]
        }
      ]
    },
    {
      "cell_type": "markdown",
      "source": [
        "1. Standard Data Type\n",
        "  1. Number\n",
        "    1. Integer\n",
        "    2. Float\n",
        "    3. Complex\n",
        "  2. Boolean\n",
        "  3. String\n",
        "\n",
        "2. Data Structure Data Type\n",
        "  1. List\n",
        "  2. Tuple\n",
        "  3. Set\n",
        "  4. Dictionary"
      ],
      "metadata": {
        "id": "Xga_EPDpDp9H"
      }
    },
    {
      "cell_type": "code",
      "source": [
        "# Python is case sensetive\n",
        "# Variables = value (Data Types)\n",
        "mobile = 3336669999\n",
        "variable1 = 99.99\n",
        "variable2 = 12 + 19j # in python it has to be j\n",
        "visa = True\n",
        "visa1 = False\n",
        "# Print Statement + type method/function\n",
        "print(mobile, type(mobile))\n",
        "print(variable1, type(variable1))\n",
        "print(variable2, type(variable2))\n",
        "print(visa, type(visa))\n",
        "print(visa1, type(visa))\n"
      ],
      "metadata": {
        "id": "lWFs0W8ND7NX"
      },
      "execution_count": null,
      "outputs": []
    },
    {
      "cell_type": "markdown",
      "source": [
        "# Built-in Functions of Python List Data Type"
      ],
      "metadata": {
        "id": "S_Vcc2K1D0ul"
      }
    },
    {
      "cell_type": "code",
      "execution_count": null,
      "metadata": {
        "id": "6Lcy-4EO6XjN",
        "colab": {
          "base_uri": "https://localhost:8080/"
        },
        "outputId": "dba062f6-396b-43ab-aad7-9c03c391a62e"
      },
      "outputs": [
        {
          "output_type": "stream",
          "name": "stdout",
          "text": [
            "3336669999 <class 'int'>\n",
            "99.99 <class 'float'>\n",
            "(12+19j) <class 'complex'>\n",
            "True <class 'bool'>\n",
            "False <class 'bool'>\n",
            "['apple', 'banaba', 'cherries', 'dates'] <class 'list'>\n",
            "('sugar', 'tea', 'coffee', 'bread') <class 'tuple'>\n",
            "{False, 1, 2, 3, 4, 'b', 33.44, 'c', 11.22, 44.55, 22.33, 'a', 'd'} <class 'set'>\n",
            "{1: 'apple', 2: 'banana', 3: 'cheries', 4: 'dates'} <class 'dict'>\n",
            "['apple', 'banana', 'cherrirs', 'dates', 'eggplant', 'fig', 'grapes', 'honey mellon']\n",
            "['apple', 'banana', 'cherrirs', 'dates', 'eggplant', 'fig', 'grapes', 'honey mellon', 'mango']\n",
            "['apple', 'banana', 'apricot', 'cherrirs', 'dates', 'eggplant', 'fig', 'grapes', 'honey mellon', 'mango']\n",
            "['apple', 'banana', 'apricot', 'cherrirs', 'dates', 'eggplant', 'fig', 'grapes', 'honey mellon', 'mango']\n",
            "['apple', 'banana', 'apricot', 'cherrirs', 'dates', 'eggplant', 'fig', 'grapes', 'honey mellon', 'mango', 'd', 'r', 'a', 'g', 'o', 'n', ' ', 'f', 'r', 'u', 'i', 't']\n",
            "0\n",
            "4\n",
            "9\n",
            "21\n",
            "['apple', 'banana', 'apricot', 'cherrirs', 'dates', 'eggplant', 'fig', 'grapes', 'honey mellon', 'mango', 'd', 'r', 'a', 'g', 'o', 'n', ' ', 'f', 'r', 'u', 'i']\n",
            "['apple', 'banana', 'apricot', 'cherrirs', 'dates', 'eggplant', 'fig', 'grapes', 'honey mellon', 'mango', 'd', 'r', 'a', 'g', 'o', ' ', 'f', 'r', 'u', 'i']\n",
            "[' ', 'a', 'apple', 'apricot', 'banana', 'cherrirs', 'd', 'dates', 'eggplant', 'f', 'fig', 'g', 'grapes', 'honey mellon', 'i', 'mango', 'o', 'r', 'r', 'u']\n",
            "['u', 'r', 'r', 'o', 'mango', 'i', 'honey mellon', 'grapes', 'g', 'fig', 'f', 'eggplant', 'dates', 'd', 'cherrirs', 'banana', 'apricot', 'apple', 'a', ' ']\n",
            "2\n",
            "mango\n",
            "['u']\n",
            "[]\n",
            "['u', 'r', 'r', 'o', 'mango', 'i', 'honey mellon', 'grapes', 'g', 'fig', 'f', 'eggplant', 'dates', 'd', 'cherrirs', 'banana', 'apricot', 'apple', 'a', ' ']\n",
            "['u', 'r', 'r', 'o', 'mango', 'i', 'honey mellon', 'grapes', 'g', 'fig', 'f', 'eggplant', 'dates', 'd', 'cherrirs', 'banana', 'apricot', 'apple', 'a', ' ']\n"
          ]
        }
      ],
      "source": [
        "# List\n",
        "lst1 = ['apple','banaba','cherries','dates']\n",
        "print(lst1,type(lst1))\n",
        "\n",
        "# Tuples - imutable\n",
        "tup1 = ('sugar', 'tea', 'coffee', 'bread')\n",
        "print(tup1, type(tup1))\n",
        "\n",
        "# Set\n",
        "set1 = {1, 2 , 3, 4, 'a', 'b', 'c', 'd', 11.22, 22.33, 33.44, 44.55, True, False}\n",
        "print(set1, type(set1))\n",
        "\n",
        "# Dictionaries\n",
        "dist1 = {1:'apple', 2:'banana', 3:'cheries', 4:'dates'}\n",
        "print(dist1,type(dist1))\n",
        "\n",
        "lst2 = ['apple', 'banana', 'cherrirs', 'dates', 'eggplant', 'fig', 'grapes', 'honey mellon']\n",
        "print(lst2)\n",
        "\n",
        "lst2.append('mango')\n",
        "print(lst2)\n",
        "\n",
        "lst2.insert(2, 'apricot')\n",
        "print(lst2)\n",
        "\n",
        "lst3 = lst2.copy()\n",
        "print(lst3)\n",
        "\n",
        "lst2.extend('dragon fruit')\n",
        "print(lst2)\n",
        "\n",
        "# index starts from 0 (n-1)\n",
        "print(lst2.index('apple'))\n",
        "print(lst2.index('dates'))\n",
        "print(lst2.index('mango'))\n",
        "print(lst2.index('t'))\n",
        "\n",
        "# lst2.index('apple', 0, 8)\n",
        "# lst2.index('apple', 3, 8)\n",
        "\n",
        "# remove value (default = last item)\n",
        "lst2.pop()\n",
        "print(lst2)\n",
        "\n",
        "lst2.pop(15)\n",
        "print(lst2)\n",
        "\n",
        "lst2.sort()\n",
        "print(lst2)\n",
        "\n",
        "lst2.reverse()\n",
        "print(lst2)\n",
        "\n",
        "countLst2 = lst2.count('r')\n",
        "print(countLst2)\n",
        "\n",
        "# lst2.clear()\n",
        "\n",
        "print(lst2[4])\n",
        "\n",
        "P1 = lst2[0:5:6]\n",
        "print(P1)\n",
        "\n",
        "print(lst2[4:0:7])\n",
        "\n",
        "lst2[::]\n",
        "print(lst2)\n",
        "\n",
        "lst2[::-1]\n",
        "print(lst2)"
      ]
    },
    {
      "cell_type": "markdown",
      "metadata": {
        "id": "Vmj4LBLz6vGZ"
      },
      "source": [
        "# Day 2 - 12/05/2023 assignment - list"
      ]
    },
    {
      "cell_type": "code",
      "execution_count": null,
      "metadata": {
        "colab": {
          "base_uri": "https://localhost:8080/"
        },
        "id": "vdNgy1Sj6v6O",
        "outputId": "4c6d4af2-f26f-466c-a8b0-6e87db8b64c7"
      },
      "outputs": [
        {
          "output_type": "stream",
          "name": "stdout",
          "text": [
            "<class 'list'>\n",
            "length of list =  12\n",
            "['Audi', 'BMW', 'Chevy', 'Ford', 'Hyundai', 'Kia', 'Toyota', 'Lexus', 'Honda', 'Nissan', 'Jeep', 'volvo']\n"
          ]
        }
      ],
      "source": [
        "# Day 2 - 12/05/2023 assignment\n",
        "\n",
        "# List\n",
        "\n",
        "list11 = ['Audi', 'BMW', 'Chevy', 'Ford', 'Hyundai', 'Kia', 'Toyota', 'Lexus', 'Honda', 'Nissan', 'Jeep', 'volvo']\n",
        "\n",
        "print(type(list11))\n",
        "print('length of list = ', len(list11))\n",
        "print(list11)\n"
      ]
    },
    {
      "cell_type": "code",
      "source": [
        "print('after append')\n",
        "list11.append('volvo')\n",
        "print(list11)"
      ],
      "metadata": {
        "colab": {
          "base_uri": "https://localhost:8080/"
        },
        "id": "WQmhBR7OQ4ZC",
        "outputId": "18d2b998-81ab-4d0b-8e00-b70533e61c09"
      },
      "execution_count": null,
      "outputs": [
        {
          "output_type": "stream",
          "name": "stdout",
          "text": [
            "after append\n",
            "['Audi', 'BMW', 'Chevy', 'Ford', 'Hyundai', 'Kia', 'Toyota', 'Lexus', 'Honda', 'Nissan', 'Jeep', 'volvo', 'volvo']\n"
          ]
        }
      ]
    },
    {
      "cell_type": "code",
      "source": [
        "print('Index values' )\n",
        "print(list11.index('Audi'))\n",
        "print(list11.index('BMW'))\n",
        "print(list11.index('Chevy'))\n",
        "print(list11.index('Ford'))\n",
        "print(list11.index('Hyundai'))\n",
        "print(list11.index('Kia'))\n",
        "print(list11.index('Toyota'))\n",
        "print(list11.index('Lexus'))\n",
        "print(list11.index('Honda'))\n",
        "print(list11.index('Nissan'))\n",
        "print(list11.index('Jeep'))\n",
        "print(list11.index('volvo'))\n",
        "print(list11.index('volvo'))"
      ],
      "metadata": {
        "colab": {
          "base_uri": "https://localhost:8080/"
        },
        "id": "98a9s9GLQ4RJ",
        "outputId": "c7e0d717-5703-4f86-cd29-92c4df867db4"
      },
      "execution_count": null,
      "outputs": [
        {
          "output_type": "stream",
          "name": "stdout",
          "text": [
            "Index values\n",
            "0\n",
            "1\n",
            "2\n",
            "3\n",
            "4\n",
            "5\n",
            "6\n",
            "7\n",
            "8\n",
            "9\n",
            "10\n",
            "11\n",
            "11\n"
          ]
        }
      ]
    },
    {
      "cell_type": "code",
      "source": [
        "list11 = ['Audi', 'BMW', 'Chevy', 'Ford', 'Hyundai', 'Kia', 'Toyota', 'Lexus', 'Honda', 'Nissan', 'Jeep', 'volvo']\n",
        "\n",
        "print('Count function' )\n",
        "print('there are ', list11.count('volvo'), 'volvo in list11')"
      ],
      "metadata": {
        "colab": {
          "base_uri": "https://localhost:8080/"
        },
        "id": "2roKKFrfQ4Hw",
        "outputId": "86636293-1398-46ed-e21f-06a1684ccf79"
      },
      "execution_count": null,
      "outputs": [
        {
          "output_type": "stream",
          "name": "stdout",
          "text": [
            "Count function\n",
            "there are  1 volvo in list11\n"
          ]
        }
      ]
    },
    {
      "cell_type": "code",
      "source": [
        "print('Copy function' )\n",
        "list12 = list11.copy()\n",
        "print(list11)\n",
        "print('This is copied list ', list12)\n"
      ],
      "metadata": {
        "colab": {
          "base_uri": "https://localhost:8080/"
        },
        "id": "kW-451SiWTms",
        "outputId": "60db966d-791c-4c3b-df01-904148c8fea6"
      },
      "execution_count": null,
      "outputs": [
        {
          "output_type": "stream",
          "name": "stdout",
          "text": [
            "Copy function\n",
            "['Audi', 'BMW', 'Chevy', 'Ford', 'Hyundai', 'Kia', 'Toyota', 'Lexus', 'Honda', 'Nissan', 'Jeep', 'volvo']\n",
            "This is copied list  ['Audi', 'BMW', 'Chevy', 'Ford', 'Hyundai', 'Kia', 'Toyota', 'Lexus', 'Honda', 'Nissan', 'Jeep', 'volvo']\n"
          ]
        }
      ]
    },
    {
      "cell_type": "code",
      "source": [
        "print('Insert function')\n",
        "list11.insert(5, 'Tesla')\n",
        "print(list11)\n"
      ],
      "metadata": {
        "colab": {
          "base_uri": "https://localhost:8080/"
        },
        "id": "v8g4ePMrWTNm",
        "outputId": "20bfef06-dbf9-4f46-c131-4efcce979fcb"
      },
      "execution_count": null,
      "outputs": [
        {
          "output_type": "stream",
          "name": "stdout",
          "text": [
            "Insert function\n",
            "['Audi', 'BMW', 'Chevy', 'Ford', 'Hyundai', 'Tesla', 'Kia', 'Toyota', 'Lexus', 'Honda', 'Nissan', 'Jeep', 'volvo']\n"
          ]
        }
      ]
    },
    {
      "cell_type": "code",
      "source": [
        "print('Extend function' )\n",
        "list11.extend('Kia')\n",
        "print(list11)\n",
        "print()\n",
        "\n",
        "list11.extend(list12)\n",
        "print(list11)"
      ],
      "metadata": {
        "colab": {
          "base_uri": "https://localhost:8080/"
        },
        "id": "W53EVHacQ37g",
        "outputId": "664850a7-f4d6-4d63-d387-439fd57a9ee8"
      },
      "execution_count": null,
      "outputs": [
        {
          "output_type": "stream",
          "name": "stdout",
          "text": [
            "Extend function\n",
            "['Audi', 'BMW', 'Chevy', 'Ford', 'Hyundai', 'Tesla', 'Kia', 'Toyota', 'Lexus', 'Honda', 'Nissan', 'Jeep', 'volvo', 'K', 'i', 'a']\n",
            "\n",
            "['Audi', 'BMW', 'Chevy', 'Ford', 'Hyundai', 'Tesla', 'Kia', 'Toyota', 'Lexus', 'Honda', 'Nissan', 'Jeep', 'volvo', 'K', 'i', 'a', 'Audi', 'BMW', 'Chevy', 'Ford', 'Hyundai', 'Kia', 'Toyota', 'Lexus', 'Honda', 'Nissan', 'Jeep', 'volvo']\n"
          ]
        }
      ]
    },
    {
      "cell_type": "code",
      "source": [
        "print('Pop function')\n",
        "list11.pop()\n",
        "print(list11)\n",
        "print()\n",
        "\n",
        "list11.pop(2)\n",
        "print(list11)"
      ],
      "metadata": {
        "colab": {
          "base_uri": "https://localhost:8080/"
        },
        "id": "KXBToR0TV0pU",
        "outputId": "20655c8a-0e72-4508-fb24-a60da6a4ed15"
      },
      "execution_count": null,
      "outputs": [
        {
          "output_type": "stream",
          "name": "stdout",
          "text": [
            "Pop function\n",
            "['Audi', 'BMW', 'Chevy', 'Ford', 'Hyundai', 'Tesla', 'Kia', 'Toyota', 'Lexus', 'Honda', 'Nissan', 'Jeep', 'volvo', 'K', 'i', 'a', 'Audi', 'BMW', 'Chevy', 'Ford', 'Hyundai', 'Kia', 'Toyota', 'Lexus', 'Honda', 'Nissan', 'Jeep']\n",
            "\n",
            "['Audi', 'BMW', 'Ford', 'Hyundai', 'Tesla', 'Kia', 'Toyota', 'Lexus', 'Honda', 'Nissan', 'Jeep', 'volvo', 'K', 'i', 'a', 'Audi', 'BMW', 'Chevy', 'Ford', 'Hyundai', 'Kia', 'Toyota', 'Lexus', 'Honda', 'Nissan', 'Jeep']\n"
          ]
        }
      ]
    },
    {
      "cell_type": "code",
      "source": [
        "print('Remove function')\n",
        "list11.remove('K')\n",
        "list11.remove('i')\n",
        "list11.remove('a')\n",
        "print(list11)"
      ],
      "metadata": {
        "colab": {
          "base_uri": "https://localhost:8080/"
        },
        "id": "RlT4J21GV0mX",
        "outputId": "8098bc24-8461-4ee0-81af-3dbdd29b15be"
      },
      "execution_count": null,
      "outputs": [
        {
          "output_type": "stream",
          "name": "stdout",
          "text": [
            "Remove function\n",
            "['Audi', 'BMW', 'Ford', 'Hyundai', 'Tesla', 'Kia', 'Toyota', 'Lexus', 'Honda', 'Nissan', 'Jeep', 'volvo', 'Audi', 'BMW', 'Chevy', 'Ford', 'Hyundai', 'Kia', 'Toyota', 'Lexus', 'Honda', 'Nissan', 'Jeep']\n"
          ]
        }
      ]
    },
    {
      "cell_type": "code",
      "source": [
        "print('Sort function')\n",
        "list11.sort()\n",
        "print(list11)\n",
        "print()\n",
        "\n",
        "list11.sort(reverse=True)\n",
        "print(list11)\n",
        "print()\n",
        "\n",
        "list11.sort(reverse=False)\n",
        "print(list11)"
      ],
      "metadata": {
        "colab": {
          "base_uri": "https://localhost:8080/"
        },
        "id": "IRSnaAIxV0jg",
        "outputId": "a8d2caf9-5131-4ce3-a228-70dc9a62d69c"
      },
      "execution_count": null,
      "outputs": [
        {
          "output_type": "stream",
          "name": "stdout",
          "text": [
            "Sort function\n",
            "['Audi', 'Audi', 'BMW', 'BMW', 'Chevy', 'Ford', 'Ford', 'Honda', 'Honda', 'Hyundai', 'Hyundai', 'Jeep', 'Jeep', 'Kia', 'Kia', 'Lexus', 'Lexus', 'Nissan', 'Nissan', 'Tesla', 'Toyota', 'Toyota', 'volvo']\n",
            "\n",
            "['volvo', 'Toyota', 'Toyota', 'Tesla', 'Nissan', 'Nissan', 'Lexus', 'Lexus', 'Kia', 'Kia', 'Jeep', 'Jeep', 'Hyundai', 'Hyundai', 'Honda', 'Honda', 'Ford', 'Ford', 'Chevy', 'BMW', 'BMW', 'Audi', 'Audi']\n",
            "\n",
            "['Audi', 'Audi', 'BMW', 'BMW', 'Chevy', 'Ford', 'Ford', 'Honda', 'Honda', 'Hyundai', 'Hyundai', 'Jeep', 'Jeep', 'Kia', 'Kia', 'Lexus', 'Lexus', 'Nissan', 'Nissan', 'Tesla', 'Toyota', 'Toyota', 'volvo']\n"
          ]
        }
      ]
    },
    {
      "cell_type": "code",
      "source": [
        "print('Reverse function')\n",
        "list11.reverse()\n",
        "print(list11)\n",
        "print(list12)"
      ],
      "metadata": {
        "colab": {
          "base_uri": "https://localhost:8080/"
        },
        "id": "GJuPN589V0gH",
        "outputId": "714587ed-c5ca-4abe-8be2-de224fa927ef"
      },
      "execution_count": null,
      "outputs": [
        {
          "output_type": "stream",
          "name": "stdout",
          "text": [
            "Reverse function\n",
            "['volvo', 'Toyota', 'Toyota', 'Tesla', 'Nissan', 'Nissan', 'Lexus', 'Lexus', 'Kia', 'Kia', 'Jeep', 'Jeep', 'Hyundai', 'Hyundai', 'Honda', 'Honda', 'Ford', 'Ford', 'Chevy', 'BMW', 'BMW', 'Audi', 'Audi']\n",
            "['Audi', 'BMW', 'Chevy', 'Ford', 'Hyundai', 'Kia', 'Toyota', 'Lexus', 'Honda', 'Nissan', 'Jeep', 'volvo']\n"
          ]
        }
      ]
    },
    {
      "cell_type": "code",
      "source": [
        "print('Clear function')\n",
        "list11.clear()\n",
        "print(list11)\n",
        "print(list12)"
      ],
      "metadata": {
        "colab": {
          "base_uri": "https://localhost:8080/"
        },
        "id": "JkRKtipnV0cb",
        "outputId": "726cff86-bcc5-4ac6-d226-f6c8340a8069"
      },
      "execution_count": null,
      "outputs": [
        {
          "output_type": "stream",
          "name": "stdout",
          "text": [
            "Clear function\n",
            "[]\n",
            "['Audi', 'BMW', 'Chevy', 'Ford', 'Hyundai', 'Kia', 'Toyota', 'Lexus', 'Honda', 'Nissan', 'Jeep', 'volvo']\n"
          ]
        }
      ]
    },
    {
      "cell_type": "code",
      "source": [
        "list11 = ['Audi', 'BMW', 'Chevy', 'Ford', 'Hyundai', 'Kia', 'Toyota', 'Lexus', 'Honda', 'Nissan', 'Jeep', 'volvo']\n",
        "\n",
        "print('Delete function')\n",
        "del list11\n",
        "\n",
        "print(list11)"
      ],
      "metadata": {
        "id": "FyD0AWavV0Wu"
      },
      "execution_count": null,
      "outputs": []
    },
    {
      "cell_type": "markdown",
      "metadata": {
        "id": "0v7BbKtICAmQ"
      },
      "source": [
        "# Day 2 - 12/05/2023 assignment - Tuples"
      ]
    },
    {
      "cell_type": "code",
      "execution_count": null,
      "metadata": {
        "id": "YNwnx0uG_7zZ",
        "colab": {
          "base_uri": "https://localhost:8080/"
        },
        "outputId": "6d3ec42a-1ed8-42c9-f08d-c299db3eaf86"
      },
      "outputs": [
        {
          "output_type": "stream",
          "name": "stdout",
          "text": [
            "<class 'tuple'>\n",
            "length of list =  11\n",
            "('Audi', 'BMW', 'Chevy', 'Ford', 'Hyundai', 'Kia', 'Toyota', 'Lexus', 'Honda', 'Nissan', 'Jeep')\n",
            "\n",
            "Audi\n",
            "BMW\n",
            "Kia\n",
            "Jeep\n",
            "Honda\n",
            "\n",
            "('Chevy', 'Ford', 'Hyundai', 'Kia', 'Toyota')\n",
            "('Audi', 'BMW', 'Chevy', 'Ford', 'Hyundai')\n",
            "('Lexus', 'Honda', 'Nissan', 'Jeep')\n"
          ]
        }
      ],
      "source": [
        "# Tuples\n",
        "\n",
        "tuples11 = ('Audi', 'BMW', 'Chevy', 'Ford', 'Hyundai', 'Kia', 'Toyota', 'Lexus', 'Honda', 'Nissan', 'Jeep')\n",
        "\n",
        "print(type(tuples11))\n",
        "print('length of list = ', len(tuples11))\n",
        "print(tuples11)\n",
        "print()\n",
        "\n",
        "print(tuples11[0])\n",
        "print(tuples11[1])\n",
        "print(tuples11[5])\n",
        "print(tuples11[10])\n",
        "print(tuples11[-3])\n",
        "print()\n",
        "\n",
        "print(tuples11[2:7])\n",
        "print(tuples11[:5])\n",
        "print(tuples11[7:])"
      ]
    },
    {
      "cell_type": "code",
      "source": [
        "print(tuples11.count('Chevy'))\n",
        "print(tuples11.count('Kia'))\n",
        "print(tuples11.count('Jeep'))"
      ],
      "metadata": {
        "colab": {
          "base_uri": "https://localhost:8080/"
        },
        "id": "eukHul9kXYCS",
        "outputId": "b48318c1-ed2c-41ee-bd0e-f4c35b9cb8b4"
      },
      "execution_count": null,
      "outputs": [
        {
          "output_type": "stream",
          "name": "stdout",
          "text": [
            "1\n",
            "1\n",
            "1\n"
          ]
        }
      ]
    },
    {
      "cell_type": "code",
      "source": [
        "print(tuples11.index('Audi'))\n",
        "print(tuples11.index('Jeep'))\n",
        "print(tuples11.index('Kia'))\n",
        "print(tuples11.index('Nissan'))\n",
        "print(tuples11.index('Chevy'))"
      ],
      "metadata": {
        "colab": {
          "base_uri": "https://localhost:8080/"
        },
        "id": "I4Yl2b__bror",
        "outputId": "276a6e93-fc11-4a70-ab00-11268b0fd01e"
      },
      "execution_count": null,
      "outputs": [
        {
          "output_type": "stream",
          "name": "stdout",
          "text": [
            "0\n",
            "10\n",
            "5\n",
            "9\n",
            "2\n"
          ]
        }
      ]
    },
    {
      "cell_type": "code",
      "source": [
        "tuples11.add()"
      ],
      "metadata": {
        "id": "hYpwG7IpEcWW"
      },
      "execution_count": null,
      "outputs": []
    },
    {
      "cell_type": "markdown",
      "metadata": {
        "id": "PTf-P4cfCBat"
      },
      "source": [
        "# Day 2 - 12/05/2023 assignment - set"
      ]
    },
    {
      "cell_type": "code",
      "execution_count": 4,
      "metadata": {
        "id": "1IFtGLNe_5Gm",
        "colab": {
          "base_uri": "https://localhost:8080/"
        },
        "outputId": "d1eaf897-328a-41e7-e45f-91ba33cf8872"
      },
      "outputs": [
        {
          "output_type": "stream",
          "name": "stdout",
          "text": [
            "{'Hyundai', 'Chevy', 'Jeep', 'Lexus', 'Honda', 'Nissan', 'GM', 'Kia', 'Audi', 'BMW', 'Toyota', 'Ford'}\n"
          ]
        }
      ],
      "source": [
        "# Set\n",
        "\n",
        "set11 = {'Audi', 'BMW', 'Chevy', 'Ford', 'Hyundai', 'Kia', 'Toyota', 'Lexus', 'Honda', 'Nissan', 'Jeep'}\n",
        "\n",
        "set11.add('GM')\n",
        "\n",
        "print(set11)"
      ]
    },
    {
      "cell_type": "code",
      "source": [
        "set12 = set11.copy()\n",
        "\n",
        "print(set11)\n",
        "print(set12)"
      ],
      "metadata": {
        "id": "ldGygZqcz2cO",
        "colab": {
          "base_uri": "https://localhost:8080/"
        },
        "outputId": "ff5e9332-1d8e-4f84-b9b2-5aaecd4aacc6"
      },
      "execution_count": 5,
      "outputs": [
        {
          "output_type": "stream",
          "name": "stdout",
          "text": [
            "{'Hyundai', 'Chevy', 'Jeep', 'Lexus', 'Honda', 'Nissan', 'GM', 'Kia', 'Audi', 'BMW', 'Toyota', 'Ford'}\n",
            "{'Hyundai', 'Chevy', 'Jeep', 'Lexus', 'Honda', 'Nissan', 'GM', 'Kia', 'Audi', 'BMW', 'Toyota', 'Ford'}\n"
          ]
        }
      ]
    },
    {
      "cell_type": "code",
      "source": [
        "set12.pop()\n",
        "\n",
        "print(set12)"
      ],
      "metadata": {
        "id": "n4RQH8DSzxlv",
        "colab": {
          "base_uri": "https://localhost:8080/"
        },
        "outputId": "b13c08d5-b927-47b7-8c30-6b589c1c67b4"
      },
      "execution_count": 10,
      "outputs": [
        {
          "output_type": "stream",
          "name": "stdout",
          "text": [
            "{'Lexus', 'Honda', 'Nissan', 'GM', 'Kia', 'Audi', 'BMW', 'Toyota', 'Ford'}\n"
          ]
        }
      ]
    },
    {
      "cell_type": "code",
      "source": [
        "set13 = set11.difference(set12)\n",
        "\n",
        "print(set13)"
      ],
      "metadata": {
        "id": "FliyeAP4zxdI",
        "colab": {
          "base_uri": "https://localhost:8080/"
        },
        "outputId": "74bba7f2-bba1-4bad-8d87-46b65f7f55b7"
      },
      "execution_count": 11,
      "outputs": [
        {
          "output_type": "stream",
          "name": "stdout",
          "text": [
            "{'Jeep'}\n"
          ]
        }
      ]
    },
    {
      "cell_type": "code",
      "source": [
        "set11.clear()\n",
        "\n",
        "print(set11)"
      ],
      "metadata": {
        "id": "fDMGupweznIv",
        "colab": {
          "base_uri": "https://localhost:8080/"
        },
        "outputId": "9533fb6b-7190-47d5-cc65-d28430ea6f28"
      },
      "execution_count": 20,
      "outputs": [
        {
          "output_type": "stream",
          "name": "stdout",
          "text": [
            "set()\n"
          ]
        }
      ]
    },
    {
      "cell_type": "markdown",
      "metadata": {
        "id": "N906E7JrBATF"
      },
      "source": [
        "# Day 2 - 12/05/2023 assignment - dictionaries"
      ]
    },
    {
      "cell_type": "code",
      "execution_count": 22,
      "metadata": {
        "id": "N1iC4Lrz_22o",
        "colab": {
          "base_uri": "https://localhost:8080/"
        },
        "outputId": "e4614cb4-eb8e-4d34-d1ee-b6ae4fe2a8e4"
      },
      "outputs": [
        {
          "output_type": "stream",
          "name": "stdout",
          "text": [
            "{'name': 'Sam Walton', 'age': '39', 'phone no.': 3336669999, 'email': 'sam.walton@gmail.com'}\n",
            "{'name': 'Sam Walton', 'age': '39', 'phone no.': 3336669999, 'email': 'sam.walton@gmail.com'}\n"
          ]
        }
      ],
      "source": [
        "# Dictionaries\n",
        "\n",
        "dict11 = {\n",
        "    \"name\" : \"Sam Walton\",\n",
        "    \"age\" : \"39\",\n",
        "    \"phone no.\" : 3336669999,\n",
        "    \"email\" : \"sam.walton@gmail.com\"\n",
        "}\n",
        "\n",
        "dict12 = dict11.copy()\n",
        "print(dict11)\n",
        "print(dict12)"
      ]
    },
    {
      "cell_type": "code",
      "source": [
        "dict11 = {\n",
        "    \"name\" : \"Sam Walton\",\n",
        "    \"age\" : \"39\",\n",
        "    \"phone no.\" : 3336669999,\n",
        "    \"email\" : \"sam.walton@gmail.com\"\n",
        "}\n",
        "\n",
        "removed_value = dict11.pop(\"age\")\n",
        "\n",
        "print(dict11)\n",
        "print(removed_value)"
      ],
      "metadata": {
        "id": "y0PpY8NsxF7g",
        "colab": {
          "base_uri": "https://localhost:8080/"
        },
        "outputId": "2f319030-4b9a-491c-c81d-80c16c74ad42"
      },
      "execution_count": 24,
      "outputs": [
        {
          "output_type": "stream",
          "name": "stdout",
          "text": [
            "{'name': 'Sam Walton', 'phone no.': 3336669999, 'email': 'sam.walton@gmail.com'}\n",
            "39\n"
          ]
        }
      ]
    },
    {
      "cell_type": "code",
      "source": [
        "dict11.clear()\n",
        "\n",
        "print(dict11)"
      ],
      "metadata": {
        "colab": {
          "base_uri": "https://localhost:8080/"
        },
        "id": "sERnI8UrxSRo",
        "outputId": "2cd547c4-6a50-4543-93c5-5f7b04d8b55f"
      },
      "execution_count": 26,
      "outputs": [
        {
          "output_type": "stream",
          "name": "stdout",
          "text": [
            "{}\n"
          ]
        }
      ]
    },
    {
      "cell_type": "markdown",
      "source": [
        "# Day 2 - 12/05/2023 assignment - String"
      ],
      "metadata": {
        "id": "6YWgRrdCzIOs"
      }
    },
    {
      "cell_type": "code",
      "source": [
        "string1 = 'Hello World! welcome to python bootcamp.'\n",
        "\n",
        "print(string1)"
      ],
      "metadata": {
        "id": "4Ckz8ru2zT5o",
        "colab": {
          "base_uri": "https://localhost:8080/"
        },
        "outputId": "3391e0cc-0ae8-4419-8411-d1e034b179a5"
      },
      "execution_count": 28,
      "outputs": [
        {
          "output_type": "stream",
          "name": "stdout",
          "text": [
            "Hello World! welcome to python bootcamp.\n"
          ]
        }
      ]
    }
  ]
}