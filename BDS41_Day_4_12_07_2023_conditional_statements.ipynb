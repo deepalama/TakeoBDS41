{
  "nbformat": 4,
  "nbformat_minor": 0,
  "metadata": {
    "colab": {
      "provenance": [],
      "collapsed_sections": [
        "JZrxH7mrAoYO",
        "zfXVYiX88L9i",
        "AvBvb2Fz8Mh3",
        "mI2ZjA1sIStk",
        "1O62qzZD8NDx",
        "vVR7TEEm8mx3"
      ],
      "toc_visible": true,
      "authorship_tag": "ABX9TyP40pcJe+Gzx3byPN7b0pt7",
      "include_colab_link": true
    },
    "kernelspec": {
      "name": "python3",
      "display_name": "Python 3"
    },
    "language_info": {
      "name": "python"
    }
  },
  "cells": [
    {
      "cell_type": "markdown",
      "metadata": {
        "id": "view-in-github",
        "colab_type": "text"
      },
      "source": [
        "<a href=\"https://colab.research.google.com/github/deepalama/TakeoBDS41/blob/main/BDS41_Day_4_12_07_2023_conditional_statements.ipynb\" target=\"_parent\"><img src=\"https://colab.research.google.com/assets/colab-badge.svg\" alt=\"Open In Colab\"/></a>"
      ]
    },
    {
      "cell_type": "markdown",
      "source": [
        "# Controlling Program flow with control statements"
      ],
      "metadata": {
        "id": "f-LWznJx7yXr"
      }
    },
    {
      "cell_type": "markdown",
      "source": [
        "# IF"
      ],
      "metadata": {
        "id": "JZrxH7mrAoYO"
      }
    },
    {
      "cell_type": "code",
      "execution_count": null,
      "metadata": {
        "colab": {
          "base_uri": "https://localhost:8080/"
        },
        "id": "8145JiB07fW8",
        "outputId": "54617ca8-6e8f-45bb-f1b6-0ed0491704d2"
      },
      "outputs": [
        {
          "output_type": "stream",
          "name": "stdout",
          "text": [
            "a is less than b\n"
          ]
        }
      ],
      "source": [
        "a = 10\n",
        "b = 20\n",
        "\n",
        "if a < b: # True\n",
        "  print('a is less than b')\n",
        "\n",
        "if a > b: # false ( will not print)\n",
        "  print('a is greater than b' )"
      ]
    },
    {
      "cell_type": "code",
      "source": [
        "a = 10\n",
        "b = 20\n",
        "c = 30\n",
        "\n",
        "if (a < b) and (b < c):\n",
        "  print(\"a is smaller than b and c\")\n",
        "\n",
        "if (a < b) or (b < c):\n",
        "  print(\"a is less than b or c\")"
      ],
      "metadata": {
        "colab": {
          "base_uri": "https://localhost:8080/"
        },
        "id": "-SsU5FSvCPdr",
        "outputId": "57a1ce53-aeca-4e68-a928-609e91ec25b5"
      },
      "execution_count": null,
      "outputs": [
        {
          "output_type": "stream",
          "name": "stdout",
          "text": [
            "a is smaller than b and c\n",
            "a is less than b or c\n"
          ]
        }
      ]
    },
    {
      "cell_type": "code",
      "source": [
        "a = 10\n",
        "b = 20\n",
        "c = 30\n",
        "\n",
        "if (a < b) or (b < c) and (a < c):\n",
        "  print(\"Condition is True\")\n"
      ],
      "metadata": {
        "colab": {
          "base_uri": "https://localhost:8080/"
        },
        "id": "oLr24xSyCb4Q",
        "outputId": "7ec6a5af-9d41-4d0d-c326-815c0741a861"
      },
      "execution_count": null,
      "outputs": [
        {
          "output_type": "stream",
          "name": "stdout",
          "text": [
            "Condition is True\n"
          ]
        }
      ]
    },
    {
      "cell_type": "code",
      "source": [
        "a = 10\n",
        "b = 20\n",
        "c = 30\n",
        "\n",
        "if ((a < b) and (b > c)) or(a < c):\n",
        "  print(\"Condition is True\")"
      ],
      "metadata": {
        "id": "9WtoWeW9C0ug"
      },
      "execution_count": null,
      "outputs": []
    },
    {
      "cell_type": "markdown",
      "source": [
        "# IF else"
      ],
      "metadata": {
        "id": "zfXVYiX88L9i"
      }
    },
    {
      "cell_type": "code",
      "source": [
        "a = 35\n",
        "b = 20\n",
        "\n",
        "if a < b: # True\n",
        "  print('a is less than b')\n",
        "else : # False\n",
        "  print('a is greater than b')\n",
        "\n",
        "x = 30\n",
        "y = 5\n",
        "\n",
        "if x < y: # False\n",
        "  print('x is less than y')\n",
        "else : # True\n",
        "  print('x is greater than y')"
      ],
      "metadata": {
        "colab": {
          "base_uri": "https://localhost:8080/"
        },
        "id": "Og80UcDD8OAN",
        "outputId": "9fc329cb-1f81-4d61-c2b1-f0b35e7cb2c2"
      },
      "execution_count": null,
      "outputs": [
        {
          "output_type": "stream",
          "name": "stdout",
          "text": [
            "a is greater than b\n",
            "x is greater than y\n"
          ]
        }
      ]
    },
    {
      "cell_type": "code",
      "source": [
        "a = 40\n",
        "b = 30\n",
        "c = 20\n",
        "\n",
        "if (a < b) and (b < c):\n",
        "  print(\"a is smaller than b and c\")\n",
        "else :\n",
        "  print(\"a is greater than b and c\")\n",
        "\n",
        "if (a < b) or (b < c):\n",
        "  print(\"a is less than b or c\")\n",
        "else:\n",
        "  print(\"a is greater than b or c\")"
      ],
      "metadata": {
        "colab": {
          "base_uri": "https://localhost:8080/"
        },
        "id": "DahzYzwsDLAB",
        "outputId": "30b7bb11-fce2-4b5c-ebf5-1f2a66882476"
      },
      "execution_count": null,
      "outputs": [
        {
          "output_type": "stream",
          "name": "stdout",
          "text": [
            "a is greater than b and c\n",
            "a is greater than b or c\n"
          ]
        }
      ]
    },
    {
      "cell_type": "code",
      "source": [
        "a = 40\n",
        "b = 20\n",
        "c = 30\n",
        "\n",
        "if (a < b) or (b < c) and (a < c):\n",
        "  print(\"Condition is True\")\n",
        "else:\n",
        "  print(\"Condition is False\")"
      ],
      "metadata": {
        "colab": {
          "base_uri": "https://localhost:8080/"
        },
        "id": "CwO-Bt6gDK4z",
        "outputId": "87343d35-19db-4b34-9168-38e7eb2fd862"
      },
      "execution_count": null,
      "outputs": [
        {
          "output_type": "stream",
          "name": "stdout",
          "text": [
            "Condition is False\n"
          ]
        }
      ]
    },
    {
      "cell_type": "code",
      "source": [
        "a = 10\n",
        "b = 20\n",
        "c = 30\n",
        "\n",
        "if ((a < b) and (b > c)) and (a < c):\n",
        "  print(\"Condition is True\")\n",
        "else:\n",
        "  print(\"Condition is False\")"
      ],
      "metadata": {
        "colab": {
          "base_uri": "https://localhost:8080/"
        },
        "id": "oXz4HAKxDK0n",
        "outputId": "7e151e6a-7327-4f7b-f071-dfb242367cd2"
      },
      "execution_count": null,
      "outputs": [
        {
          "output_type": "stream",
          "name": "stdout",
          "text": [
            "Condition is False\n"
          ]
        }
      ]
    },
    {
      "cell_type": "markdown",
      "source": [
        "# elif"
      ],
      "metadata": {
        "id": "AvBvb2Fz8Mh3"
      }
    },
    {
      "cell_type": "code",
      "source": [
        "a = 10\n",
        "b = 20\n",
        "c = 30\n",
        "\n",
        "if a > b:\n",
        "  print('a is greater than b')\n",
        "elif b > c:\n",
        "  print('b is greater than c')\n",
        "elif a > c:\n",
        "  print('a is greater than c')\n",
        "else:\n",
        "  print('a is the smallest in the group')"
      ],
      "metadata": {
        "colab": {
          "base_uri": "https://localhost:8080/"
        },
        "id": "hK-rIHDnF5dQ",
        "outputId": "d1db6017-7cd0-4bce-9752-6ecab2376beb"
      },
      "execution_count": null,
      "outputs": [
        {
          "output_type": "stream",
          "name": "stdout",
          "text": [
            "a is the smallest in the group\n"
          ]
        }
      ]
    },
    {
      "cell_type": "code",
      "source": [
        "a = 30\n",
        "b = 30\n",
        "c = 30\n",
        "\n",
        "if (a < b) and (a < c):\n",
        "  print(\"a is the greatest in the group\")\n",
        "\n",
        "elif (a > b) and (a < c):\n",
        "  print(\"a is greater than b but smaller than c\")\n",
        "\n",
        "elif (a < b) and (a > c):\n",
        "  print(\"a is smaller than b but greater tha c\")\n",
        "\n",
        "else:\n",
        "  print(\"a, b and c are equal\")"
      ],
      "metadata": {
        "colab": {
          "base_uri": "https://localhost:8080/"
        },
        "id": "tdRf82Gp8OmP",
        "outputId": "abd380ee-e781-4c59-dc4b-48fcf394e3f7"
      },
      "execution_count": null,
      "outputs": [
        {
          "output_type": "stream",
          "name": "stdout",
          "text": [
            "a, b and c are equal\n"
          ]
        }
      ]
    },
    {
      "cell_type": "markdown",
      "source": [
        "# Nested if"
      ],
      "metadata": {
        "id": "mI2ZjA1sIStk"
      }
    },
    {
      "cell_type": "code",
      "source": [
        "a = 10\n",
        "b = 100\n",
        "\n",
        "if a < 20:\n",
        "  print('a is less than 20')\n",
        "  if a < 90:\n",
        "    print('a is less than 90')\n",
        "    if a == 10:\n",
        "      print('value of a = 10')"
      ],
      "metadata": {
        "colab": {
          "base_uri": "https://localhost:8080/"
        },
        "id": "I6g2g11HIRaa",
        "outputId": "bf289b5f-9787-430f-eb82-ed196d615b0e"
      },
      "execution_count": null,
      "outputs": [
        {
          "output_type": "stream",
          "name": "stdout",
          "text": [
            "a is less than 20\n",
            "a is less than 90\n",
            "value of a = 10\n"
          ]
        }
      ]
    },
    {
      "cell_type": "code",
      "source": [
        "a = 10\n",
        "b = 100\n",
        "\n",
        "if a < b:\n",
        "  print('a is less than b')\n",
        "  if a < 90:\n",
        "    print('a is less than 90')\n",
        "    if a < 60:\n",
        "     print('a is less than 60')\n",
        "     if a < 30:\n",
        "      print('a is less than 30')\n",
        "      if a < 15:\n",
        "       print('a is less than 15')\n",
        "       if a > -1:\n",
        "        print('a is gerater than -1')\n",
        "        if a > 7:\n",
        "          print('a is greater than 7')\n",
        "          if a > 8:\n",
        "            print('a is greater than 8')\n",
        "            if a > 9:\n",
        "              print('a is greater than 9')\n",
        "              if a > 10:\n",
        "                print('a is greater than 10')\n",
        "              elif a == 10:\n",
        "                print('value of a = 10')"
      ],
      "metadata": {
        "colab": {
          "base_uri": "https://localhost:8080/"
        },
        "id": "vN40wL1FJND_",
        "outputId": "e4bf2bc0-7794-4f48-e2e9-7ff25b30f774"
      },
      "execution_count": null,
      "outputs": [
        {
          "output_type": "stream",
          "name": "stdout",
          "text": [
            "a is less than b\n",
            "a is less than 90\n",
            "a is less than 60\n",
            "a is less than 30\n",
            "a is less than 15\n",
            "a is gerater than -1\n",
            "a is greater than 7\n",
            "a is greater than 8\n",
            "a is greater than 9\n",
            "value of a = 10\n"
          ]
        }
      ]
    },
    {
      "cell_type": "markdown",
      "source": [
        "# Loops - For"
      ],
      "metadata": {
        "id": "1O62qzZD8NDx"
      }
    },
    {
      "cell_type": "code",
      "source": [
        "for i in range(11):\n",
        "  print(i)"
      ],
      "metadata": {
        "colab": {
          "base_uri": "https://localhost:8080/"
        },
        "id": "IeCHBMUM8Pif",
        "outputId": "732988b0-d36a-45b9-8bd8-976e580f67b1"
      },
      "execution_count": null,
      "outputs": [
        {
          "output_type": "stream",
          "name": "stdout",
          "text": [
            "0\n",
            "1\n",
            "2\n",
            "3\n",
            "4\n",
            "5\n",
            "6\n",
            "7\n",
            "8\n",
            "9\n",
            "10\n"
          ]
        }
      ]
    },
    {
      "cell_type": "code",
      "source": [
        "for i in range(0,11):\n",
        "  print(i)"
      ],
      "metadata": {
        "colab": {
          "base_uri": "https://localhost:8080/"
        },
        "id": "LcaLxhPLNGgY",
        "outputId": "84fd10dc-7d57-43a6-82ef-72dd69920153"
      },
      "execution_count": null,
      "outputs": [
        {
          "output_type": "stream",
          "name": "stdout",
          "text": [
            "0\n",
            "1\n",
            "2\n",
            "3\n",
            "4\n",
            "5\n",
            "6\n",
            "7\n",
            "8\n",
            "9\n",
            "10\n"
          ]
        }
      ]
    },
    {
      "cell_type": "code",
      "source": [
        "for i in range(0,10, 1):\n",
        "  a += i\n",
        "  print(a)\n",
        "\n",
        "print()\n",
        "\n",
        "print(a)"
      ],
      "metadata": {
        "colab": {
          "base_uri": "https://localhost:8080/"
        },
        "id": "pjuZHhRsNSYv",
        "outputId": "3a4b2653-1d83-4dfc-e7d5-cd1485d8b5b4"
      },
      "execution_count": null,
      "outputs": [
        {
          "output_type": "stream",
          "name": "stdout",
          "text": [
            "50019895\n",
            "50019896\n",
            "50019898\n",
            "50019901\n",
            "50019905\n",
            "50019910\n",
            "50019916\n",
            "50019923\n",
            "50019931\n",
            "50019940\n",
            "\n",
            "50019940\n"
          ]
        }
      ]
    },
    {
      "cell_type": "code",
      "source": [
        "for i in range(0,10000, 1):\n",
        "  a += i\n",
        "print(a)"
      ],
      "metadata": {
        "colab": {
          "base_uri": "https://localhost:8080/"
        },
        "id": "iGVS7zehNnxo",
        "outputId": "8afd1623-638f-4a9e-bb2a-d796c8ed8a29"
      },
      "execution_count": null,
      "outputs": [
        {
          "output_type": "stream",
          "name": "stdout",
          "text": [
            "50019760\n"
          ]
        }
      ]
    },
    {
      "cell_type": "markdown",
      "source": [
        "# Loops - While"
      ],
      "metadata": {
        "id": "vVR7TEEm8mx3"
      }
    },
    {
      "cell_type": "code",
      "source": [
        "i = 0\n",
        "\n",
        "while i < 10:\n",
        "  i += 1\n",
        "  print(i)"
      ],
      "metadata": {
        "colab": {
          "base_uri": "https://localhost:8080/"
        },
        "id": "bI64uJCE84cG",
        "outputId": "22cd1029-6ee0-4f65-f1ef-a3908d3e3881"
      },
      "execution_count": null,
      "outputs": [
        {
          "output_type": "stream",
          "name": "stdout",
          "text": [
            "1\n",
            "2\n",
            "3\n",
            "4\n",
            "5\n",
            "6\n",
            "7\n",
            "8\n",
            "9\n",
            "10\n"
          ]
        }
      ]
    },
    {
      "cell_type": "code",
      "source": [
        "i = 0\n",
        "\n",
        "while i < 10:\n",
        "  i += 1\n",
        "print(i)"
      ],
      "metadata": {
        "colab": {
          "base_uri": "https://localhost:8080/"
        },
        "id": "KTObAfPpORzO",
        "outputId": "c7ed95f4-760e-4567-ad51-05892ed88352"
      },
      "execution_count": null,
      "outputs": [
        {
          "output_type": "stream",
          "name": "stdout",
          "text": [
            "10\n"
          ]
        }
      ]
    },
    {
      "cell_type": "code",
      "source": [
        "x = 1\n",
        "y = 0\n",
        "\n",
        "while x < 10:\n",
        "  print(x)\n",
        "  x += 1\n",
        "  y += x\n",
        "  print(x)\n",
        "  print(y)\n",
        "  print()"
      ],
      "metadata": {
        "colab": {
          "base_uri": "https://localhost:8080/"
        },
        "id": "rkisArGPO73Z",
        "outputId": "757f9ab4-3951-4276-ff37-f82f54302a30"
      },
      "execution_count": null,
      "outputs": [
        {
          "output_type": "stream",
          "name": "stdout",
          "text": [
            "1\n",
            "2\n",
            "2\n",
            "\n",
            "2\n",
            "3\n",
            "5\n",
            "\n",
            "3\n",
            "4\n",
            "9\n",
            "\n",
            "4\n",
            "5\n",
            "14\n",
            "\n",
            "5\n",
            "6\n",
            "20\n",
            "\n",
            "6\n",
            "7\n",
            "27\n",
            "\n",
            "7\n",
            "8\n",
            "35\n",
            "\n",
            "8\n",
            "9\n",
            "44\n",
            "\n",
            "9\n",
            "10\n",
            "54\n",
            "\n"
          ]
        }
      ]
    },
    {
      "cell_type": "code",
      "source": [
        "x = 1\n",
        "y = 0\n",
        "\n",
        "while x < 10:\n",
        "  # print(x)\n",
        "  x += 1\n",
        "  y += x\n",
        "\n",
        "print(x)\n",
        "print(y)\n",
        "print()"
      ],
      "metadata": {
        "colab": {
          "base_uri": "https://localhost:8080/"
        },
        "id": "IRYJr26VO7pl",
        "outputId": "f0203fd0-6910-499c-8bb4-59a1cd9d7c31"
      },
      "execution_count": null,
      "outputs": [
        {
          "output_type": "stream",
          "name": "stdout",
          "text": [
            "10\n",
            "54\n",
            "\n"
          ]
        }
      ]
    },
    {
      "cell_type": "code",
      "source": [
        "e = 1\n",
        "f = 0\n",
        "\n",
        "while e < 10:\n",
        "  print('value of e before loop - ',e ,' = ', e)\n",
        "  e += 1\n",
        "  f += e\n",
        "  print('value of e after loop = ', e)\n",
        "  print(f)\n",
        "  print()"
      ],
      "metadata": {
        "colab": {
          "base_uri": "https://localhost:8080/"
        },
        "id": "bNm9o8gzQ3yu",
        "outputId": "acf73431-036a-42c0-9aa5-783c8065e80b"
      },
      "execution_count": null,
      "outputs": [
        {
          "output_type": "stream",
          "name": "stdout",
          "text": [
            "value of e before loop -  1  =  1\n",
            "value of e after loop =  2\n",
            "2\n",
            "\n",
            "value of e before loop -  2  =  2\n",
            "value of e after loop =  3\n",
            "5\n",
            "\n",
            "value of e before loop -  3  =  3\n",
            "value of e after loop =  4\n",
            "9\n",
            "\n",
            "value of e before loop -  4  =  4\n",
            "value of e after loop =  5\n",
            "14\n",
            "\n",
            "value of e before loop -  5  =  5\n",
            "value of e after loop =  6\n",
            "20\n",
            "\n",
            "value of e before loop -  6  =  6\n",
            "value of e after loop =  7\n",
            "27\n",
            "\n",
            "value of e before loop -  7  =  7\n",
            "value of e after loop =  8\n",
            "35\n",
            "\n",
            "value of e before loop -  8  =  8\n",
            "value of e after loop =  9\n",
            "44\n",
            "\n",
            "value of e before loop -  9  =  9\n",
            "value of e after loop =  10\n",
            "54\n",
            "\n"
          ]
        }
      ]
    },
    {
      "cell_type": "markdown",
      "source": [
        "# Class assignmet"
      ],
      "metadata": {
        "id": "8TaSsN9YUo-c"
      }
    },
    {
      "cell_type": "code",
      "source": [
        "c = 1\n",
        "\n",
        "if c <= 10: # True\n",
        "  for c in range(11):\n",
        "    print(c)\n",
        "  else:\n",
        "    print('c is greater than 10')\n",
        "\n",
        "print(c)"
      ],
      "metadata": {
        "colab": {
          "base_uri": "https://localhost:8080/"
        },
        "id": "kUvut2lcUtrO",
        "outputId": "8bca93bb-4117-4458-a5f7-cce0738b0752"
      },
      "execution_count": null,
      "outputs": [
        {
          "output_type": "stream",
          "name": "stdout",
          "text": [
            "0\n",
            "1\n",
            "2\n",
            "3\n",
            "4\n",
            "5\n",
            "6\n",
            "7\n",
            "8\n",
            "9\n",
            "10\n",
            "c is greater than 10\n",
            "10\n"
          ]
        }
      ]
    },
    {
      "cell_type": "code",
      "source": [
        "d = 1\n",
        "for d in range(0,15):\n",
        "  if d <= 10:\n",
        "    print(d)\n",
        "  else:\n",
        "    break\n",
        "\n",
        "print('d is greater than 10')"
      ],
      "metadata": {
        "colab": {
          "base_uri": "https://localhost:8080/"
        },
        "id": "t1-Qv3PZV6P_",
        "outputId": "4b05e228-9642-4693-c334-db2e58bb27fc"
      },
      "execution_count": null,
      "outputs": [
        {
          "output_type": "stream",
          "name": "stdout",
          "text": [
            "0\n",
            "1\n",
            "2\n",
            "3\n",
            "4\n",
            "5\n",
            "6\n",
            "7\n",
            "8\n",
            "9\n",
            "10\n",
            "d is greater than 10\n"
          ]
        }
      ]
    },
    {
      "cell_type": "code",
      "source": [
        "i = 1\n",
        "a = 0\n",
        "\n",
        "for i in range(10):\n",
        "  a += i\n",
        "  i += 1\n",
        "else:\n",
        "  print('We are out of loop now')\n",
        "\n",
        "print('value of i is ',i)\n",
        "print('value of a is ',a)"
      ],
      "metadata": {
        "colab": {
          "base_uri": "https://localhost:8080/"
        },
        "id": "iwRIJUb6Y0IA",
        "outputId": "4f2dbdff-59fa-412e-9e07-f8ec95886362"
      },
      "execution_count": null,
      "outputs": [
        {
          "output_type": "stream",
          "name": "stdout",
          "text": [
            "We are out of loop now\n",
            "value of i is  10\n",
            "value of a is  45\n"
          ]
        }
      ]
    },
    {
      "cell_type": "code",
      "source": [
        "i = 1\n",
        "a = 0\n",
        "\n",
        "while i < 10:\n",
        "  a += i\n",
        "  i += 1\n",
        "else:\n",
        "  print('We are out of loop now')\n",
        "\n",
        "print('value of i is ',i)\n",
        "print('value of a is ',a)\n"
      ],
      "metadata": {
        "colab": {
          "base_uri": "https://localhost:8080/"
        },
        "id": "xQk0u9QjYKmZ",
        "outputId": "d6eb45dd-56d9-4ae1-dc4e-20de0d0580fe"
      },
      "execution_count": null,
      "outputs": [
        {
          "output_type": "stream",
          "name": "stdout",
          "text": [
            "We are out of loop now\n",
            "value of i is  10\n",
            "value of a is  45\n"
          ]
        }
      ]
    }
  ]
}