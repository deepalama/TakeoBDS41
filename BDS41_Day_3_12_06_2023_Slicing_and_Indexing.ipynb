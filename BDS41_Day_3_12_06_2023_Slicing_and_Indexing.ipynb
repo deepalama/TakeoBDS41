{
  "nbformat": 4,
  "nbformat_minor": 0,
  "metadata": {
    "colab": {
      "provenance": [],
      "toc_visible": true,
      "authorship_tag": "ABX9TyP36TEl3vXYVa5aYcd6D6wN",
      "include_colab_link": true
    },
    "kernelspec": {
      "name": "python3",
      "display_name": "Python 3"
    },
    "language_info": {
      "name": "python"
    }
  },
  "cells": [
    {
      "cell_type": "markdown",
      "metadata": {
        "id": "view-in-github",
        "colab_type": "text"
      },
      "source": [
        "<a href=\"https://colab.research.google.com/github/deepalama/TakeoBDS41/blob/main/BDS41_Day_3_12_06_2023_Slicing_and_Indexing.ipynb\" target=\"_parent\"><img src=\"https://colab.research.google.com/assets/colab-badge.svg\" alt=\"Open In Colab\"/></a>"
      ]
    },
    {
      "cell_type": "markdown",
      "source": [
        "# BDS41_12/04/2023 - Day 3"
      ],
      "metadata": {
        "id": "0c-sJIc1Ch8B"
      }
    },
    {
      "cell_type": "markdown",
      "source": [
        "# Slicing and Indexing List"
      ],
      "metadata": {
        "id": "Z2a9Vpliz839"
      }
    },
    {
      "cell_type": "code",
      "source": [
        "lst1 = [12, 23, 34, 56, 67, 78, 89, 90, 95, 99]"
      ],
      "metadata": {
        "id": "KlB_DmEw0FtN"
      },
      "execution_count": null,
      "outputs": []
    },
    {
      "cell_type": "markdown",
      "source": [
        "Defalult value of 1st element - 0\n",
        "Defalult value of 2nd element - len(lst1)/length of list\n",
        "Defalult value of 31r element - 1 (decides which way indexing is moving) ( positive value = left to right) (negative value = right to left)"
      ],
      "metadata": {
        "id": "BlSiwjQQ0q5d"
      }
    },
    {
      "cell_type": "code",
      "source": [
        "# positive Indexing - left to right\n",
        "\n",
        "lst1[::]"
      ],
      "metadata": {
        "colab": {
          "base_uri": "https://localhost:8080/"
        },
        "id": "4UKl02ob6KCc",
        "outputId": "1f1bf2da-15bb-4985-eab2-bac15a9f1793"
      },
      "execution_count": null,
      "outputs": [
        {
          "output_type": "execute_result",
          "data": {
            "text/plain": [
              "[12, 23, 34, 56, 67, 78, 89, 90, 95, 99]"
            ]
          },
          "metadata": {},
          "execution_count": 2
        }
      ]
    },
    {
      "cell_type": "code",
      "source": [
        "# positive slicing\n",
        "\n",
        "lst1[:4:]"
      ],
      "metadata": {
        "colab": {
          "base_uri": "https://localhost:8080/"
        },
        "id": "TbQM0-se1Yi9",
        "outputId": "5a495276-3286-4c18-a41d-69a771d80c5a"
      },
      "execution_count": null,
      "outputs": [
        {
          "output_type": "execute_result",
          "data": {
            "text/plain": [
              "[12, 23, 34, 56]"
            ]
          },
          "metadata": {},
          "execution_count": 3
        }
      ]
    },
    {
      "cell_type": "code",
      "source": [
        "lst1[2:6:]"
      ],
      "metadata": {
        "colab": {
          "base_uri": "https://localhost:8080/"
        },
        "id": "aTEylt4y6KMe",
        "outputId": "997957f2-3994-4bd9-d366-807ee70610f5"
      },
      "execution_count": null,
      "outputs": [
        {
          "output_type": "execute_result",
          "data": {
            "text/plain": [
              "[34, 56, 67, 78]"
            ]
          },
          "metadata": {},
          "execution_count": 4
        }
      ]
    },
    {
      "cell_type": "code",
      "source": [
        "# negative Indexing - right to left\n",
        "\n",
        "lst2 = [12, 23, 34, 45, 56, 67, 78, 89, 90]"
      ],
      "metadata": {
        "id": "1T05tMMf1Yap"
      },
      "execution_count": null,
      "outputs": []
    },
    {
      "cell_type": "code",
      "source": [
        "lst2[-1:-(len(lst2)+1):-1]"
      ],
      "metadata": {
        "colab": {
          "base_uri": "https://localhost:8080/"
        },
        "id": "Sa-JaNU75MOT",
        "outputId": "73a89617-928a-4959-c587-7dbb428660dc"
      },
      "execution_count": null,
      "outputs": [
        {
          "output_type": "execute_result",
          "data": {
            "text/plain": [
              "[90, 89, 78, 67, 56, 45, 34, 23, 12]"
            ]
          },
          "metadata": {},
          "execution_count": 6
        }
      ]
    },
    {
      "cell_type": "code",
      "source": [
        "# negative slicing\n",
        "\n",
        "lst2[-6::-1]"
      ],
      "metadata": {
        "colab": {
          "base_uri": "https://localhost:8080/"
        },
        "id": "NcOVJYVI3MJs",
        "outputId": "72112bca-e352-4b8f-c87c-69a6a7a9618e"
      },
      "execution_count": null,
      "outputs": [
        {
          "output_type": "execute_result",
          "data": {
            "text/plain": [
              "[45, 34, 23, 12]"
            ]
          },
          "metadata": {},
          "execution_count": 7
        }
      ]
    },
    {
      "cell_type": "code",
      "source": [
        "lst2[-4:-8:-1]"
      ],
      "metadata": {
        "colab": {
          "base_uri": "https://localhost:8080/"
        },
        "id": "T0CF_cmo5t-T",
        "outputId": "5836bc16-9bc6-46b8-9ef5-0c2b896e960d"
      },
      "execution_count": null,
      "outputs": [
        {
          "output_type": "execute_result",
          "data": {
            "text/plain": [
              "[67, 56, 45, 34]"
            ]
          },
          "metadata": {},
          "execution_count": 8
        }
      ]
    },
    {
      "cell_type": "markdown",
      "source": [
        "# Types of slicing and indexing"
      ],
      "metadata": {
        "id": "HQUmYZB_z8-x"
      }
    },
    {
      "cell_type": "code",
      "source": [
        "lst11 = [11, 22, 33, 44, 55, 66, 77, 88, 99]"
      ],
      "metadata": {
        "id": "b4Mbm4VZ81AO"
      },
      "execution_count": null,
      "outputs": []
    },
    {
      "cell_type": "code",
      "source": [
        "# positive indexing  and positive slicing (moving left to right with positive index)\n",
        "\n",
        "lst1[3::1]"
      ],
      "metadata": {
        "colab": {
          "base_uri": "https://localhost:8080/"
        },
        "id": "joC-YU3J-XD6",
        "outputId": "e7187f31-26a3-489c-a235-24b7fe7e2f7a"
      },
      "execution_count": null,
      "outputs": [
        {
          "output_type": "execute_result",
          "data": {
            "text/plain": [
              "[56, 67, 78, 89, 90, 95, 99]"
            ]
          },
          "metadata": {},
          "execution_count": 13
        }
      ]
    },
    {
      "cell_type": "code",
      "source": [
        "# negative indexing and positive slicing\n",
        "\n",
        "lst11[-6::1]\n"
      ],
      "metadata": {
        "colab": {
          "base_uri": "https://localhost:8080/"
        },
        "id": "OVl-s9yg1Rv8",
        "outputId": "1dac8de4-2066-4459-920d-87b82b1c6431"
      },
      "execution_count": null,
      "outputs": [
        {
          "output_type": "execute_result",
          "data": {
            "text/plain": [
              "[44, 55, 66, 77, 88, 99]"
            ]
          },
          "metadata": {},
          "execution_count": 93
        }
      ]
    },
    {
      "cell_type": "code",
      "source": [
        "# negative indexing and negative slicing\n",
        "\n",
        "lst11[-1:-7:-1]"
      ],
      "metadata": {
        "colab": {
          "base_uri": "https://localhost:8080/"
        },
        "id": "vT66zC3T7xKx",
        "outputId": "9e0bd07f-34fa-439e-f333-e27109c15f06"
      },
      "execution_count": null,
      "outputs": [
        {
          "output_type": "execute_result",
          "data": {
            "text/plain": [
              "[99, 88, 77, 66, 55, 44]"
            ]
          },
          "metadata": {},
          "execution_count": 94
        }
      ]
    },
    {
      "cell_type": "code",
      "source": [
        "# positive indexing and negative slicing\n",
        "\n",
        "lst11[:2:-1]"
      ],
      "metadata": {
        "colab": {
          "base_uri": "https://localhost:8080/"
        },
        "id": "1KrZMR1f7xSQ",
        "outputId": "3ea297f5-c841-46ef-aa8d-645f17ccdd83"
      },
      "execution_count": null,
      "outputs": [
        {
          "output_type": "execute_result",
          "data": {
            "text/plain": [
              "[99, 88, 77, 66, 55, 44]"
            ]
          },
          "metadata": {},
          "execution_count": 95
        }
      ]
    },
    {
      "cell_type": "markdown",
      "source": [
        "# Tuples"
      ],
      "metadata": {
        "id": "p-hH7XBODt9h"
      }
    },
    {
      "cell_type": "code",
      "source": [
        "tup1 = (12, 23, 34, 56, 67, 78, 89, 90, 95, 99)\n",
        "\n",
        "print(tup1[3::1])"
      ],
      "metadata": {
        "id": "ot5gFOYEDtof",
        "colab": {
          "base_uri": "https://localhost:8080/"
        },
        "outputId": "b7ab6ff5-5814-4eca-af58-f2fb4331c024"
      },
      "execution_count": null,
      "outputs": [
        {
          "output_type": "stream",
          "name": "stdout",
          "text": [
            "(56, 67, 78, 89, 90, 95, 99)\n"
          ]
        }
      ]
    },
    {
      "cell_type": "code",
      "source": [
        "tup1 = (12, 23, 34, 56, 67, 78, 89, 90, 95, 99)\n",
        "\n",
        "print(tup1[-6::1])"
      ],
      "metadata": {
        "colab": {
          "base_uri": "https://localhost:8080/"
        },
        "id": "nT2VOR6qyV40",
        "outputId": "57b64c2b-47c8-42b0-91fe-034d4ac69e77"
      },
      "execution_count": null,
      "outputs": [
        {
          "output_type": "stream",
          "name": "stdout",
          "text": [
            "(67, 78, 89, 90, 95, 99)\n"
          ]
        }
      ]
    },
    {
      "cell_type": "code",
      "source": [
        "tup1 = (12, 23, 34, 56, 67, 78, 89, 90, 95, 99)\n",
        "\n",
        "print(tup1[-1:-7:-1])"
      ],
      "metadata": {
        "colab": {
          "base_uri": "https://localhost:8080/"
        },
        "id": "-5pFO7b_yVzQ",
        "outputId": "2aaf3096-29e7-44b6-8cca-5da8aebf4002"
      },
      "execution_count": null,
      "outputs": [
        {
          "output_type": "stream",
          "name": "stdout",
          "text": [
            "(99, 95, 90, 89, 78, 67)\n"
          ]
        }
      ]
    },
    {
      "cell_type": "code",
      "source": [
        "tup1 = (12, 23, 34, 56, 67, 78, 89, 90, 95, 99)\n",
        "\n",
        "print(tup1[:2:-1])"
      ],
      "metadata": {
        "colab": {
          "base_uri": "https://localhost:8080/"
        },
        "id": "PwprhG17yVuY",
        "outputId": "971cad1d-8833-41bb-a004-5ca16449e874"
      },
      "execution_count": null,
      "outputs": [
        {
          "output_type": "stream",
          "name": "stdout",
          "text": [
            "(99, 95, 90, 89, 78, 67, 56)\n"
          ]
        }
      ]
    },
    {
      "cell_type": "markdown",
      "source": [
        "# String"
      ],
      "metadata": {
        "id": "xU7YHJzADwSP"
      }
    },
    {
      "cell_type": "code",
      "source": [
        "str1= \"Slicing and Indexing String in python\"\n",
        "\n",
        "print(str1)\n",
        "print(str1[5::1])"
      ],
      "metadata": {
        "id": "lWCrswgfDxGq",
        "colab": {
          "base_uri": "https://localhost:8080/"
        },
        "outputId": "7fbd17c6-1efc-4ba8-8b17-95402f620a88"
      },
      "execution_count": null,
      "outputs": [
        {
          "output_type": "stream",
          "name": "stdout",
          "text": [
            "Slicing and Indexing String in python\n",
            "ng and Indexing String in python\n"
          ]
        }
      ]
    },
    {
      "cell_type": "code",
      "source": [
        "str1= \"Slicing and Indexing String in python\"\n",
        "\n",
        "print(str1)\n",
        "print(str1[-6::1])"
      ],
      "metadata": {
        "colab": {
          "base_uri": "https://localhost:8080/"
        },
        "id": "AjWrBomZ1p_N",
        "outputId": "5724c2ad-f644-44c1-de4b-293af237dafa"
      },
      "execution_count": null,
      "outputs": [
        {
          "output_type": "stream",
          "name": "stdout",
          "text": [
            "Slicing and Indexing String in python\n",
            "python\n"
          ]
        }
      ]
    },
    {
      "cell_type": "code",
      "source": [
        "str1= \"Slicing and Indexing String in python\"\n",
        "\n",
        "print(str1)\n",
        "print(str1[-1:-7:-1])"
      ],
      "metadata": {
        "colab": {
          "base_uri": "https://localhost:8080/"
        },
        "id": "ciKYZu8N2o2s",
        "outputId": "6a5fd756-aef3-40ce-d473-1cb8457ba767"
      },
      "execution_count": null,
      "outputs": [
        {
          "output_type": "stream",
          "name": "stdout",
          "text": [
            "Slicing and Indexing String in python\n",
            "nohtyp\n"
          ]
        }
      ]
    },
    {
      "cell_type": "code",
      "source": [
        "str1= \"Slicing and Indexing String in python\"\n",
        "\n",
        "print(str1)\n",
        "print(str1[:2:-1])"
      ],
      "metadata": {
        "colab": {
          "base_uri": "https://localhost:8080/"
        },
        "id": "bJLfn1mz2pjc",
        "outputId": "6d64f7cd-ac44-4091-c389-450372129fd9"
      },
      "execution_count": null,
      "outputs": [
        {
          "output_type": "stream",
          "name": "stdout",
          "text": [
            "Slicing and Indexing String in python\n",
            "nohtyp ni gnirtS gnixednI dna gnic\n"
          ]
        }
      ]
    }
  ]
}