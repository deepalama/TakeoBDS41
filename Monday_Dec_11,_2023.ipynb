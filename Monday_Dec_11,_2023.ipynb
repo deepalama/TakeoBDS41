{
  "nbformat": 4,
  "nbformat_minor": 0,
  "metadata": {
    "colab": {
      "provenance": [],
      "collapsed_sections": [
        "SsW02uytovkl",
        "ibgO0W5PjS79",
        "5H2Yz6Fhq1qW",
        "SHvx9QOgrFeS",
        "McW1PSugrVW7",
        "4j5OJwCIre3s",
        "4jcG2p97rgfS",
        "eT38txzBrg8c",
        "MWSTcWW2taGn",
        "JUDqlCHUtb91",
        "UHz9uwcdtTeJ",
        "RSGeDIvzt5Ms",
        "bWwmJOEQt1cB",
        "qvRgwlF7zSIm",
        "630Glab82IDq",
        "mqb7M_ak472g",
        "zXWGA_HA7xws",
        "E3AGIDJV97EA",
        "xmX15p-f5EVK"
      ],
      "toc_visible": true,
      "authorship_tag": "ABX9TyNo9l5/VBQQfL/uyaCgoSvL",
      "include_colab_link": true
    },
    "kernelspec": {
      "name": "python3",
      "display_name": "Python 3"
    },
    "language_info": {
      "name": "python"
    }
  },
  "cells": [
    {
      "cell_type": "markdown",
      "metadata": {
        "id": "view-in-github",
        "colab_type": "text"
      },
      "source": [
        "<a href=\"https://colab.research.google.com/github/deepalama/TakeoBDS41/blob/pythonBasic/Monday_Dec_11%2C_2023.ipynb\" target=\"_parent\"><img src=\"https://colab.research.google.com/assets/colab-badge.svg\" alt=\"Open In Colab\"/></a>"
      ]
    },
    {
      "cell_type": "markdown",
      "source": [
        "# Monday Dec 11, 2023"
      ],
      "metadata": {
        "id": "dutTMotWjS0Z"
      }
    },
    {
      "cell_type": "markdown",
      "source": [
        "# **Python Function**\n",
        "\n",
        "1. Build in Functions (pre-defined)\n",
        "2. User Define Functions\n",
        "3. Lamda Functions\n",
        "\n",
        "https://docs.python.org/3/library/functions.html"
      ],
      "metadata": {
        "id": "XlMY_90YlqSi"
      }
    },
    {
      "cell_type": "markdown",
      "source": [
        "# Print function - print()"
      ],
      "metadata": {
        "id": "SsW02uytovkl"
      }
    },
    {
      "cell_type": "code",
      "source": [
        "print('Welcome, today we are going to learn python functions')"
      ],
      "metadata": {
        "colab": {
          "base_uri": "https://localhost:8080/"
        },
        "id": "9MNutmD9jU5c",
        "outputId": "8467aa62-9126-435f-d8f0-7a69127c6839"
      },
      "execution_count": 1,
      "outputs": [
        {
          "output_type": "stream",
          "name": "stdout",
          "text": [
            "Welcome, today we are going to learn python functions\n"
          ]
        }
      ]
    },
    {
      "cell_type": "code",
      "source": [
        "print(*object, sep=' ', end='\\n', file=None, flush=False)"
      ],
      "metadata": {
        "id": "brgYQi26onC2"
      },
      "execution_count": null,
      "outputs": []
    },
    {
      "cell_type": "code",
      "source": [
        "print(*object, sep = ' ', end = ' ', file = None, flush = False)"
      ],
      "metadata": {
        "id": "2VdkrYFpopAz"
      },
      "execution_count": null,
      "outputs": []
    },
    {
      "cell_type": "markdown",
      "source": [
        "print(*object, sep = ' ', end = ' ', file = None, flush = False)"
      ],
      "metadata": {
        "id": "CLiq9Hp6n4sD"
      }
    },
    {
      "cell_type": "markdown",
      "source": [
        "# Input function - input()"
      ],
      "metadata": {
        "id": "ibgO0W5PjS79"
      }
    },
    {
      "cell_type": "code",
      "execution_count": 5,
      "metadata": {
        "colab": {
          "base_uri": "https://localhost:8080/"
        },
        "id": "-laVp7pzjRYK",
        "outputId": "168ced4d-cb40-4590-c787-a8ff44078254"
      },
      "outputs": [
        {
          "output_type": "stream",
          "name": "stdout",
          "text": [
            "Please enter your name - Deepa lama\n",
            "Deepa lama\n"
          ]
        }
      ],
      "source": [
        "a = input('Please enter your name - ')\n",
        "print(a)"
      ]
    },
    {
      "cell_type": "code",
      "source": [
        "a = input('marks in english - ')\n",
        "b = input('marks in math - ')\n",
        "c = input('marks in science - ')\n",
        "d = input('marks in Account - ')\n",
        "e = input('marks in arts - ')\n",
        "f = input('marks in computer - ')\n",
        "\n",
        "print('\\n', 'sum of all marks = ', a + b + c + d + e + f)"
      ],
      "metadata": {
        "colab": {
          "base_uri": "https://localhost:8080/"
        },
        "id": "3FLtmdrEpLIp",
        "outputId": "ee206b03-29a8-4ac9-aa13-f5a0a0335f68"
      },
      "execution_count": 10,
      "outputs": [
        {
          "output_type": "stream",
          "name": "stdout",
          "text": [
            "marks in english - 1\n",
            "marks in math - 1\n",
            "marks in science - 1\n",
            "marks in Account - 1\n",
            "marks in arts - 1\n",
            "marks in computer - 1\n",
            "\n",
            " sum of all marks =  111111\n"
          ]
        }
      ]
    },
    {
      "cell_type": "markdown",
      "source": [
        "# **Input will take input data as string by default, in order to change the data type as required we use type casting functions.**"
      ],
      "metadata": {
        "id": "5H2Yz6Fhq1qW"
      }
    },
    {
      "cell_type": "code",
      "source": [
        "a = int(input('marks in english - '))\n",
        "b = int(input('marks in math - '))\n",
        "c = int(input('marks in science - '))\n",
        "d = int(input('marks in Account - '))\n",
        "e = int(input('marks in arts - '))\n",
        "f = int(input('marks in computer - '))\n",
        "\n",
        "print('\\n', 'sum of all marks = ', a + b + c + d + e + f)"
      ],
      "metadata": {
        "colab": {
          "base_uri": "https://localhost:8080/"
        },
        "id": "Wg-OQFHzp0Tc",
        "outputId": "188093c6-1445-44ba-9586-394dda00f6cb"
      },
      "execution_count": 11,
      "outputs": [
        {
          "output_type": "stream",
          "name": "stdout",
          "text": [
            "marks in english - 1\n",
            "marks in math - 1\n",
            "marks in science - 1\n",
            "marks in Account - 1\n",
            "marks in arts - 1\n",
            "marks in computer - 1\n",
            "\n",
            " sum of all marks =  6\n"
          ]
        }
      ]
    },
    {
      "cell_type": "markdown",
      "source": [
        "# Type casting functions"
      ],
      "metadata": {
        "id": "SHvx9QOgrFeS"
      }
    },
    {
      "cell_type": "markdown",
      "source": [
        "Python Type Casting Functions\n",
        "\n",
        "1. int\n",
        "2. float\n",
        "3. complex\n",
        "4. boolean\n",
        "5. string\n",
        "6. list\n",
        "7. tuple\n",
        "8. set\n",
        "9. dictionary"
      ],
      "metadata": {
        "id": "GedsZCoNtDVI"
      }
    },
    {
      "cell_type": "markdown",
      "source": [
        "# typecast to int - int()"
      ],
      "metadata": {
        "id": "McW1PSugrVW7"
      }
    },
    {
      "cell_type": "code",
      "source": [
        "a = int(input('marks in english - '))\n",
        "b = int(input('marks in math - '))\n",
        "c = int(input('marks in science - '))\n",
        "d = int(input('marks in Account - '))\n",
        "e = int(input('marks in arts - '))\n",
        "f = int(input('marks in computer - '))\n",
        "\n",
        "print('\\n', 'sum of all marks = ', a + b + c + d + e + f)\n"
      ],
      "metadata": {
        "colab": {
          "base_uri": "https://localhost:8080/"
        },
        "id": "kqDF-YWzp0Mb",
        "outputId": "16073094-4b3c-439c-e778-bfcd07add3c1"
      },
      "execution_count": 14,
      "outputs": [
        {
          "output_type": "stream",
          "name": "stdout",
          "text": [
            "marks in english - 1\n",
            "marks in math - 1\n",
            "marks in science - 1\n",
            "marks in Account - 1\n",
            "marks in arts - 1\n",
            "marks in computer - 1\n",
            "\n",
            " sum of all marks =  6\n"
          ]
        }
      ]
    },
    {
      "cell_type": "markdown",
      "source": [
        "# typecast to float - float()"
      ],
      "metadata": {
        "id": "4j5OJwCIre3s"
      }
    },
    {
      "cell_type": "code",
      "source": [
        "a = float(input('marks in english - '))\n",
        "b = float(input('marks in math - '))\n",
        "c = float(input('marks in science - '))\n",
        "d = float(input('marks in Account - '))\n",
        "e = float(input('marks in arts - '))\n",
        "f = float(input('marks in computer - '))\n",
        "\n",
        "print('\\n', 'sum of all marks = ', a + b + c + d + e + f)"
      ],
      "metadata": {
        "colab": {
          "base_uri": "https://localhost:8080/"
        },
        "id": "BAfBZluuruHS",
        "outputId": "3365d8d9-0853-49a8-f162-f8c4989c977f"
      },
      "execution_count": 13,
      "outputs": [
        {
          "output_type": "stream",
          "name": "stdout",
          "text": [
            "marks in english - 1.5\n",
            "marks in math - 1\n",
            "marks in science - 1\n",
            "marks in Account - 1\n",
            "marks in arts - 1\n",
            "marks in computer - 1\n",
            "\n",
            " sum of all marks =  6.5\n"
          ]
        }
      ]
    },
    {
      "cell_type": "markdown",
      "source": [
        "# typecast to complex - complex()"
      ],
      "metadata": {
        "id": "4jcG2p97rgfS"
      }
    },
    {
      "cell_type": "code",
      "source": [
        "a = complex(input('input 1 - '))\n",
        "b = complex(input('input 2 - '))\n",
        "c = complex(input('input 3 - '))\n",
        "\n",
        "print('\\n', 'sum of all marks = ', a + b + c )"
      ],
      "metadata": {
        "colab": {
          "base_uri": "https://localhost:8080/"
        },
        "id": "--2BwWhzsG_U",
        "outputId": "99af89a0-83f6-4593-c128-58e41e82a3f7"
      },
      "execution_count": 16,
      "outputs": [
        {
          "output_type": "stream",
          "name": "stdout",
          "text": [
            "input 1 - 12+23j\n",
            "input 2 - -23-34j\n",
            "input 3 - 34_34j\n",
            "\n",
            " sum of all marks =  (-11+3423j)\n"
          ]
        }
      ]
    },
    {
      "cell_type": "markdown",
      "source": [
        "# typecast to boolean - boolean()"
      ],
      "metadata": {
        "id": "eT38txzBrg8c"
      }
    },
    {
      "cell_type": "code",
      "source": [],
      "metadata": {
        "id": "wd2ZsG8ntGuH"
      },
      "execution_count": null,
      "outputs": []
    },
    {
      "cell_type": "markdown",
      "source": [
        "# typecast to String - string()"
      ],
      "metadata": {
        "id": "MWSTcWW2taGn"
      }
    },
    {
      "cell_type": "code",
      "source": [],
      "metadata": {
        "id": "EnjvR-nJtfhT"
      },
      "execution_count": null,
      "outputs": []
    },
    {
      "cell_type": "markdown",
      "source": [
        "# typecast to List - list()"
      ],
      "metadata": {
        "id": "JUDqlCHUtb91"
      }
    },
    {
      "cell_type": "code",
      "source": [
        "str1 = 'convert string to list'\n",
        "\n",
        "print(list(str1))"
      ],
      "metadata": {
        "colab": {
          "base_uri": "https://localhost:8080/"
        },
        "id": "2P9HBDsevS5F",
        "outputId": "3d8d3ac9-5a7d-4120-9552-27017527135a"
      },
      "execution_count": 24,
      "outputs": [
        {
          "output_type": "stream",
          "name": "stdout",
          "text": [
            "['c', 'o', 'n', 'v', 'e', 'r', 't', ' ', 's', 't', 'r', 'i', 'n', 'g', ' ', 't', 'o', ' ', 'l', 'i', 's', 't']\n"
          ]
        }
      ]
    },
    {
      "cell_type": "markdown",
      "source": [
        "# typecast to Tuple - tuple()"
      ],
      "metadata": {
        "id": "UHz9uwcdtTeJ"
      }
    },
    {
      "cell_type": "code",
      "source": [
        "str1 = 'convert string to tuple'\n",
        "\n",
        "print(tuple(str1))"
      ],
      "metadata": {
        "colab": {
          "base_uri": "https://localhost:8080/"
        },
        "id": "q-OiXUCsvANO",
        "outputId": "8e6d7a99-4ebb-40f8-db9b-d5fb97454289"
      },
      "execution_count": 26,
      "outputs": [
        {
          "output_type": "stream",
          "name": "stdout",
          "text": [
            "('c', 'o', 'n', 'v', 'e', 'r', 't', ' ', 's', 't', 'r', 'i', 'n', 'g', ' ', 't', 'o', ' ', 't', 'u', 'p', 'l', 'e')\n"
          ]
        }
      ]
    },
    {
      "cell_type": "markdown",
      "source": [
        "# typecast to Set - set()"
      ],
      "metadata": {
        "id": "RSGeDIvzt5Ms"
      }
    },
    {
      "cell_type": "code",
      "source": [
        "str1 = 'convert string to set'\n",
        "\n",
        "print(set(str1))"
      ],
      "metadata": {
        "colab": {
          "base_uri": "https://localhost:8080/"
        },
        "id": "3f9Hl7G0tgyJ",
        "outputId": "33849def-f4d5-430d-e01c-72d9c372414c"
      },
      "execution_count": 27,
      "outputs": [
        {
          "output_type": "stream",
          "name": "stdout",
          "text": [
            "{'t', 'i', 'n', 'r', ' ', 'c', 's', 'v', 'o', 'g', 'e'}\n"
          ]
        }
      ]
    },
    {
      "cell_type": "markdown",
      "source": [
        "# typecast to Dictionary - dictionary()"
      ],
      "metadata": {
        "id": "bWwmJOEQt1cB"
      }
    },
    {
      "cell_type": "code",
      "source": [
        "# list of tuples to dictionary\n",
        "\n",
        "lst1 = [(1, 'a'), (2, 'b')]\n",
        "\n",
        "print(dict(lst1))"
      ],
      "metadata": {
        "colab": {
          "base_uri": "https://localhost:8080/"
        },
        "id": "typxHTBIuFUx",
        "outputId": "f480b4ca-7bc1-42d8-fb9d-6a90cd487c85"
      },
      "execution_count": 30,
      "outputs": [
        {
          "output_type": "stream",
          "name": "stdout",
          "text": [
            "{1: 'a', 2: 'b'}\n"
          ]
        }
      ]
    },
    {
      "cell_type": "code",
      "source": [
        "# list of lists to dictionary\n",
        "\n",
        "lst2 = [[1, 'a'], [2, 'b']]\n",
        "\n",
        "print(dict(lst2))"
      ],
      "metadata": {
        "colab": {
          "base_uri": "https://localhost:8080/"
        },
        "id": "5vJ4Nw6ax3pN",
        "outputId": "15f4c80b-9a8f-43ff-9a90-2bc7c157172e"
      },
      "execution_count": 32,
      "outputs": [
        {
          "output_type": "stream",
          "name": "stdout",
          "text": [
            "{1: 'a', 2: 'b'}\n"
          ]
        }
      ]
    },
    {
      "cell_type": "code",
      "source": [
        "# tuple of tuples to dictionary\n",
        "\n",
        "tup1 = (('zone1', 'north'), ('zone2', 'south'), ('zone3', 'east'), ('zone4', 'west'))\n",
        "\n",
        "print(dict(tup1))"
      ],
      "metadata": {
        "colab": {
          "base_uri": "https://localhost:8080/"
        },
        "id": "zCoaSBzMxKB1",
        "outputId": "19540f6f-5c3f-4ca8-ac43-03453c4d03af"
      },
      "execution_count": 31,
      "outputs": [
        {
          "output_type": "stream",
          "name": "stdout",
          "text": [
            "{'zone1': 'north', 'zone2': 'south', 'zone3': 'east', 'zone4': 'west'}\n"
          ]
        }
      ]
    },
    {
      "cell_type": "code",
      "source": [
        "# tuple of list to dictionary\n",
        "\n",
        "tup2 = (['zone1', 'north'], ['zone2', 'south'], ['zone3', 'east'], ['zone4', 'west'])\n",
        "\n",
        "print(dict(tup2))"
      ],
      "metadata": {
        "colab": {
          "base_uri": "https://localhost:8080/"
        },
        "id": "VMWwIPqJyErm",
        "outputId": "459dcebe-887b-47c9-da05-b637af8eba7d"
      },
      "execution_count": 33,
      "outputs": [
        {
          "output_type": "stream",
          "name": "stdout",
          "text": [
            "{'zone1': 'north', 'zone2': 'south', 'zone3': 'east', 'zone4': 'west'}\n"
          ]
        }
      ]
    },
    {
      "cell_type": "code",
      "source": [
        "# set of list to dictionary - TypeError: unhashable type: 'list'\n",
        "\n",
        "set1 = {[1, 'a'], [2, 'b']}\n",
        "\n",
        "print(dict(set1))"
      ],
      "metadata": {
        "id": "ul1lAoHWygLU"
      },
      "execution_count": null,
      "outputs": []
    },
    {
      "cell_type": "code",
      "source": [
        "# set of tuple to dictionary\n",
        "\n",
        "set2 = {(1, 'a'), (2, 'b')}\n",
        "\n",
        "print(dict(set2))"
      ],
      "metadata": {
        "colab": {
          "base_uri": "https://localhost:8080/"
        },
        "id": "JDOcYw41yzzd",
        "outputId": "5c5fbe5a-e6b1-47b6-8270-5b44bbba8e09"
      },
      "execution_count": 36,
      "outputs": [
        {
          "output_type": "stream",
          "name": "stdout",
          "text": [
            "{2: 'b', 1: 'a'}\n"
          ]
        }
      ]
    },
    {
      "cell_type": "markdown",
      "source": [
        "# Number formats\n",
        "\n"
      ],
      "metadata": {
        "id": "qvRgwlF7zSIm"
      }
    },
    {
      "cell_type": "markdown",
      "source": [
        "Decimal:  1\n",
        "Binary:  0b1\n",
        "Octa Decimal:  0o1\n",
        "Hexa Decimal:  0x1"
      ],
      "metadata": {
        "id": "ZZ1MWcSP1ED-"
      }
    },
    {
      "cell_type": "code",
      "source": [
        "for i in range(0, 100, 1):\n",
        "    print('Decimal: ', i)\n",
        "    print('Binary: ', bin(i))\n",
        "    print('Octa Decimal: ', oct(i))\n",
        "    print('Hexa Decimal: ', hex(i), '\\n')\n",
        ""
      ],
      "metadata": {
        "id": "F6KBELqSzRvR"
      },
      "execution_count": null,
      "outputs": []
    },
    {
      "cell_type": "code",
      "source": [
        "for i in range(0, 100, 1):\n",
        "    print('Binary: ', bin(i))"
      ],
      "metadata": {
        "id": "sloE3szz09TU"
      },
      "execution_count": null,
      "outputs": []
    },
    {
      "cell_type": "code",
      "source": [
        "for i in range(0, 100, 1):\n",
        "    print('Octa Decimal: ', oct(i))"
      ],
      "metadata": {
        "id": "eRqbDGER1gri"
      },
      "execution_count": null,
      "outputs": []
    },
    {
      "cell_type": "code",
      "source": [
        "for i in range(0, 100, 1):\n",
        "    print('Hexa Decimal: ', hex(i))"
      ],
      "metadata": {
        "id": "SfE6AHVr1gkB"
      },
      "execution_count": null,
      "outputs": []
    },
    {
      "cell_type": "markdown",
      "source": [
        "# Help function - help()"
      ],
      "metadata": {
        "id": "630Glab82IDq"
      }
    },
    {
      "cell_type": "code",
      "source": [
        "help()"
      ],
      "metadata": {
        "id": "XkUR_Mrl4g6f"
      },
      "execution_count": null,
      "outputs": []
    },
    {
      "cell_type": "code",
      "source": [
        "help(print)"
      ],
      "metadata": {
        "id": "6dUixQ1e1gax"
      },
      "execution_count": null,
      "outputs": []
    },
    {
      "cell_type": "code",
      "source": [
        "help(eval)"
      ],
      "metadata": {
        "id": "FO56E-3u4rwy"
      },
      "execution_count": null,
      "outputs": []
    },
    {
      "cell_type": "code",
      "source": [
        "help(iter)"
      ],
      "metadata": {
        "id": "IFW04e804sI9"
      },
      "execution_count": null,
      "outputs": []
    },
    {
      "cell_type": "code",
      "source": [
        "help(next)"
      ],
      "metadata": {
        "colab": {
          "base_uri": "https://localhost:8080/"
        },
        "id": "N8lAti2W4sVd",
        "outputId": "6cd50a56-2210-491f-e2e0-23291b695577"
      },
      "execution_count": 73,
      "outputs": [
        {
          "output_type": "stream",
          "name": "stdout",
          "text": [
            "Help on built-in function next in module builtins:\n",
            "\n",
            "next(...)\n",
            "    next(iterator[, default])\n",
            "    \n",
            "    Return the next item from the iterator. If default is given and the iterator\n",
            "    is exhausted, it is returned instead of raising StopIteration.\n",
            "\n"
          ]
        }
      ]
    },
    {
      "cell_type": "code",
      "source": [
        "help(len)"
      ],
      "metadata": {
        "id": "4y4ONk8o5xPw"
      },
      "execution_count": null,
      "outputs": []
    },
    {
      "cell_type": "code",
      "source": [
        "help(max)"
      ],
      "metadata": {
        "id": "oSRfJgzW5xFw"
      },
      "execution_count": null,
      "outputs": []
    },
    {
      "cell_type": "code",
      "source": [
        "help(sort)"
      ],
      "metadata": {
        "id": "BfpQ64CP9Xdg"
      },
      "execution_count": null,
      "outputs": []
    },
    {
      "cell_type": "code",
      "source": [
        "help(sorted)"
      ],
      "metadata": {
        "id": "c86BvLiH9XSd"
      },
      "execution_count": null,
      "outputs": []
    },
    {
      "cell_type": "code",
      "source": [
        "help(list)"
      ],
      "metadata": {
        "id": "f6vPzuOf9XIP"
      },
      "execution_count": null,
      "outputs": []
    },
    {
      "cell_type": "markdown",
      "source": [
        "# iter()"
      ],
      "metadata": {
        "id": "mqb7M_ak472g"
      }
    },
    {
      "cell_type": "code",
      "source": [
        "lst1 = ['apple','banana','cherries','durian','grapes']\n",
        "\n",
        "x = iter(lst1)\n",
        "\n",
        "print(next(x))\n",
        "print(next(x))\n",
        "print(next(x))\n",
        "print(next(x))\n",
        "print(next(x))"
      ],
      "metadata": {
        "colab": {
          "base_uri": "https://localhost:8080/"
        },
        "id": "vfC-hNJF15Fg",
        "outputId": "4b5a5a5b-76ff-4f60-910b-29c06776b705"
      },
      "execution_count": 78,
      "outputs": [
        {
          "output_type": "stream",
          "name": "stdout",
          "text": [
            "apple\n",
            "banana\n",
            "cherries\n",
            "durian\n",
            "grapes\n"
          ]
        }
      ]
    },
    {
      "cell_type": "code",
      "source": [
        "tup1 = ('apple','banana','cherries','durian','grapes')\n",
        "\n",
        "x = iter(tup1)\n",
        "\n",
        "print(next(x))\n",
        "print(next(x))\n",
        "print(next(x))\n",
        "print(next(x))\n",
        "print(next(x))\n"
      ],
      "metadata": {
        "colab": {
          "base_uri": "https://localhost:8080/"
        },
        "id": "8URdRb6x53GB",
        "outputId": "82d6c7ca-fe81-4c93-d86b-4645b88c1c74"
      },
      "execution_count": 79,
      "outputs": [
        {
          "output_type": "stream",
          "name": "stdout",
          "text": [
            "apple\n",
            "banana\n",
            "cherries\n",
            "durian\n",
            "grapes\n"
          ]
        }
      ]
    },
    {
      "cell_type": "code",
      "source": [
        "set1 = {'apple','banana','cherries','durian','grapes'}\n",
        "\n",
        "x = iter(set1)\n",
        "\n",
        "print(next(x))\n",
        "print(next(x))\n",
        "print(next(x))\n",
        "print(next(x))\n",
        "print(next(x))\n"
      ],
      "metadata": {
        "colab": {
          "base_uri": "https://localhost:8080/"
        },
        "id": "Uro12HVJ525l",
        "outputId": "c85cfd98-1ef2-40d4-d6dd-830f1a0f923d"
      },
      "execution_count": 80,
      "outputs": [
        {
          "output_type": "stream",
          "name": "stdout",
          "text": [
            "banana\n",
            "apple\n",
            "grapes\n",
            "durian\n",
            "cherries\n"
          ]
        }
      ]
    },
    {
      "cell_type": "code",
      "source": [
        "set2 = {'apple','banana','cherries','durian','grapes', 'apple','banana','cherries'}\n",
        "\n",
        "x = iter(set2)\n",
        "\n",
        "print(next(x))\n",
        "print(next(x))\n",
        "print(next(x))\n",
        "print(next(x))\n",
        "print(next(x))\n",
        "\n",
        "StopIteration:\n"
      ],
      "metadata": {
        "colab": {
          "base_uri": "https://localhost:8080/"
        },
        "id": "Fc2d_CQo6OB0",
        "outputId": "eb55e375-06e5-42e1-ff80-e1d0dbc4ba12"
      },
      "execution_count": 81,
      "outputs": [
        {
          "output_type": "stream",
          "name": "stdout",
          "text": [
            "banana\n",
            "apple\n",
            "grapes\n",
            "durian\n",
            "cherries\n"
          ]
        }
      ]
    },
    {
      "cell_type": "code",
      "source": [
        "dict1 = {}\n",
        "\n",
        "x = iter(dict1)"
      ],
      "metadata": {
        "id": "ytbBiOyF7Y8r"
      },
      "execution_count": null,
      "outputs": []
    },
    {
      "cell_type": "markdown",
      "source": [
        "# length - len()"
      ],
      "metadata": {
        "id": "zXWGA_HA7xws"
      }
    },
    {
      "cell_type": "code",
      "source": [
        "str1 = 'Welcome to python programming webinar'\n",
        "\n",
        "len(str1)"
      ],
      "metadata": {
        "colab": {
          "base_uri": "https://localhost:8080/"
        },
        "id": "rj_b1DDu7wpp",
        "outputId": "22ba1ffb-c50a-44e1-a41c-cbdeeeaf6111"
      },
      "execution_count": 82,
      "outputs": [
        {
          "output_type": "execute_result",
          "data": {
            "text/plain": [
              "37"
            ]
          },
          "metadata": {},
          "execution_count": 82
        }
      ]
    },
    {
      "cell_type": "markdown",
      "source": [
        "# Some more functions"
      ],
      "metadata": {
        "id": "E3AGIDJV97EA"
      }
    },
    {
      "cell_type": "code",
      "source": [
        "min(lst1)"
      ],
      "metadata": {
        "colab": {
          "base_uri": "https://localhost:8080/",
          "height": 35
        },
        "id": "eyH8dIit8bPi",
        "outputId": "e3d9cb42-5eb9-4405-9f00-ea3f15644290"
      },
      "execution_count": 83,
      "outputs": [
        {
          "output_type": "execute_result",
          "data": {
            "text/plain": [
              "'apple'"
            ],
            "application/vnd.google.colaboratory.intrinsic+json": {
              "type": "string"
            }
          },
          "metadata": {},
          "execution_count": 83
        }
      ]
    },
    {
      "cell_type": "code",
      "source": [
        "max(lst1)"
      ],
      "metadata": {
        "colab": {
          "base_uri": "https://localhost:8080/",
          "height": 35
        },
        "id": "e-WFgDvj8bHu",
        "outputId": "f82c1dcd-c528-40d5-9924-27569df6dbe0"
      },
      "execution_count": 84,
      "outputs": [
        {
          "output_type": "execute_result",
          "data": {
            "text/plain": [
              "'grapes'"
            ],
            "application/vnd.google.colaboratory.intrinsic+json": {
              "type": "string"
            }
          },
          "metadata": {},
          "execution_count": 84
        }
      ]
    },
    {
      "cell_type": "code",
      "source": [
        "flt1 = 3.49\n",
        "round(flt1)"
      ],
      "metadata": {
        "colab": {
          "base_uri": "https://localhost:8080/"
        },
        "id": "7Xouf2Di8bXQ",
        "outputId": "665694f1-d98f-4cc7-821b-94ebada68f16"
      },
      "execution_count": 85,
      "outputs": [
        {
          "output_type": "execute_result",
          "data": {
            "text/plain": [
              "3"
            ]
          },
          "metadata": {},
          "execution_count": 85
        }
      ]
    },
    {
      "cell_type": "code",
      "source": [
        "flt1 = 3.50\n",
        "round(flt1)"
      ],
      "metadata": {
        "colab": {
          "base_uri": "https://localhost:8080/"
        },
        "id": "B4LmQNQ28pFd",
        "outputId": "96b57d22-92fc-458c-a563-0d4e6130a32b"
      },
      "execution_count": 86,
      "outputs": [
        {
          "output_type": "execute_result",
          "data": {
            "text/plain": [
              "4"
            ]
          },
          "metadata": {},
          "execution_count": 86
        }
      ]
    },
    {
      "cell_type": "code",
      "source": [
        "flt1 = 3.51\n",
        "round(flt1)"
      ],
      "metadata": {
        "colab": {
          "base_uri": "https://localhost:8080/"
        },
        "id": "HWTkekqc8a_z",
        "outputId": "52a4f7de-eb68-4f32-d2f4-be51128261fb"
      },
      "execution_count": 87,
      "outputs": [
        {
          "output_type": "execute_result",
          "data": {
            "text/plain": [
              "4"
            ]
          },
          "metadata": {},
          "execution_count": 87
        }
      ]
    },
    {
      "cell_type": "code",
      "source": [
        "lst1 = [1, 1.49, 1.50, 1.35, 1.99, 1.77]\n",
        "\n",
        "lst1.sort()\n",
        "print(lst1)"
      ],
      "metadata": {
        "colab": {
          "base_uri": "https://localhost:8080/"
        },
        "id": "fm8EZwFr86ns",
        "outputId": "fa521e75-4814-48ad-9b64-847968ccd171"
      },
      "execution_count": 93,
      "outputs": [
        {
          "output_type": "stream",
          "name": "stdout",
          "text": [
            "[1, 1.35, 1.49, 1.5, 1.77, 1.99]\n"
          ]
        }
      ]
    },
    {
      "cell_type": "code",
      "source": [
        "sorted(lst1)"
      ],
      "metadata": {
        "colab": {
          "base_uri": "https://localhost:8080/"
        },
        "id": "nkUT9Arl9jmu",
        "outputId": "4531d4e6-2184-4c41-a4e1-0d117961ca3a"
      },
      "execution_count": 94,
      "outputs": [
        {
          "output_type": "execute_result",
          "data": {
            "text/plain": [
              "[1, 1.35, 1.49, 1.5, 1.77, 1.99]"
            ]
          },
          "metadata": {},
          "execution_count": 94
        }
      ]
    },
    {
      "cell_type": "markdown",
      "source": [
        "# find ascii value - ascii()"
      ],
      "metadata": {
        "id": "xmX15p-f5EVK"
      }
    },
    {
      "cell_type": "code",
      "source": [
        "for i in range(0, 100, 1):\n",
        "    print('Ascii value: ', ascii(i))"
      ],
      "metadata": {
        "id": "QC5RAdQf0pJa"
      },
      "execution_count": null,
      "outputs": []
    }
  ]
}