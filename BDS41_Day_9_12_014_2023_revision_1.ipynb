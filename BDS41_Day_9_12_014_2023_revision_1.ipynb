{
  "nbformat": 4,
  "nbformat_minor": 0,
  "metadata": {
    "colab": {
      "provenance": [],
      "collapsed_sections": [
        "IQa7HzpXDC3U",
        "SeLe60iNDDUm",
        "abt5YeqBDFCR",
        "s3A2FEzGH7Px",
        "MsH3YdEJOr1Y",
        "dYMJOFkfOxbs"
      ],
      "toc_visible": true,
      "authorship_tag": "ABX9TyMLw6kLeThl+BQ88S9U5HFB",
      "include_colab_link": true
    },
    "kernelspec": {
      "name": "python3",
      "display_name": "Python 3"
    },
    "language_info": {
      "name": "python"
    }
  },
  "cells": [
    {
      "cell_type": "markdown",
      "metadata": {
        "id": "view-in-github",
        "colab_type": "text"
      },
      "source": [
        "<a href=\"https://colab.research.google.com/github/deepalama/TakeoBDS41/blob/main/BDS41_Day_9_12_014_2023_revision_1.ipynb\" target=\"_parent\"><img src=\"https://colab.research.google.com/assets/colab-badge.svg\" alt=\"Open In Colab\"/></a>"
      ]
    },
    {
      "cell_type": "markdown",
      "source": [
        "# New Section"
      ],
      "metadata": {
        "id": "IQa7HzpXDC3U"
      }
    },
    {
      "cell_type": "code",
      "source": [
        "import pdb\n",
        "\n",
        "for i in range(10):\n",
        "  for j in range(10):\n",
        "    print('*', end=' ')\n",
        "  print('')\n",
        "\n",
        "pdb.set_trace()"
      ],
      "metadata": {
        "id": "kckTgofVDGFy"
      },
      "execution_count": null,
      "outputs": []
    },
    {
      "cell_type": "markdown",
      "source": [
        "# New Section"
      ],
      "metadata": {
        "id": "SeLe60iNDDUm"
      }
    },
    {
      "cell_type": "code",
      "source": [
        "import matplotlib.pyplot as plt\n",
        "\n",
        "for i in range(10):\n",
        "  for j in range(10):\n",
        "    print('*', end=' ')\n",
        "  print('')\n",
        "\n",
        "plt.plot(data)\n",
        "plt.show()"
      ],
      "metadata": {
        "colab": {
          "base_uri": "https://localhost:8080/"
        },
        "id": "Y9bhJDBGDGrx",
        "outputId": "af724f4d-14f1-47d4-8691-167d8d585046"
      },
      "execution_count": null,
      "outputs": [
        {
          "output_type": "stream",
          "name": "stdout",
          "text": [
            "* * * * * * * * * * \n",
            "* * * * * * * * * * \n",
            "* * * * * * * * * * \n",
            "* * * * * * * * * * \n",
            "* * * * * * * * * * \n",
            "* * * * * * * * * * \n",
            "* * * * * * * * * * \n",
            "* * * * * * * * * * \n",
            "* * * * * * * * * * \n",
            "* * * * * * * * * * \n"
          ]
        }
      ]
    },
    {
      "cell_type": "markdown",
      "source": [
        "# New Section"
      ],
      "metadata": {
        "id": "abt5YeqBDFCR"
      }
    },
    {
      "cell_type": "code",
      "source": [
        "%debug\n",
        "\n",
        "for i in range(10):\n",
        "  for j in range(10):\n",
        "    print('*', end=' ')\n",
        "  print('')"
      ],
      "metadata": {
        "id": "98sp1-ZrDHH4"
      },
      "execution_count": null,
      "outputs": []
    },
    {
      "cell_type": "markdown",
      "source": [
        "# Range"
      ],
      "metadata": {
        "id": "s3A2FEzGH7Px"
      }
    },
    {
      "cell_type": "code",
      "source": [
        "for i in range(0):\n",
        "    print(i)"
      ],
      "metadata": {
        "id": "moT2QwniVe9z"
      },
      "execution_count": null,
      "outputs": []
    },
    {
      "cell_type": "code",
      "source": [
        "for i in range(10): # length/starting point\n",
        "    print(i)"
      ],
      "metadata": {
        "colab": {
          "base_uri": "https://localhost:8080/"
        },
        "id": "xgz5IZotG_Lq",
        "outputId": "db303c0a-b525-4cd3-aa7e-00e04194c000"
      },
      "execution_count": null,
      "outputs": [
        {
          "output_type": "stream",
          "name": "stdout",
          "text": [
            "0\n",
            "1\n",
            "2\n",
            "3\n",
            "4\n",
            "5\n",
            "6\n",
            "7\n",
            "8\n",
            "9\n"
          ]
        }
      ]
    },
    {
      "cell_type": "code",
      "source": [
        "for i in range(10, 20): # length/starting point, ending point, , gap/ jump of value = 1 by default\n",
        "    print(i)"
      ],
      "metadata": {
        "colab": {
          "base_uri": "https://localhost:8080/"
        },
        "id": "qjZITD8DN0Dp",
        "outputId": "398d557c-dba3-4f0d-9e5f-2add30b5209f"
      },
      "execution_count": null,
      "outputs": [
        {
          "output_type": "stream",
          "name": "stdout",
          "text": [
            "10\n",
            "11\n",
            "12\n",
            "13\n",
            "14\n",
            "15\n",
            "16\n",
            "17\n",
            "18\n",
            "19\n"
          ]
        }
      ]
    },
    {
      "cell_type": "code",
      "source": [
        "for i in range(10, 20, 2): # length/starting point, ending point, gap/ jump of value\n",
        "    print(i)"
      ],
      "metadata": {
        "colab": {
          "base_uri": "https://localhost:8080/"
        },
        "id": "TNIonvI1N0pA",
        "outputId": "77968936-3f49-4692-fe99-118c68b56dcd"
      },
      "execution_count": null,
      "outputs": [
        {
          "output_type": "stream",
          "name": "stdout",
          "text": [
            "10\n",
            "12\n",
            "14\n",
            "16\n",
            "18\n"
          ]
        }
      ]
    },
    {
      "cell_type": "code",
      "source": [
        "for i in range(20, 0, -2): # length/starting point, ending point, gap/ jump of value\n",
        "    print(i)"
      ],
      "metadata": {
        "colab": {
          "base_uri": "https://localhost:8080/"
        },
        "id": "b7o5UE9EOfLk",
        "outputId": "9dea618b-f48e-4363-da24-7b7bedfbecb4"
      },
      "execution_count": null,
      "outputs": [
        {
          "output_type": "stream",
          "name": "stdout",
          "text": [
            "20\n",
            "18\n",
            "16\n",
            "14\n",
            "12\n",
            "10\n",
            "8\n",
            "6\n",
            "4\n",
            "2\n"
          ]
        }
      ]
    },
    {
      "cell_type": "markdown",
      "source": [
        "# for loop"
      ],
      "metadata": {
        "id": "MsH3YdEJOr1Y"
      }
    },
    {
      "cell_type": "code",
      "source": [
        "lst1 = [1, 2.5, 3.99, 12+23j]\n",
        "for i in lst1:\n",
        "    print(i)"
      ],
      "metadata": {
        "colab": {
          "base_uri": "https://localhost:8080/"
        },
        "id": "EcYHLZbgOuQ1",
        "outputId": "d94433d0-ff4c-4b94-96bf-2e438191056a"
      },
      "execution_count": null,
      "outputs": [
        {
          "output_type": "stream",
          "name": "stdout",
          "text": [
            "1\n",
            "2.5\n",
            "3.99\n",
            "(12+23j)\n"
          ]
        }
      ]
    },
    {
      "cell_type": "code",
      "source": [
        "dict1 = {'a': 1, 'b':  2.5, 'c':  3.99, 'd':  12+23j}\n",
        "for i in dict1 :\n",
        "    print(i)"
      ],
      "metadata": {
        "colab": {
          "base_uri": "https://localhost:8080/"
        },
        "id": "YuDQ0uykPSbZ",
        "outputId": "0475d08c-5719-418e-db52-536ded5e4ee6"
      },
      "execution_count": null,
      "outputs": [
        {
          "output_type": "stream",
          "name": "stdout",
          "text": [
            "a\n",
            "b\n",
            "c\n",
            "d\n"
          ]
        }
      ]
    },
    {
      "cell_type": "code",
      "source": [
        "dict1 = {'a': 1, 'b':  2.5, 'c':  3.99, 'd':  12+23j}\n",
        "for i in dict1.values() :\n",
        "    print(i)"
      ],
      "metadata": {
        "colab": {
          "base_uri": "https://localhost:8080/"
        },
        "id": "eau-8GSAQSq_",
        "outputId": "c63c621c-2809-4e8e-c55e-d51910c52f29"
      },
      "execution_count": null,
      "outputs": [
        {
          "output_type": "stream",
          "name": "stdout",
          "text": [
            "1\n",
            "2.5\n",
            "3.99\n",
            "(12+23j)\n"
          ]
        }
      ]
    },
    {
      "cell_type": "code",
      "source": [
        "dict1 = {'a': 1, 'b':  2.5, 'c':  3.99, 'd':  12+23j}\n",
        "for i in dict1.items() :\n",
        "    print(i)"
      ],
      "metadata": {
        "colab": {
          "base_uri": "https://localhost:8080/"
        },
        "id": "8l85AvR8QO47",
        "outputId": "0740e45e-8a89-4ac5-ff08-72a1e6d3b24f"
      },
      "execution_count": null,
      "outputs": [
        {
          "output_type": "stream",
          "name": "stdout",
          "text": [
            "('a', 1)\n",
            "('b', 2.5)\n",
            "('c', 3.99)\n",
            "('d', (12+23j))\n"
          ]
        }
      ]
    },
    {
      "cell_type": "code",
      "source": [
        "for i in range(0, 10): # i = 0 at starting then i++\n",
        "    for j in range(11, 20): # j = 0 at starting then j++\n",
        "        print(i + j)\n",
        "    print()"
      ],
      "metadata": {
        "id": "ft4Wfuf6QWaK"
      },
      "execution_count": null,
      "outputs": []
    },
    {
      "cell_type": "code",
      "source": [
        "for i in range(0, 10): # i = 0 at starting then i++\n",
        "    for j in range(11, 20): # j = 0 at starting then j++\n",
        "        print(i + j, end = ' ')\n",
        "    print()"
      ],
      "metadata": {
        "colab": {
          "base_uri": "https://localhost:8080/"
        },
        "id": "aue1V060RGv8",
        "outputId": "4e782693-5cca-4d7e-db19-a5dc0edb617c"
      },
      "execution_count": null,
      "outputs": [
        {
          "output_type": "stream",
          "name": "stdout",
          "text": [
            "11 12 13 14 15 16 17 18 19 \n",
            "12 13 14 15 16 17 18 19 20 \n",
            "13 14 15 16 17 18 19 20 21 \n",
            "14 15 16 17 18 19 20 21 22 \n",
            "15 16 17 18 19 20 21 22 23 \n",
            "16 17 18 19 20 21 22 23 24 \n",
            "17 18 19 20 21 22 23 24 25 \n",
            "18 19 20 21 22 23 24 25 26 \n",
            "19 20 21 22 23 24 25 26 27 \n",
            "20 21 22 23 24 25 26 27 28 \n"
          ]
        }
      ]
    },
    {
      "cell_type": "markdown",
      "source": [
        "# print patterns usuing for loop"
      ],
      "metadata": {
        "id": "dYMJOFkfOxbs"
      }
    },
    {
      "cell_type": "code",
      "source": [
        "# pattern = squre and rectagle\n",
        "\n",
        "for i in range(5):\n",
        "    for j in range(5):\n",
        "        print('*')\n",
        "\n",
        "print('\\n')\n",
        "\n",
        "for i in range(5):\n",
        "    for j in range(5):\n",
        "        print('*', end = ' ')\n",
        "\n",
        "print('\\n', '\\n')\n",
        "\n",
        "for i in range(5):      # number of row\n",
        "    for j in range(5):  # number of column\n",
        "        print('*', end = ' ')\n",
        "    print() # after each time 2nd loop completes an iteration, print() changes line"
      ],
      "metadata": {
        "colab": {
          "base_uri": "https://localhost:8080/"
        },
        "id": "h-GMV9q9O3CQ",
        "outputId": "4f390108-4969-4b85-d267-df7c46a0f241"
      },
      "execution_count": null,
      "outputs": [
        {
          "output_type": "stream",
          "name": "stdout",
          "text": [
            "*\n",
            "*\n",
            "*\n",
            "*\n",
            "*\n",
            "*\n",
            "*\n",
            "*\n",
            "*\n",
            "*\n",
            "*\n",
            "*\n",
            "*\n",
            "*\n",
            "*\n",
            "*\n",
            "*\n",
            "*\n",
            "*\n",
            "*\n",
            "*\n",
            "*\n",
            "*\n",
            "*\n",
            "*\n",
            "\n",
            "\n",
            "* * * * * * * * * * * * * * * * * * * * * * * * * \n",
            " \n",
            "\n",
            "* * * * * \n",
            "* * * * * \n",
            "* * * * * \n",
            "* * * * * \n",
            "* * * * * \n"
          ]
        }
      ]
    },
    {
      "cell_type": "code",
      "source": [
        "# pattern = rectagle\n",
        "\n",
        "for i in range(5):      # number of row\n",
        "    for j in range(12):  # number of column\n",
        "        print('*', end = ' ')\n",
        "    print() # after each time 2nd loop completes an iteration, print() changes line"
      ],
      "metadata": {
        "colab": {
          "base_uri": "https://localhost:8080/"
        },
        "id": "tRHGuA2TWgeH",
        "outputId": "1bd1e9e7-b09e-4d26-9761-323836d7a825"
      },
      "execution_count": null,
      "outputs": [
        {
          "output_type": "stream",
          "name": "stdout",
          "text": [
            "* * * * * * * * * * * * \n",
            "* * * * * * * * * * * * \n",
            "* * * * * * * * * * * * \n",
            "* * * * * * * * * * * * \n",
            "* * * * * * * * * * * * \n"
          ]
        }
      ]
    },
    {
      "cell_type": "code",
      "source": [
        "# pattern = Triangle\n",
        "\n",
        "for i in range(10):\n",
        "    for i in range(10, 0, -1):\n",
        "        print('', end = '')\n",
        "    for k in range(1, 11, 1):\n",
        "        print('*', end = '')\n",
        "    print()\n",
        "\n",
        "print('\\n')\n",
        "\n",
        "for i in range(10):             # 1, 2, 3 ... 9\n",
        "    for j in range(10, i, -1):  # 10, 9, 8 .....1\n",
        "        print('', end = ' ')\n",
        "    for k in range(0, i+1, 1):   # 1, 2, 3 .... 10\n",
        "        print('*', end = ' ')\n",
        "    print()\n",
        "\n",
        "print('\\n')\n",
        "\n",
        "for i in range(10):             # 1, 2, 3 ... 9\n",
        "    for k in range(0, i+1, 1):   # 1, 2, 3 .... 10\n",
        "        print('*', end = ' ')\n",
        "    print()"
      ],
      "metadata": {
        "colab": {
          "base_uri": "https://localhost:8080/"
        },
        "id": "rUxsqs9FWkdz",
        "outputId": "a5fc25d1-8894-435b-d651-172c39075f88"
      },
      "execution_count": null,
      "outputs": [
        {
          "output_type": "stream",
          "name": "stdout",
          "text": [
            "**********\n",
            "**********\n",
            "**********\n",
            "**********\n",
            "**********\n",
            "**********\n",
            "**********\n",
            "**********\n",
            "**********\n",
            "**********\n",
            "\n",
            "\n",
            "          * \n",
            "         * * \n",
            "        * * * \n",
            "       * * * * \n",
            "      * * * * * \n",
            "     * * * * * * \n",
            "    * * * * * * * \n",
            "   * * * * * * * * \n",
            "  * * * * * * * * * \n",
            " * * * * * * * * * * \n",
            "\n",
            "\n",
            "* \n",
            "* * \n",
            "* * * \n",
            "* * * * \n",
            "* * * * * \n",
            "* * * * * * \n",
            "* * * * * * * \n",
            "* * * * * * * * \n",
            "* * * * * * * * * \n",
            "* * * * * * * * * * \n"
          ]
        }
      ]
    },
    {
      "cell_type": "code",
      "source": [
        "for i in range(10, 0, -1):\n",
        "    for j in range(10, i, -1):\n",
        "        print('', end = ' ')\n",
        "    for k in range(1, i+1, 1):\n",
        "        print('*', end = ' ')\n",
        "    print()"
      ],
      "metadata": {
        "colab": {
          "base_uri": "https://localhost:8080/"
        },
        "id": "b99rBeE5Yy9v",
        "outputId": "118aa1cc-2c57-4bfc-fabd-b03f059aa8f4"
      },
      "execution_count": null,
      "outputs": [
        {
          "output_type": "stream",
          "name": "stdout",
          "text": [
            "* * * * * * * * * * \n",
            " * * * * * * * * * \n",
            "  * * * * * * * * \n",
            "   * * * * * * * \n",
            "    * * * * * * \n",
            "     * * * * * \n",
            "      * * * * \n",
            "       * * * \n",
            "        * * \n",
            "         * \n"
          ]
        }
      ]
    },
    {
      "cell_type": "code",
      "source": [
        "for i in range(10, 0, -1):\n",
        "    for k in range(1, i+1, 1):\n",
        "        print('*', end = ' ')\n",
        "    print()"
      ],
      "metadata": {
        "colab": {
          "base_uri": "https://localhost:8080/"
        },
        "id": "9BPMWcpHaRu-",
        "outputId": "0cb34156-b24d-46ed-b84e-b0561fbfd67b"
      },
      "execution_count": null,
      "outputs": [
        {
          "output_type": "stream",
          "name": "stdout",
          "text": [
            "* * * * * * * * * * \n",
            "* * * * * * * * * \n",
            "* * * * * * * * \n",
            "* * * * * * * \n",
            "* * * * * * \n",
            "* * * * * \n",
            "* * * * \n",
            "* * * \n",
            "* * \n",
            "* \n"
          ]
        }
      ]
    },
    {
      "cell_type": "markdown",
      "source": [
        "# Whille loop"
      ],
      "metadata": {
        "id": "hMXFrLWkOuzZ"
      }
    },
    {
      "cell_type": "code",
      "source": [
        "a = 150\n",
        "\n",
        "while a > 100: # true\n",
        "    print('value of a - ', a)\n",
        "    a -= 10                     # reduce value by 10"
      ],
      "metadata": {
        "id": "-3J-HGclfSGT",
        "colab": {
          "base_uri": "https://localhost:8080/"
        },
        "outputId": "4e6dce72-fea3-4a6f-8afc-aa0af98b6c51"
      },
      "execution_count": null,
      "outputs": [
        {
          "output_type": "stream",
          "name": "stdout",
          "text": [
            "value of a -  150\n",
            "value of a -  140\n",
            "value of a -  130\n",
            "value of a -  120\n",
            "value of a -  110\n"
          ]
        }
      ]
    },
    {
      "cell_type": "code",
      "source": [
        "a = 150\n",
        "\n",
        "while a > 100: # true\n",
        "    print('value of a - ', a)\n",
        "\n",
        "    b = 10\n",
        "    while b < 100:  # true\n",
        "        print('value of b - ', b)\n",
        "        b += 30\n",
        "    a -= 10\n",
        "    print()\n",
        "\n",
        "    # for each value of a = b is printing whole iteration"
      ],
      "metadata": {
        "colab": {
          "base_uri": "https://localhost:8080/"
        },
        "id": "rqzUgJU-g3Uh",
        "outputId": "9030a9bc-e3b6-420b-b98e-c7a34d56b192"
      },
      "execution_count": null,
      "outputs": [
        {
          "output_type": "stream",
          "name": "stdout",
          "text": [
            "value of a -  150\n",
            "value of b -  10\n",
            "value of b -  40\n",
            "value of b -  70\n",
            "\n",
            "value of a -  140\n",
            "value of b -  10\n",
            "value of b -  40\n",
            "value of b -  70\n",
            "\n",
            "value of a -  130\n",
            "value of b -  10\n",
            "value of b -  40\n",
            "value of b -  70\n",
            "\n",
            "value of a -  120\n",
            "value of b -  10\n",
            "value of b -  40\n",
            "value of b -  70\n",
            "\n",
            "value of a -  110\n",
            "value of b -  10\n",
            "value of b -  40\n",
            "value of b -  70\n",
            "\n"
          ]
        }
      ]
    }
  ]
}