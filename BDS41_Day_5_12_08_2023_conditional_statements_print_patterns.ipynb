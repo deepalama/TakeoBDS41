{
  "nbformat": 4,
  "nbformat_minor": 0,
  "metadata": {
    "colab": {
      "provenance": [],
      "collapsed_sections": [
        "efhw2cW9kXyQ",
        "tkVm96mCoC7_"
      ],
      "toc_visible": true,
      "authorship_tag": "ABX9TyPZSiXS4Gp6LQYVzbTDem80",
      "include_colab_link": true
    },
    "kernelspec": {
      "name": "python3",
      "display_name": "Python 3"
    },
    "language_info": {
      "name": "python"
    }
  },
  "cells": [
    {
      "cell_type": "markdown",
      "metadata": {
        "id": "view-in-github",
        "colab_type": "text"
      },
      "source": [
        "<a href=\"https://colab.research.google.com/github/deepalama/TakeoBDS41/blob/main/BDS41_Day_5_12_08_2023_conditional_statements_print_patterns.ipynb\" target=\"_parent\"><img src=\"https://colab.research.google.com/assets/colab-badge.svg\" alt=\"Open In Colab\"/></a>"
      ]
    },
    {
      "cell_type": "markdown",
      "source": [
        "# day 5 - dec 08 - friday"
      ],
      "metadata": {
        "id": "efhw2cW9kXyQ"
      }
    },
    {
      "cell_type": "code",
      "source": [
        "student_lst1 = [98,90,87,80,76,70,65,60,54,50,43,40]\n",
        "\n",
        "for i in student_lst1:\n",
        "  print(\"Percentage Achieved \", i)\n",
        "  if i >= 85:\n",
        "    print('Pass with First Class Distinction \\n')\n",
        "  elif i >= 60:\n",
        "    print('Pass with First Class \\n')\n",
        "  elif i >= 40:\n",
        "    print('Pass with Second Class \\n')\n",
        "  else:\n",
        "    print('Better luck next time \\n')"
      ],
      "metadata": {
        "id": "u5U0PXkNlnkx",
        "outputId": "e86e0c1d-0806-4e5b-fb4e-ec56bbf058d7",
        "colab": {
          "base_uri": "https://localhost:8080/"
        }
      },
      "execution_count": 3,
      "outputs": [
        {
          "output_type": "stream",
          "name": "stdout",
          "text": [
            "Percentage Achieved  98\n",
            "Pass with First Class Distinction \n",
            "\n",
            "Percentage Achieved  90\n",
            "Pass with First Class Distinction \n",
            "\n",
            "Percentage Achieved  87\n",
            "Pass with First Class Distinction \n",
            "\n",
            "Percentage Achieved  80\n",
            "Pass with First Class \n",
            "\n",
            "Percentage Achieved  76\n",
            "Pass with First Class \n",
            "\n",
            "Percentage Achieved  70\n",
            "Pass with First Class \n",
            "\n",
            "Percentage Achieved  65\n",
            "Pass with First Class \n",
            "\n",
            "Percentage Achieved  60\n",
            "Pass with First Class \n",
            "\n",
            "Percentage Achieved  54\n",
            "Pass with Second Class \n",
            "\n",
            "Percentage Achieved  50\n",
            "Pass with Second Class \n",
            "\n",
            "Percentage Achieved  43\n",
            "Pass with Second Class \n",
            "\n",
            "Percentage Achieved  40\n",
            "Pass with Second Class \n",
            "\n"
          ]
        }
      ]
    },
    {
      "cell_type": "code",
      "source": [
        "student_name = ['harry']\n",
        "# student_sub = ['Eng', 'Math', 'Science', 'So. Sci', 'PT']\n",
        "student_marks_1 = [98,87,76,65,54]\n",
        "\n",
        "for i in student_name:\n",
        "  sub_tot = 0\n",
        "  for j in student_marks_1:\n",
        "     sub_tot += j\n",
        "  print(i, 'achieved ', sub_tot, 'marks.')"
      ],
      "metadata": {
        "id": "pK_8fKL-kgTb",
        "colab": {
          "base_uri": "https://localhost:8080/"
        },
        "outputId": "ee431acb-54a5-48ee-bafe-b47a4eb99aad"
      },
      "execution_count": 5,
      "outputs": [
        {
          "output_type": "stream",
          "name": "stdout",
          "text": [
            "harry achieved  380 marks.\n"
          ]
        }
      ]
    },
    {
      "cell_type": "markdown",
      "source": [
        "# print patterns (squre and rectangle)"
      ],
      "metadata": {
        "id": "tkVm96mCoC7_"
      }
    },
    {
      "cell_type": "code",
      "source": [
        "for i in range(5):\n",
        "  for j in range(5):\n",
        "    print('*', end=' ')\n",
        "  print('')"
      ],
      "metadata": {
        "colab": {
          "base_uri": "https://localhost:8080/"
        },
        "id": "VEyhJ5O9oJAX",
        "outputId": "6d43c18b-9cca-4d66-92a5-4fa6d1093a8b"
      },
      "execution_count": 7,
      "outputs": [
        {
          "output_type": "stream",
          "name": "stdout",
          "text": [
            "* * * * * \n",
            "* * * * * \n",
            "* * * * * \n",
            "* * * * * \n",
            "* * * * * \n"
          ]
        }
      ]
    },
    {
      "cell_type": "code",
      "source": [
        "for i in range(5):\n",
        "  for j in range(15):\n",
        "    print('*', end=' ')\n",
        "  print('')"
      ],
      "metadata": {
        "colab": {
          "base_uri": "https://localhost:8080/"
        },
        "id": "RkCcCblzoajs",
        "outputId": "8b9999f8-003a-48a9-b82d-6af56ddb4062"
      },
      "execution_count": 10,
      "outputs": [
        {
          "output_type": "stream",
          "name": "stdout",
          "text": [
            "* * * * * * * * * * * * * * * \n",
            "* * * * * * * * * * * * * * * \n",
            "* * * * * * * * * * * * * * * \n",
            "* * * * * * * * * * * * * * * \n",
            "* * * * * * * * * * * * * * * \n"
          ]
        }
      ]
    },
    {
      "cell_type": "code",
      "source": [
        "temp1 = 5\n",
        "\n",
        "while temp1 > 0:\n",
        "\n",
        "  temp2 = 5\n",
        "  while temp2 > 0:\n",
        "\n",
        "    print('*', end=' ')\n",
        "    temp2 -= 1\n",
        "  temp1 -= 1\n",
        "  print()"
      ],
      "metadata": {
        "colab": {
          "base_uri": "https://localhost:8080/"
        },
        "id": "ZqP8H1djorli",
        "outputId": "89c379f2-6ced-4bc7-9ef8-d06c6cba328d"
      },
      "execution_count": 14,
      "outputs": [
        {
          "output_type": "stream",
          "name": "stdout",
          "text": [
            "* * * * * \n",
            "* * * * * \n",
            "* * * * * \n",
            "* * * * * \n",
            "* * * * * \n"
          ]
        }
      ]
    },
    {
      "cell_type": "code",
      "source": [
        "temp1 = 5\n",
        "\n",
        "while temp1 > 0:\n",
        "\n",
        "  temp2 = 12\n",
        "  while temp2 > 0:\n",
        "\n",
        "    print('*', end=' ')\n",
        "    temp2 -= 1\n",
        "  temp1 -= 1\n",
        "  print()"
      ],
      "metadata": {
        "colab": {
          "base_uri": "https://localhost:8080/"
        },
        "id": "eVoQ_stzpLF5",
        "outputId": "cde44d51-508b-48ab-e9dc-4f8d63524efb"
      },
      "execution_count": 17,
      "outputs": [
        {
          "output_type": "stream",
          "name": "stdout",
          "text": [
            "* * * * * * * * * * * * \n",
            "* * * * * * * * * * * * \n",
            "* * * * * * * * * * * * \n",
            "* * * * * * * * * * * * \n",
            "* * * * * * * * * * * * \n"
          ]
        }
      ]
    },
    {
      "cell_type": "code",
      "source": [
        "temp1 = 0\n",
        "\n",
        "while temp1 < 5:\n",
        "\n",
        "  temp2 = 0\n",
        "  while temp2 < 5:\n",
        "\n",
        "    print('*', end=' ')\n",
        "    temp2 += 1\n",
        "  temp1 += 1\n",
        "  print()"
      ],
      "metadata": {
        "colab": {
          "base_uri": "https://localhost:8080/"
        },
        "id": "MWzAYuTto1-D",
        "outputId": "5790d792-bac8-4b5f-e990-56ead016015d"
      },
      "execution_count": 18,
      "outputs": [
        {
          "output_type": "stream",
          "name": "stdout",
          "text": [
            "* * * * * \n",
            "* * * * * \n",
            "* * * * * \n",
            "* * * * * \n",
            "* * * * * \n"
          ]
        }
      ]
    },
    {
      "cell_type": "code",
      "source": [
        "temp1 = 0\n",
        "\n",
        "while temp1 < 5:\n",
        "\n",
        "  temp2 = 0\n",
        "  while temp2 < 15:\n",
        "\n",
        "    print('*', end=' ')\n",
        "    temp2 += 1\n",
        "  temp1 += 1\n",
        "  print()"
      ],
      "metadata": {
        "colab": {
          "base_uri": "https://localhost:8080/"
        },
        "id": "0H15Lm56pWXo",
        "outputId": "a1522b9b-81f4-4338-e767-db30613268df"
      },
      "execution_count": 19,
      "outputs": [
        {
          "output_type": "stream",
          "name": "stdout",
          "text": [
            "* * * * * * * * * * * * * * * \n",
            "* * * * * * * * * * * * * * * \n",
            "* * * * * * * * * * * * * * * \n",
            "* * * * * * * * * * * * * * * \n",
            "* * * * * * * * * * * * * * * \n"
          ]
        }
      ]
    },
    {
      "cell_type": "code",
      "source": [
        "for i in range(0, 10, 1):\n",
        "    for j in range(0, 10, 1):\n",
        "\n",
        "        print(' [',i, '-', j,'] ', end=' ')\n",
        "\n",
        "    print()"
      ],
      "metadata": {
        "colab": {
          "base_uri": "https://localhost:8080/"
        },
        "id": "cB9DBoNxpg5M",
        "outputId": "6a2863be-fbb2-4186-d4da-f76ffd4cc193"
      },
      "execution_count": 22,
      "outputs": [
        {
          "output_type": "stream",
          "name": "stdout",
          "text": [
            " [ 0 - 0 ]   [ 0 - 1 ]   [ 0 - 2 ]   [ 0 - 3 ]   [ 0 - 4 ]   [ 0 - 5 ]   [ 0 - 6 ]   [ 0 - 7 ]   [ 0 - 8 ]   [ 0 - 9 ]  \n",
            " [ 1 - 0 ]   [ 1 - 1 ]   [ 1 - 2 ]   [ 1 - 3 ]   [ 1 - 4 ]   [ 1 - 5 ]   [ 1 - 6 ]   [ 1 - 7 ]   [ 1 - 8 ]   [ 1 - 9 ]  \n",
            " [ 2 - 0 ]   [ 2 - 1 ]   [ 2 - 2 ]   [ 2 - 3 ]   [ 2 - 4 ]   [ 2 - 5 ]   [ 2 - 6 ]   [ 2 - 7 ]   [ 2 - 8 ]   [ 2 - 9 ]  \n",
            " [ 3 - 0 ]   [ 3 - 1 ]   [ 3 - 2 ]   [ 3 - 3 ]   [ 3 - 4 ]   [ 3 - 5 ]   [ 3 - 6 ]   [ 3 - 7 ]   [ 3 - 8 ]   [ 3 - 9 ]  \n",
            " [ 4 - 0 ]   [ 4 - 1 ]   [ 4 - 2 ]   [ 4 - 3 ]   [ 4 - 4 ]   [ 4 - 5 ]   [ 4 - 6 ]   [ 4 - 7 ]   [ 4 - 8 ]   [ 4 - 9 ]  \n",
            " [ 5 - 0 ]   [ 5 - 1 ]   [ 5 - 2 ]   [ 5 - 3 ]   [ 5 - 4 ]   [ 5 - 5 ]   [ 5 - 6 ]   [ 5 - 7 ]   [ 5 - 8 ]   [ 5 - 9 ]  \n",
            " [ 6 - 0 ]   [ 6 - 1 ]   [ 6 - 2 ]   [ 6 - 3 ]   [ 6 - 4 ]   [ 6 - 5 ]   [ 6 - 6 ]   [ 6 - 7 ]   [ 6 - 8 ]   [ 6 - 9 ]  \n",
            " [ 7 - 0 ]   [ 7 - 1 ]   [ 7 - 2 ]   [ 7 - 3 ]   [ 7 - 4 ]   [ 7 - 5 ]   [ 7 - 6 ]   [ 7 - 7 ]   [ 7 - 8 ]   [ 7 - 9 ]  \n",
            " [ 8 - 0 ]   [ 8 - 1 ]   [ 8 - 2 ]   [ 8 - 3 ]   [ 8 - 4 ]   [ 8 - 5 ]   [ 8 - 6 ]   [ 8 - 7 ]   [ 8 - 8 ]   [ 8 - 9 ]  \n",
            " [ 9 - 0 ]   [ 9 - 1 ]   [ 9 - 2 ]   [ 9 - 3 ]   [ 9 - 4 ]   [ 9 - 5 ]   [ 9 - 6 ]   [ 9 - 7 ]   [ 9 - 8 ]   [ 9 - 9 ]  \n"
          ]
        }
      ]
    },
    {
      "cell_type": "markdown",
      "source": [
        "# print patterns (trangle and pyramid)"
      ],
      "metadata": {
        "id": "pGwMXF48pwnj"
      }
    },
    {
      "cell_type": "code",
      "source": [
        "for i in range(10):\n",
        "  for j in range(i+1):\n",
        "    print('*', end=' ')\n",
        "  print()"
      ],
      "metadata": {
        "colab": {
          "base_uri": "https://localhost:8080/"
        },
        "id": "CHmfsMnbp2hN",
        "outputId": "5370b1d5-c754-46ad-a243-f6fc4d15441a"
      },
      "execution_count": 23,
      "outputs": [
        {
          "output_type": "stream",
          "name": "stdout",
          "text": [
            "* \n",
            "* * \n",
            "* * * \n",
            "* * * * \n",
            "* * * * * \n",
            "* * * * * * \n",
            "* * * * * * * \n",
            "* * * * * * * * \n",
            "* * * * * * * * * \n",
            "* * * * * * * * * * \n"
          ]
        }
      ]
    },
    {
      "cell_type": "code",
      "source": [
        "temp1 = 10\n",
        "\n",
        "while temp1 > 0:\n",
        "  #print(temp1)\n",
        "  temp2 = 10\n",
        "  while temp2+1 > temp1:\n",
        "    #print(temp2)\n",
        "    print('*', end=' ')\n",
        "    temp2 -= 1\n",
        "  temp1 -= 1\n",
        "  print()"
      ],
      "metadata": {
        "colab": {
          "base_uri": "https://localhost:8080/"
        },
        "id": "uQKkIDi6p7c9",
        "outputId": "fe41e4cf-dd5c-41d9-e78d-d40ff6cf035e"
      },
      "execution_count": 24,
      "outputs": [
        {
          "output_type": "stream",
          "name": "stdout",
          "text": [
            "* \n",
            "* * \n",
            "* * * \n",
            "* * * * \n",
            "* * * * * \n",
            "* * * * * * \n",
            "* * * * * * * \n",
            "* * * * * * * * \n",
            "* * * * * * * * * \n",
            "* * * * * * * * * * \n"
          ]
        }
      ]
    },
    {
      "cell_type": "code",
      "source": [
        "for i in range(10): # 0... 9\n",
        "  for j in range(10-i): # 10... 1\n",
        "    print('', end=' ')\n",
        "  for k in range(i+1):\n",
        "    print('*', end=' ')\n",
        "  print()"
      ],
      "metadata": {
        "colab": {
          "base_uri": "https://localhost:8080/"
        },
        "id": "M_Mvq2fJp-x6",
        "outputId": "edfcf94e-d378-4d89-c85c-cb662fcbca18"
      },
      "execution_count": 25,
      "outputs": [
        {
          "output_type": "stream",
          "name": "stdout",
          "text": [
            "          * \n",
            "         * * \n",
            "        * * * \n",
            "       * * * * \n",
            "      * * * * * \n",
            "     * * * * * * \n",
            "    * * * * * * * \n",
            "   * * * * * * * * \n",
            "  * * * * * * * * * \n",
            " * * * * * * * * * * \n"
          ]
        }
      ]
    },
    {
      "cell_type": "code",
      "source": [
        "student_name = ['Ram', 'shyam', 'Shiv', 'Shankar']\n",
        "# student_sub = ['Eng', 'Math', 'Science', 'So. Sci', 'PT']\n",
        "student_marks_1 = [[98,87,76,65,54],\n",
        "                   [45,54,56,67,78],\n",
        "                   [78,76,78,79,75],\n",
        "                   [56,56,67,78,89]\n",
        "                  ]\n",
        "\n",
        "for i in student_name:\n",
        "  sub_tot = 0\n",
        "  counter = 0\n",
        "  for j in student_marks_1:\n",
        "    print(j[counter])\n",
        "    counter += 1\n",
        "#     sub_tot += j\n",
        "#  print(i, 'achieved ', sub_tot, 'marks.')"
      ],
      "metadata": {
        "colab": {
          "base_uri": "https://localhost:8080/"
        },
        "id": "1lE-5gidqh26",
        "outputId": "50d9891c-caf1-4bf8-c6be-3ed0210f8a50"
      },
      "execution_count": 38,
      "outputs": [
        {
          "output_type": "stream",
          "name": "stdout",
          "text": [
            "98\n",
            "54\n",
            "78\n",
            "78\n",
            "98\n",
            "54\n",
            "78\n",
            "78\n",
            "98\n",
            "54\n",
            "78\n",
            "78\n",
            "98\n",
            "54\n",
            "78\n",
            "78\n"
          ]
        }
      ]
    }
  ]
}