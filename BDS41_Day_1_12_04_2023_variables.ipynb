{
  "cells": [
    {
      "cell_type": "markdown",
      "metadata": {
        "id": "view-in-github",
        "colab_type": "text"
      },
      "source": [
        "<a href=\"https://colab.research.google.com/github/deepalama/TakeoBDS41/blob/main/BDS41_Day_1_12_04_2023_variables.ipynb\" target=\"_parent\"><img src=\"https://colab.research.google.com/assets/colab-badge.svg\" alt=\"Open In Colab\"/></a>"
      ]
    },
    {
      "cell_type": "markdown",
      "metadata": {
        "id": "-YIaeK4l58KA"
      },
      "source": [
        "# Day 1 - 12/04/2023"
      ]
    },
    {
      "cell_type": "markdown",
      "source": [
        "Day 1 - 12/04/2023\n",
        "\n",
        "Introduction to Python\n",
        "\n",
        "Features of Python\n",
        "\n",
        "Hello World Program\n",
        "\n",
        "Keywords and Identifiers\n",
        "\n",
        "Variables - named memory space\n",
        "\n",
        "Dynamically typed\n",
        "\n",
        "Data Type"
      ],
      "metadata": {
        "id": "81EUM-ZS4qA-"
      }
    },
    {
      "cell_type": "markdown",
      "source": [
        "Introduction to Python\n",
        "\n",
        "Python is open source for commercial software development (free), high level, dynamic object oriented programming language.\n",
        "\n",
        "libraries - utilities related to the language.\n",
        "\n",
        "Python is used for:\n",
        "\n",
        "- web development (server-side),\n",
        "- software development,\n",
        "- mathematics,\n",
        "- system scriptin\n",
        "\n",
        "Features of Python\n",
        "\n",
        "- inter-portable\n",
        "- non static in nature (not necessary to declear variable, python allow to assign any data type to any/multiple data type dynamically)\n",
        "- dynamic in nature\n",
        "- interpreter language (not a compiler) (shows one error at a time)\n",
        "- large set of libraries\n",
        "\n",
        "Keywords and Identifiers\n"
      ],
      "metadata": {
        "id": "bMgPDJHu4uqX"
      }
    },
    {
      "cell_type": "markdown",
      "source": [
        "Hello World Program\n",
        "\n",
        "Print method = print()"
      ],
      "metadata": {
        "id": "QJNnMu5L408S"
      }
    },
    {
      "cell_type": "code",
      "execution_count": null,
      "metadata": {
        "colab": {
          "base_uri": "https://localhost:8080/"
        },
        "id": "In7T7hSTMsT4",
        "outputId": "df77e598-c524-416d-c2b9-aa7baf6cf662"
      },
      "outputs": [
        {
          "name": "stdout",
          "output_type": "stream",
          "text": [
            "Hello World\n"
          ]
        }
      ],
      "source": [
        "print('Hello World')"
      ]
    },
    {
      "cell_type": "markdown",
      "source": [
        "# Variables"
      ],
      "metadata": {
        "id": "omsJ4bkIBx4W"
      }
    },
    {
      "cell_type": "markdown",
      "source": [
        "what is variable in programming language?\n",
        "\n",
        "named memory space"
      ],
      "metadata": {
        "id": "cYiN4iHt-UzV"
      }
    },
    {
      "cell_type": "code",
      "source": [
        "school_name = 'Conway High School'\n",
        "school_location = '711 dave ward dr'\n",
        "school_city = 'Conway'\n",
        "school_state = 'Arkansas'\n",
        "\n",
        "\n",
        "# variable 'school_name' is name of variable\n",
        "# 'Conway High School' is value of variable 'school_name'\n",
        "\n",
        "print(school_name,' ',school_location,', ',school_city, ' ',school_state)"
      ],
      "metadata": {
        "colab": {
          "base_uri": "https://localhost:8080/"
        },
        "id": "AfyPawTR-cY6",
        "outputId": "31091fc4-1ef4-4e20-cb80-557e28c3df14"
      },
      "execution_count": null,
      "outputs": [
        {
          "output_type": "stream",
          "name": "stdout",
          "text": [
            "Conway High School   711 dave ward dr ,  Conway   Arkansas\n"
          ]
        }
      ]
    },
    {
      "cell_type": "code",
      "source": [
        "name = 'Erika Watson'\n",
        "age = 16\n",
        "gender = 'Female'\n",
        "city = 'Greenbeir'\n",
        "\n",
        "print('Hi, My name is ', name, ', I\\'m ', age, ' years old ', gender, ' from ', city,'.')"
      ],
      "metadata": {
        "colab": {
          "base_uri": "https://localhost:8080/"
        },
        "id": "nuyqegns-ejU",
        "outputId": "c2ff41f4-a987-49de-f225-8f5b88f43e94"
      },
      "execution_count": null,
      "outputs": [
        {
          "output_type": "stream",
          "name": "stdout",
          "text": [
            "Hi, My name is  Erika Watson , I'm  16  years old  Female  from  Greenbeir .\n"
          ]
        }
      ]
    },
    {
      "cell_type": "code",
      "source": [
        "var_name = 'Jimmy'\n",
        "print(var_name)\n",
        "print(type(var_name), '\\n')\n",
        "\n",
        "var_name = 'John'\n",
        "print(var_name)\n",
        "print(type(var_name), '\\n')\n",
        "\n",
        "var_name = 5017779634\n",
        "print(var_name)\n",
        "print(type(var_name), '\\n')\n",
        "\n",
        "var_name = 'jonh_15@gmail.com'\n",
        "print(var_name)\n",
        "print(type(var_name), '\\n')\n",
        "\n",
        "var_name = 87.65\n",
        "print(var_name)\n",
        "print(type(var_name))"
      ],
      "metadata": {
        "colab": {
          "base_uri": "https://localhost:8080/"
        },
        "id": "5vxfU64D-xoz",
        "outputId": "d632c412-79f0-46d0-9a6a-260304991af7"
      },
      "execution_count": null,
      "outputs": [
        {
          "output_type": "stream",
          "name": "stdout",
          "text": [
            "Jimmy\n",
            "<class 'str'> \n",
            "\n",
            "John\n",
            "<class 'str'> \n",
            "\n",
            "5017779634\n",
            "<class 'int'> \n",
            "\n",
            "jonh_15@gmail.com\n",
            "<class 'str'> \n",
            "\n",
            "87.65\n",
            "<class 'float'>\n"
          ]
        }
      ]
    },
    {
      "cell_type": "markdown",
      "source": [
        "# Features of Python"
      ],
      "metadata": {
        "id": "AhlnIigkCEBT"
      }
    },
    {
      "cell_type": "markdown",
      "source": [
        "Python is a dynamic, high-level, free open source, and interpreted programming language.\n",
        "\n",
        "Features in Python\n",
        "In this section we will see what are the features of Python programming language:\n",
        "\n",
        "1. Free and Open Source\n",
        "2. Easy to code\n",
        "3. Easy to Read\n",
        "4. Object-Oriented Language\n",
        "5. GUI Programming Support\n",
        "6. High-Level Language\n",
        "7. Large Community Support\n",
        "8. Easy to Debug\n",
        "9. Python is a Portable language\n",
        "10. Python is an Integrated language\n",
        "11. Interpreted Language:\n",
        "12. Large Standard Library\n",
        "13. Dynamically Typed Language\n",
        "14. Frontend and backend development\n",
        "\n",
        "\n",
        "Dynamic programming language\n",
        "\n",
        "Programming language paradigm\n",
        "\n",
        "In computer science, a dynamic programming language is a class of high-level programming languages, which at runtime execute many common programming behaviours that static programming languages perform during compilation. by Wikipedia\n",
        "\n",
        "Dynamically-typed languages are those (like JavaScript) where the interpreter assigns variables a type at runtime based on the variable's value at the time."
      ],
      "metadata": {
        "id": "bkPUcqPDB__I"
      }
    },
    {
      "cell_type": "markdown",
      "source": [
        "# how to type :"
      ],
      "metadata": {
        "id": "Kwqk88AQCblW"
      }
    },
    {
      "cell_type": "code",
      "source": [
        "# ''\n",
        "\n",
        "print('I\\'m')\n",
        "\n",
        "# \"\"\n",
        "\n",
        "print(\"He said \\\" I need some sleep\\\"\")"
      ],
      "metadata": {
        "colab": {
          "base_uri": "https://localhost:8080/"
        },
        "id": "mbrls7z7Cmfu",
        "outputId": "27522ff3-8371-47bf-b06e-84a609865368"
      },
      "execution_count": 1,
      "outputs": [
        {
          "output_type": "stream",
          "name": "stdout",
          "text": [
            "I'm\n",
            "He said \" I need some sleep\"\n"
          ]
        }
      ]
    }
  ],
  "metadata": {
    "colab": {
      "toc_visible": true,
      "provenance": [],
      "collapsed_sections": [
        "-YIaeK4l58KA",
        "omsJ4bkIBx4W",
        "AhlnIigkCEBT"
      ],
      "authorship_tag": "ABX9TyNczynxMgH8Bl4E/GCCKFsW",
      "include_colab_link": true
    },
    "kernelspec": {
      "display_name": "Python 3",
      "name": "python3"
    },
    "language_info": {
      "name": "python"
    }
  },
  "nbformat": 4,
  "nbformat_minor": 0
}