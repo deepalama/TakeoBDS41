{
  "nbformat": 4,
  "nbformat_minor": 0,
  "metadata": {
    "colab": {
      "provenance": [],
      "collapsed_sections": [
        "3n8LpH-0KS2_"
      ],
      "toc_visible": true,
      "authorship_tag": "ABX9TyNbRLWe/AuQKd0hQSEc1Q+T",
      "include_colab_link": true
    },
    "kernelspec": {
      "name": "python3",
      "display_name": "Python 3"
    },
    "language_info": {
      "name": "python"
    }
  },
  "cells": [
    {
      "cell_type": "markdown",
      "metadata": {
        "id": "view-in-github",
        "colab_type": "text"
      },
      "source": [
        "<a href=\"https://colab.research.google.com/github/deepalama/TakeoBDS41/blob/pythonBasic/Day_3_Operators_BDS41_12_06_2023.ipynb\" target=\"_parent\"><img src=\"https://colab.research.google.com/assets/colab-badge.svg\" alt=\"Open In Colab\"/></a>"
      ]
    },
    {
      "cell_type": "markdown",
      "source": [
        "# BDS41_12/06/2023 - Day 3 Operators"
      ],
      "metadata": {
        "id": "HOtza5eAEJSS"
      }
    },
    {
      "cell_type": "markdown",
      "source": [],
      "metadata": {
        "id": "NU3Sh60Eiq97"
      }
    },
    {
      "cell_type": "markdown",
      "source": [
        "# Arthmatic operators"
      ],
      "metadata": {
        "id": "3n8LpH-0KS2_"
      }
    },
    {
      "cell_type": "code",
      "execution_count": null,
      "metadata": {
        "colab": {
          "base_uri": "https://localhost:8080/"
        },
        "id": "7luUAeadEFo5",
        "outputId": "1caf4945-822b-4f39-976a-5b9e75057c5e"
      },
      "outputs": [
        {
          "output_type": "stream",
          "name": "stdout",
          "text": [
            "16\n",
            "10\n",
            "39\n",
            "4.333333333333333\n",
            "1\n",
            "4\n",
            "2197\n"
          ]
        }
      ],
      "source": [
        "a = 13\n",
        "b = 3\n",
        "\n",
        "print(a+b) # addition\n",
        "print(a-b) # Substraction\n",
        "print(a*b) # multiplication\n",
        "print(a/b) # division\n",
        "\n",
        "print(a%b) # reminder/modulo\n",
        "print(a//b) # Floor division\n",
        "print(a**b) # Exponentiation (a to the power b)"
      ]
    },
    {
      "cell_type": "markdown",
      "source": [
        "# Assignment operator"
      ],
      "metadata": {
        "id": "MjTUmOjqKfgj"
      }
    },
    {
      "cell_type": "code",
      "source": [
        "# =\n",
        "\n",
        "x = 10\n",
        "y = 20"
      ],
      "metadata": {
        "id": "wn9HlwuKHEwG"
      },
      "execution_count": null,
      "outputs": []
    },
    {
      "cell_type": "code",
      "source": [
        "x = 10\n",
        "y = 20\n",
        "\n",
        "# +=\n",
        "\n",
        "x += y\n",
        "print(x)"
      ],
      "metadata": {
        "colab": {
          "base_uri": "https://localhost:8080/"
        },
        "id": "DuKu81BaHErR",
        "outputId": "deca4c78-ddca-44bd-ae5e-92c54246f115"
      },
      "execution_count": null,
      "outputs": [
        {
          "output_type": "stream",
          "name": "stdout",
          "text": [
            "30\n"
          ]
        }
      ]
    },
    {
      "cell_type": "code",
      "source": [
        "x = 10\n",
        "y = 20\n",
        "\n",
        "# -=\n",
        "\n",
        "x -= y\n",
        "print(x)"
      ],
      "metadata": {
        "colab": {
          "base_uri": "https://localhost:8080/"
        },
        "id": "D7P9Ifx8IxwM",
        "outputId": "1d2b8e69-13a5-4447-a747-05c0763067ee"
      },
      "execution_count": null,
      "outputs": [
        {
          "output_type": "stream",
          "name": "stdout",
          "text": [
            "-10\n"
          ]
        }
      ]
    },
    {
      "cell_type": "code",
      "source": [
        "x = 10\n",
        "y = 20\n",
        "\n",
        "# *=\n",
        "\n",
        "x *= y\n",
        "print(x)"
      ],
      "metadata": {
        "colab": {
          "base_uri": "https://localhost:8080/"
        },
        "id": "3Am4yr_-HQvK",
        "outputId": "7b1a9bca-f5e8-4592-93f8-86b84aed165c"
      },
      "execution_count": null,
      "outputs": [
        {
          "output_type": "stream",
          "name": "stdout",
          "text": [
            "200\n"
          ]
        }
      ]
    },
    {
      "cell_type": "code",
      "source": [
        "x = 10\n",
        "y = 20\n",
        "\n",
        "# /=\n",
        "\n",
        "x /= y\n",
        "print(x)"
      ],
      "metadata": {
        "colab": {
          "base_uri": "https://localhost:8080/"
        },
        "id": "X4TBK4iMHQna",
        "outputId": "3b0a19e1-ab13-40fc-aed5-aa39752595f2"
      },
      "execution_count": null,
      "outputs": [
        {
          "output_type": "stream",
          "name": "stdout",
          "text": [
            "0.5\n"
          ]
        }
      ]
    },
    {
      "cell_type": "code",
      "source": [
        "x = 10\n",
        "y = 20\n",
        "\n",
        "# %=\n",
        "\n",
        "x %= y\n",
        "print(x)"
      ],
      "metadata": {
        "colab": {
          "base_uri": "https://localhost:8080/"
        },
        "id": "K3Vd0sQQHQZi",
        "outputId": "02dfaf11-5d75-49b9-dadd-c1a99dfaca1e"
      },
      "execution_count": null,
      "outputs": [
        {
          "output_type": "stream",
          "name": "stdout",
          "text": [
            "10\n"
          ]
        }
      ]
    },
    {
      "cell_type": "code",
      "source": [
        "x = 10\n",
        "y = 20\n",
        "\n",
        "# //=\n",
        "\n",
        "x//= y\n",
        "print(x)"
      ],
      "metadata": {
        "colab": {
          "base_uri": "https://localhost:8080/"
        },
        "id": "BtQ8ITFvHrh4",
        "outputId": "a15732e0-8538-423d-813e-d90b1838ab4d"
      },
      "execution_count": null,
      "outputs": [
        {
          "output_type": "stream",
          "name": "stdout",
          "text": [
            "0\n"
          ]
        }
      ]
    },
    {
      "cell_type": "code",
      "source": [
        "x = 10\n",
        "y = 20\n",
        "\n",
        "# **=\n",
        "\n",
        "x**= y\n",
        "print(x)"
      ],
      "metadata": {
        "colab": {
          "base_uri": "https://localhost:8080/"
        },
        "id": "Lx9i1_MrJX57",
        "outputId": "a0755fd5-c393-461e-ed2f-365b86938e7f"
      },
      "execution_count": null,
      "outputs": [
        {
          "output_type": "stream",
          "name": "stdout",
          "text": [
            "100000000000000000000\n"
          ]
        }
      ]
    },
    {
      "cell_type": "code",
      "source": [
        "# &=\n",
        "\n",
        "x = 10\n",
        "y = 20\n",
        "\n",
        "# &=\n",
        "\n",
        "x &= y\n",
        "print(x)"
      ],
      "metadata": {
        "colab": {
          "base_uri": "https://localhost:8080/"
        },
        "id": "Tkr2OQHGHrLk",
        "outputId": "34f0a7d9-2b92-4849-e673-9de527d68c41"
      },
      "execution_count": null,
      "outputs": [
        {
          "output_type": "stream",
          "name": "stdout",
          "text": [
            "0\n"
          ]
        }
      ]
    },
    {
      "cell_type": "code",
      "source": [
        "x = 10\n",
        "y = 20\n",
        "\n",
        "# |=\n",
        "\n",
        "x |= y\n",
        "print(x)"
      ],
      "metadata": {
        "colab": {
          "base_uri": "https://localhost:8080/"
        },
        "id": "vQRy2cQyGs8U",
        "outputId": "be46f07b-7ca6-4b55-977a-c13906aabe66"
      },
      "execution_count": null,
      "outputs": [
        {
          "output_type": "stream",
          "name": "stdout",
          "text": [
            "30\n"
          ]
        }
      ]
    },
    {
      "cell_type": "code",
      "source": [
        "x = 10\n",
        "y = 20\n",
        "\n",
        "# ^=\n",
        "\n",
        "x ^= y\n",
        "print(x)"
      ],
      "metadata": {
        "colab": {
          "base_uri": "https://localhost:8080/"
        },
        "id": "P_vKMcLrJ2LO",
        "outputId": "bf3e7dbf-722f-4583-923d-7c48c363df98"
      },
      "execution_count": null,
      "outputs": [
        {
          "output_type": "stream",
          "name": "stdout",
          "text": [
            "30\n"
          ]
        }
      ]
    },
    {
      "cell_type": "code",
      "source": [
        "x = 10\n",
        "y = 20\n",
        "\n",
        "# >>=\n",
        "\n",
        "x >>= y\n",
        "print(x)"
      ],
      "metadata": {
        "colab": {
          "base_uri": "https://localhost:8080/"
        },
        "id": "FeB1nWHaJ1v_",
        "outputId": "3c6e2441-f694-499d-a0ba-3443d93b0982"
      },
      "execution_count": null,
      "outputs": [
        {
          "output_type": "stream",
          "name": "stdout",
          "text": [
            "0\n"
          ]
        }
      ]
    },
    {
      "cell_type": "code",
      "source": [
        "x = 10\n",
        "y = 20\n",
        "\n",
        "# <<=\n",
        "\n",
        "x <<= y\n",
        "print(x)"
      ],
      "metadata": {
        "colab": {
          "base_uri": "https://localhost:8080/"
        },
        "id": "X5LEdWYnJ1oU",
        "outputId": "142140a0-6f71-48f9-ebd8-17bd42b85dbb"
      },
      "execution_count": null,
      "outputs": [
        {
          "output_type": "stream",
          "name": "stdout",
          "text": [
            "10485760\n"
          ]
        }
      ]
    },
    {
      "cell_type": "markdown",
      "source": [
        "# Comparision Operators"
      ],
      "metadata": {
        "id": "c5JGEhjjKpQt"
      }
    },
    {
      "cell_type": "markdown",
      "source": [
        "==    Equal    x == y\n",
        "!=    Not equal    x != y\n",
        ">    Greater than    x > y\n",
        "<    Less than    x < y\n",
        ">=    Greater than or equal to    x >= y\n",
        "<=    Less than or equal to    x <= y"
      ],
      "metadata": {
        "id": "3fXQmGNbK9zp"
      }
    },
    {
      "cell_type": "code",
      "source": [
        "x == y"
      ],
      "metadata": {
        "colab": {
          "base_uri": "https://localhost:8080/"
        },
        "id": "5pQdZY68K0SQ",
        "outputId": "4e0f705c-82ad-4332-fa22-6c9dbec9e56d"
      },
      "execution_count": null,
      "outputs": [
        {
          "output_type": "execute_result",
          "data": {
            "text/plain": [
              "False"
            ]
          },
          "metadata": {},
          "execution_count": 28
        }
      ]
    },
    {
      "cell_type": "code",
      "source": [
        "x != y"
      ],
      "metadata": {
        "colab": {
          "base_uri": "https://localhost:8080/"
        },
        "id": "DeGZDIckLgU9",
        "outputId": "070ba484-a4c5-4676-e34a-3411bc28c475"
      },
      "execution_count": null,
      "outputs": [
        {
          "output_type": "execute_result",
          "data": {
            "text/plain": [
              "True"
            ]
          },
          "metadata": {},
          "execution_count": 29
        }
      ]
    },
    {
      "cell_type": "code",
      "source": [
        "x > y"
      ],
      "metadata": {
        "colab": {
          "base_uri": "https://localhost:8080/"
        },
        "id": "pSyTi5TsLgKT",
        "outputId": "baee55d3-5305-4e26-893c-098fb08a897a"
      },
      "execution_count": null,
      "outputs": [
        {
          "output_type": "execute_result",
          "data": {
            "text/plain": [
              "True"
            ]
          },
          "metadata": {},
          "execution_count": 30
        }
      ]
    },
    {
      "cell_type": "code",
      "source": [
        "x < y"
      ],
      "metadata": {
        "colab": {
          "base_uri": "https://localhost:8080/"
        },
        "id": "IeB_rXZhLmDn",
        "outputId": "c81a3c63-a78c-4ccb-b3ad-fc2e5c4acfb4"
      },
      "execution_count": null,
      "outputs": [
        {
          "output_type": "execute_result",
          "data": {
            "text/plain": [
              "False"
            ]
          },
          "metadata": {},
          "execution_count": 25
        }
      ]
    },
    {
      "cell_type": "code",
      "source": [
        "x >= y"
      ],
      "metadata": {
        "colab": {
          "base_uri": "https://localhost:8080/"
        },
        "id": "PAKaFA32Ll8D",
        "outputId": "56fb2145-03e0-4531-9d13-873e6eb138ee"
      },
      "execution_count": null,
      "outputs": [
        {
          "output_type": "execute_result",
          "data": {
            "text/plain": [
              "True"
            ]
          },
          "metadata": {},
          "execution_count": 26
        }
      ]
    },
    {
      "cell_type": "code",
      "source": [
        "x <= y"
      ],
      "metadata": {
        "colab": {
          "base_uri": "https://localhost:8080/"
        },
        "id": "zT44I___Llvm",
        "outputId": "8e787f18-1ff9-4471-d1e6-66c6448e0711"
      },
      "execution_count": null,
      "outputs": [
        {
          "output_type": "execute_result",
          "data": {
            "text/plain": [
              "False"
            ]
          },
          "metadata": {},
          "execution_count": 27
        }
      ]
    },
    {
      "cell_type": "code",
      "source": [],
      "metadata": {
        "id": "U0jSlh70jBxK"
      },
      "execution_count": null,
      "outputs": []
    },
    {
      "cell_type": "markdown",
      "source": [
        "# Logical Operators"
      ],
      "metadata": {
        "id": "zHmajHzcL3eB"
      }
    },
    {
      "cell_type": "markdown",
      "source": [
        "and     Returns True if both statements are true    x < 5 and  x < 10\n",
        "\n",
        "or    Returns True if one of the statements is true    x < 5 or x < 4\n",
        "\n",
        "not    Reverse the result, returns False if the result is true    not(x < 5 and x < 10)"
      ],
      "metadata": {
        "id": "DA6-OU2CMdJz"
      }
    },
    {
      "cell_type": "code",
      "source": [
        "print(x)\n",
        "print(y)"
      ],
      "metadata": {
        "colab": {
          "base_uri": "https://localhost:8080/"
        },
        "id": "hDdvro14NLAk",
        "outputId": "bcf38225-43f7-4b32-e4d0-83a12079dd13"
      },
      "execution_count": null,
      "outputs": [
        {
          "output_type": "stream",
          "name": "stdout",
          "text": [
            "30\n",
            "20\n"
          ]
        }
      ]
    },
    {
      "cell_type": "code",
      "source": [
        "x < 33 and x < 31"
      ],
      "metadata": {
        "colab": {
          "base_uri": "https://localhost:8080/"
        },
        "id": "s1d-eZ-eGkNF",
        "outputId": "d41736f4-e7b7-4251-d605-6151850db070"
      },
      "execution_count": null,
      "outputs": [
        {
          "output_type": "execute_result",
          "data": {
            "text/plain": [
              "True"
            ]
          },
          "metadata": {},
          "execution_count": 44
        }
      ]
    },
    {
      "cell_type": "code",
      "source": [
        "y < 5 and y < 10"
      ],
      "metadata": {
        "colab": {
          "base_uri": "https://localhost:8080/"
        },
        "id": "pu0oTyQnMwr9",
        "outputId": "765f1843-7633-4fe5-c24b-627cf01d69f1"
      },
      "execution_count": null,
      "outputs": [
        {
          "output_type": "execute_result",
          "data": {
            "text/plain": [
              "False"
            ]
          },
          "metadata": {},
          "execution_count": 36
        }
      ]
    },
    {
      "cell_type": "code",
      "source": [
        "x < 11 or x < 32"
      ],
      "metadata": {
        "colab": {
          "base_uri": "https://localhost:8080/"
        },
        "id": "8BYAV_2JMlvF",
        "outputId": "7dbee769-edbe-4758-b81e-4cb2d88ad64e"
      },
      "execution_count": null,
      "outputs": [
        {
          "output_type": "execute_result",
          "data": {
            "text/plain": [
              "True"
            ]
          },
          "metadata": {},
          "execution_count": 45
        }
      ]
    },
    {
      "cell_type": "code",
      "source": [
        "y < 5 or y < 4"
      ],
      "metadata": {
        "colab": {
          "base_uri": "https://localhost:8080/"
        },
        "id": "ezhfOfcgM0BM",
        "outputId": "3301c690-9552-4231-cf20-92db9494614d"
      },
      "execution_count": null,
      "outputs": [
        {
          "output_type": "execute_result",
          "data": {
            "text/plain": [
              "False"
            ]
          },
          "metadata": {},
          "execution_count": 38
        }
      ]
    },
    {
      "cell_type": "code",
      "source": [
        "not(x < 5 and x < 10)"
      ],
      "metadata": {
        "colab": {
          "base_uri": "https://localhost:8080/"
        },
        "id": "UhIAKORtMlrd",
        "outputId": "093b5d6c-a358-4426-a7a3-a6228b68d113"
      },
      "execution_count": null,
      "outputs": [
        {
          "output_type": "execute_result",
          "data": {
            "text/plain": [
              "True"
            ]
          },
          "metadata": {},
          "execution_count": 51
        }
      ]
    },
    {
      "cell_type": "code",
      "source": [
        "not(x < 33 and x < 31)"
      ],
      "metadata": {
        "colab": {
          "base_uri": "https://localhost:8080/"
        },
        "id": "utsSKcwLMzyL",
        "outputId": "b1bce57d-8116-45b7-a797-fa90406a10ac"
      },
      "execution_count": null,
      "outputs": [
        {
          "output_type": "execute_result",
          "data": {
            "text/plain": [
              "False"
            ]
          },
          "metadata": {},
          "execution_count": 52
        }
      ]
    },
    {
      "cell_type": "markdown",
      "source": [],
      "metadata": {
        "id": "oqg5bqGUirii"
      }
    }
  ]
}