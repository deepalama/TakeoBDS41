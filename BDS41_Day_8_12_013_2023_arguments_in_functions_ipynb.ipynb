{
  "nbformat": 4,
  "nbformat_minor": 0,
  "metadata": {
    "colab": {
      "provenance": [],
      "toc_visible": true,
      "collapsed_sections": [
        "2_vB0QfqvOrU",
        "o0zESVn34trT",
        "SSu17jsW4uO7",
        "R-CWhLcsMjgf"
      ],
      "authorship_tag": "ABX9TyMAJEHPqfPrKmz4ZwXXcCWF",
      "include_colab_link": true
    },
    "kernelspec": {
      "name": "python3",
      "display_name": "Python 3"
    },
    "language_info": {
      "name": "python"
    }
  },
  "cells": [
    {
      "cell_type": "markdown",
      "metadata": {
        "id": "view-in-github",
        "colab_type": "text"
      },
      "source": [
        "<a href=\"https://colab.research.google.com/github/deepalama/TakeoBDS41/blob/main/BDS41_Day_8_12_013_2023_arguments_in_functions_ipynb.ipynb\" target=\"_parent\"><img src=\"https://colab.research.google.com/assets/colab-badge.svg\" alt=\"Open In Colab\"/></a>"
      ]
    },
    {
      "cell_type": "markdown",
      "source": [
        "# *args - accepts any number of parameter and any data type - returns output in form of tuple"
      ],
      "metadata": {
        "id": "2_vB0QfqvOrU"
      }
    },
    {
      "cell_type": "markdown",
      "source": [
        "*args\n",
        "\n",
        "In Python, *args is used to pass a variable number of positional arguments to a function. The *args parameter allows a function to accept any number of positional arguments, which are then treated as a tuple within the function.\n",
        "\n",
        "Here's a basic example:\n",
        "\n",
        "def my_function(*args):\n",
        "    for arg in args:\n",
        "        print(arg)\n",
        "\n",
        "my_function('Hello', 'World', 'Python')\n",
        "In this example, *args collects all the positional arguments passed to my_function into a tuple named args. The function then iterates through this tuple and prints each argument.\n",
        "\n",
        "You can use any name instead of args, but the * before the parameter name is what allows it to accept multiple positional arguments.\n",
        "\n",
        "It's important to note that *args must be placed as the last positional parameter in the function definition. This is because it collects all remaining positional arguments.\n",
        "\n",
        "Here's an example where *args is used along with other regular parameters:\n",
        "\n",
        "def my_function(name, *args):\n",
        "    print(\"Name:\", name)\n",
        "    for arg in args:\n",
        "        print(\"Additional argument:\", arg)\n",
        "\n",
        "my_function('Alice', 'Hello', 'World', 'Python')\n",
        "In this case, the first argument (name) is assigned to the parameter name, and the rest of the arguments are collected into the args tuple.\n",
        "\n",
        "Using *args provides flexibility when you're unsure about the number of arguments that will be passed to a function, allowing you to handle a variable number of arguments without explicitly defining them in the function signature.\n"
      ],
      "metadata": {
        "id": "bqqwO_eF34i7"
      }
    },
    {
      "cell_type": "code",
      "source": [
        "def my_args1(*deepa):\n",
        "    return deepa"
      ],
      "metadata": {
        "id": "yrXNeW70vTmv"
      },
      "execution_count": null,
      "outputs": []
    },
    {
      "cell_type": "code",
      "source": [
        "my_args1(12, -23, 34.45, 12_23j, -32-43j, True, False, 'hello', 'world', [1, 2, 3, 4, 5],\n",
        " {6, 7, 8, 9, 10, 11},(12, 13, 14, 15), {'name' : 'deepa', 'department' : 'account'})"
      ],
      "metadata": {
        "colab": {
          "base_uri": "https://localhost:8080/"
        },
        "id": "X21C23j23C1s",
        "outputId": "6d367090-0167-4af8-ba83-bf19f46c3641"
      },
      "execution_count": null,
      "outputs": [
        {
          "output_type": "execute_result",
          "data": {
            "text/plain": [
              "(12,\n",
              " -23,\n",
              " 34.45,\n",
              " 1223j,\n",
              " (-32-43j),\n",
              " True,\n",
              " False,\n",
              " 'hello',\n",
              " 'world',\n",
              " [1, 2, 3, 4, 5],\n",
              " {6, 7, 8, 9, 10, 11},\n",
              " (12, 13, 14, 15),\n",
              " {'name': 'deepa', 'department': 'account'})"
            ]
          },
          "metadata": {},
          "execution_count": 2
        }
      ]
    },
    {
      "cell_type": "markdown",
      "source": [
        "# **kwargs (keyword argument), accepts any number of parameter and any data type, returns output in form of key value pair (dict)"
      ],
      "metadata": {
        "id": "o0zESVn34trT"
      }
    },
    {
      "cell_type": "code",
      "source": [
        "def my_kwargs1(**deepa):\n",
        "    return deepa"
      ],
      "metadata": {
        "id": "ydmrU5bD5-QK"
      },
      "execution_count": null,
      "outputs": []
    },
    {
      "cell_type": "code",
      "source": [
        "my_kwargs1(\n",
        "    a = 12,\n",
        "    b = -23,\n",
        "    c = 34.45,\n",
        "    d = 12_23j,\n",
        "    e = -32-43j,\n",
        "    f = True,\n",
        "    g = False,\n",
        "    h = 'hello',\n",
        "    i = 'world',\n",
        "    j = [1, 2, 3, 4, 5],\n",
        "    k = {6, 7, 8, 9, 10, 11},\n",
        "    l = (12, 13, 14, 15),\n",
        "    m = {'name' : 'deepa', 'department' : 'account'}\n",
        ")"
      ],
      "metadata": {
        "colab": {
          "base_uri": "https://localhost:8080/"
        },
        "id": "m-NvmIE-66L-",
        "outputId": "b49ca692-b14c-40cf-8adf-77f51a0023e1"
      },
      "execution_count": null,
      "outputs": [
        {
          "output_type": "execute_result",
          "data": {
            "text/plain": [
              "{'a': 12,\n",
              " 'b': -23,\n",
              " 'c': 34.45,\n",
              " 'd': 1223j,\n",
              " 'e': (-32-43j),\n",
              " 'f': True,\n",
              " 'g': False,\n",
              " 'h': 'hello',\n",
              " 'i': 'world',\n",
              " 'j': [1, 2, 3, 4, 5],\n",
              " 'k': {6, 7, 8, 9, 10, 11},\n",
              " 'l': (12, 13, 14, 15),\n",
              " 'm': {'name': 'deepa', 'department': 'account'}}"
            ]
          },
          "metadata": {},
          "execution_count": 4
        }
      ]
    },
    {
      "cell_type": "markdown",
      "source": [
        "**kwargs also accepts multiple arguments with any data type.\n",
        "\n",
        "For **kwargs, when we provide input, we should declar variable and assign value - assigned value can be of any data type. so, the output becomes key value pair in form of dictionaty."
      ],
      "metadata": {
        "id": "LMGPbIjE8JVy"
      }
    },
    {
      "cell_type": "markdown",
      "source": [
        "# exercise - argument sequence"
      ],
      "metadata": {
        "id": "SSu17jsW4uO7"
      }
    },
    {
      "cell_type": "code",
      "source": [
        "def twoInOne(*args, **kwargs):\n",
        "    print(args, '\\n')\n",
        "    print(kwargs)"
      ],
      "metadata": {
        "id": "ih9_usDv5_Qq"
      },
      "execution_count": null,
      "outputs": []
    },
    {
      "cell_type": "code",
      "source": [
        "twoInOne(12, -23, 34.45, 12_23j, -32-43j, True, False, 'hello', 'world', [1, 2, 3, 4, 5],\n",
        " {6, 7, 8, 9, 10, 11},(12, 13, 14, 15), {'name' : 'deepa', 'department' : 'account'}, a = 'happy', b = 'sad', c = 'mad')"
      ],
      "metadata": {
        "colab": {
          "base_uri": "https://localhost:8080/"
        },
        "id": "XYhsdnNB-rkp",
        "outputId": "b68d8a46-f289-4c06-9f64-0b331ed0d25b"
      },
      "execution_count": null,
      "outputs": [
        {
          "output_type": "stream",
          "name": "stdout",
          "text": [
            "(12, -23, 34.45, 1223j, (-32-43j), True, False, 'hello', 'world', [1, 2, 3, 4, 5], {6, 7, 8, 9, 10, 11}, (12, 13, 14, 15), {'name': 'deepa', 'department': 'account'}) \n",
            "\n",
            "{'a': 'happy', 'b': 'sad', 'c': 'mad'}\n"
          ]
        }
      ]
    },
    {
      "cell_type": "code",
      "source": [
        "def threeInOne(arg, *args, **kwargs):\n",
        "    print(arg, '\\n')\n",
        "    print(args, '\\n')\n",
        "    print(kwargs)"
      ],
      "metadata": {
        "id": "Sgm7HxxJCwWb"
      },
      "execution_count": null,
      "outputs": []
    },
    {
      "cell_type": "code",
      "source": [
        "threeInOne('hi')"
      ],
      "metadata": {
        "colab": {
          "base_uri": "https://localhost:8080/"
        },
        "id": "xaQAR_CfJ0m_",
        "outputId": "082db2d5-74d7-44cd-96a7-3b91264501fb"
      },
      "execution_count": null,
      "outputs": [
        {
          "output_type": "stream",
          "name": "stdout",
          "text": [
            "hi \n",
            "\n",
            "() \n",
            "\n",
            "{}\n"
          ]
        }
      ]
    },
    {
      "cell_type": "code",
      "source": [
        "threeInOne('hi', 12, -23, 34.45, 12_23j)"
      ],
      "metadata": {
        "colab": {
          "base_uri": "https://localhost:8080/"
        },
        "id": "lNiVRCtwJ8yu",
        "outputId": "fa89f496-7731-4498-debe-766ac835bafe"
      },
      "execution_count": null,
      "outputs": [
        {
          "output_type": "stream",
          "name": "stdout",
          "text": [
            "hi \n",
            "\n",
            "(12, -23, 34.45, 1223j) \n",
            "\n",
            "{}\n"
          ]
        }
      ]
    },
    {
      "cell_type": "code",
      "source": [
        "threeInOne('args sequence', 12, -23, 34.45, 12_23j, -32-43j, True, False, 'hello', 'world', [1, 2, 3, 4, 5],\n",
        " {6, 7, 8, 9, 10, 11},(12, 13, 14, 15), {'name' : 'deepa', 'department' : 'account'}, a = 'happy', b = 'sad', c = 'mad')"
      ],
      "metadata": {
        "colab": {
          "base_uri": "https://localhost:8080/"
        },
        "id": "KR3uHGg5C-KY",
        "outputId": "a8821a83-515a-4cbf-c79f-8583801b5610"
      },
      "execution_count": null,
      "outputs": [
        {
          "output_type": "stream",
          "name": "stdout",
          "text": [
            "args sequence \n",
            "\n",
            "(12, -23, 34.45, 1223j, (-32-43j), True, False, 'hello', 'world', [1, 2, 3, 4, 5], {6, 7, 8, 9, 10, 11}, (12, 13, 14, 15), {'name': 'deepa', 'department': 'account'}) \n",
            "\n",
            "{'a': 'happy', 'b': 'sad', 'c': 'mad'}\n"
          ]
        }
      ]
    },
    {
      "cell_type": "code",
      "source": [
        "threeInOne(12, -23, 34.45, 12_23j)"
      ],
      "metadata": {
        "colab": {
          "base_uri": "https://localhost:8080/"
        },
        "id": "BU5iXGKAKuEX",
        "outputId": "736364f4-d0eb-44a5-99e5-adbe06218506"
      },
      "execution_count": null,
      "outputs": [
        {
          "output_type": "stream",
          "name": "stdout",
          "text": [
            "12 \n",
            "\n",
            "(-23, 34.45, 1223j) \n",
            "\n",
            "{}\n"
          ]
        }
      ]
    },
    {
      "cell_type": "markdown",
      "source": [
        "providing input also should be in a sequence - in order to pass the argument"
      ],
      "metadata": {
        "id": "EKrDf4NoK9p-"
      }
    },
    {
      "cell_type": "code",
      "source": [
        "threeInOne(a = 'happy', b = 'sad', c = 'mad')"
      ],
      "metadata": {
        "colab": {
          "base_uri": "https://localhost:8080/",
          "height": 175
        },
        "id": "UYCchnDjKmM-",
        "outputId": "269ca388-7f97-438a-cccb-c8cd83241c86"
      },
      "execution_count": null,
      "outputs": [
        {
          "output_type": "error",
          "ename": "TypeError",
          "evalue": "ignored",
          "traceback": [
            "\u001b[0;31m---------------------------------------------------------------------------\u001b[0m",
            "\u001b[0;31mTypeError\u001b[0m                                 Traceback (most recent call last)",
            "\u001b[0;32m<ipython-input-7-eb6baede7108>\u001b[0m in \u001b[0;36m<cell line: 1>\u001b[0;34m()\u001b[0m\n\u001b[0;32m----> 1\u001b[0;31m \u001b[0mthreeInOne\u001b[0m\u001b[0;34m(\u001b[0m\u001b[0ma\u001b[0m \u001b[0;34m=\u001b[0m \u001b[0;34m'happy'\u001b[0m\u001b[0;34m,\u001b[0m \u001b[0mb\u001b[0m \u001b[0;34m=\u001b[0m \u001b[0;34m'sad'\u001b[0m\u001b[0;34m,\u001b[0m \u001b[0mc\u001b[0m \u001b[0;34m=\u001b[0m \u001b[0;34m'mad'\u001b[0m\u001b[0;34m)\u001b[0m\u001b[0;34m\u001b[0m\u001b[0;34m\u001b[0m\u001b[0m\n\u001b[0m",
            "\u001b[0;31mTypeError\u001b[0m: threeInOne() missing 1 required positional argument: 'arg'"
          ]
        }
      ]
    },
    {
      "cell_type": "markdown",
      "source": [
        "# argument sequence and errors"
      ],
      "metadata": {
        "id": "O6qn4I4_4unu"
      }
    },
    {
      "cell_type": "code",
      "source": [
        "def my_new_arg_func(**kiwis, *dates, , banana, cherries):\n",
        "    return cherries, dates, kiwis, apple, banana,"
      ],
      "metadata": {
        "colab": {
          "base_uri": "https://localhost:8080/",
          "height": 140
        },
        "id": "ugd3VRGQ5_7T",
        "outputId": "80993698-f9d5-41da-e5c0-a5627cc075cf"
      },
      "execution_count": null,
      "outputs": [
        {
          "output_type": "error",
          "ename": "SyntaxError",
          "evalue": "ignored",
          "traceback": [
            "\u001b[0;36m  File \u001b[0;32m\"<ipython-input-28-dd2e9072a1a6>\"\u001b[0;36m, line \u001b[0;32m1\u001b[0m\n\u001b[0;31m    def my_new_arg_func(**kiwis, *dates, , banana, cherries):\u001b[0m\n\u001b[0m                                 ^\u001b[0m\n\u001b[0;31mSyntaxError\u001b[0m\u001b[0;31m:\u001b[0m invalid syntax\n"
          ]
        }
      ]
    },
    {
      "cell_type": "code",
      "source": [
        "def my_new_arg_func(apple, *dates, banana, **kiwis, cherries):\n",
        "    return cherries, dates, kiwis, apple, banana,"
      ],
      "metadata": {
        "colab": {
          "base_uri": "https://localhost:8080/",
          "height": 140
        },
        "id": "h2wJ2mkRB-Rn",
        "outputId": "bb64daa3-6b5d-49a6-be51-d1e8c34718e5"
      },
      "execution_count": null,
      "outputs": [
        {
          "output_type": "error",
          "ename": "SyntaxError",
          "evalue": "ignored",
          "traceback": [
            "\u001b[0;36m  File \u001b[0;32m\"<ipython-input-29-7228036f0c92>\"\u001b[0;36m, line \u001b[0;32m1\u001b[0m\n\u001b[0;31m    def my_new_arg_func(apple, *dates, banana, **kiwis, cherries):\u001b[0m\n\u001b[0m                                                        ^\u001b[0m\n\u001b[0;31mSyntaxError\u001b[0m\u001b[0;31m:\u001b[0m invalid syntax\n"
          ]
        }
      ]
    },
    {
      "cell_type": "code",
      "source": [
        "def my_new_arg_func1(apple, banana, cherries, *dates, **kiwis):\n",
        "    return kiwis, apple, banana, cherries, dates"
      ],
      "metadata": {
        "id": "p5ygWzSh_WbV"
      },
      "execution_count": null,
      "outputs": []
    },
    {
      "cell_type": "code",
      "source": [
        "my_new_arg_func1('day', 'night', 'mid-night',\n",
        "                12, -23, 34.45, 12_23j, -32-43j, True, False, 'hello', 'world',\n",
        "                [1, 2, 3, 4, 5], {6, 7, 8, 9, 10, 11},(12, 13, 14, 15),\n",
        "                {'name' : 'deepa', 'department' : 'account'},\n",
        "                a = 'happy', b = 'sad', c = 'mad')"
      ],
      "metadata": {
        "colab": {
          "base_uri": "https://localhost:8080/"
        },
        "id": "-B4WVfRa_Llf",
        "outputId": "39bcc23a-14d1-4c23-ce9d-0646646d6321"
      },
      "execution_count": null,
      "outputs": [
        {
          "output_type": "execute_result",
          "data": {
            "text/plain": [
              "({'a': 'happy', 'b': 'sad', 'c': 'mad'},\n",
              " 'day',\n",
              " 'night',\n",
              " 'mid-night',\n",
              " (12,\n",
              "  -23,\n",
              "  34.45,\n",
              "  1223j,\n",
              "  (-32-43j),\n",
              "  True,\n",
              "  False,\n",
              "  'hello',\n",
              "  'world',\n",
              "  [1, 2, 3, 4, 5],\n",
              "  {6, 7, 8, 9, 10, 11},\n",
              "  (12, 13, 14, 15),\n",
              "  {'name': 'deepa', 'department': 'account'}))"
            ]
          },
          "metadata": {},
          "execution_count": 43
        }
      ]
    },
    {
      "cell_type": "code",
      "execution_count": null,
      "metadata": {
        "colab": {
          "base_uri": "https://localhost:8080/"
        },
        "id": "uX20SY8QAoeH",
        "outputId": "edc4a561-3663-40a9-b821-2146b2a4e67a"
      },
      "outputs": [
        {
          "output_type": "stream",
          "name": "stdout",
          "text": [
            "dict_keys(['a', 'b', 'c', 'd', 'e', 'f', 'g', 'h', 'i', 'j', 'k', 'l', 'm'])\n",
            "dict_items([('a', 12), ('b', -23), ('c', 34.45), ('d', 1223j), ('e', (-32-43j)), ('f', True), ('g', False), ('h', 'hello'), ('i', 'world'), ('j', [1, 2, 3, 4, 5]), ('k', {6, 7, 8, 9, 10, 11}), ('l', (12, 13, 14, 15)), ('m', {'name': 'deepa', 'department': 'account'})])\n"
          ]
        }
      ],
      "source": [
        "dict1 = {'a': 12,\n",
        " 'b': -23,\n",
        " 'c': 34.45,\n",
        " 'd': 1223j,\n",
        " 'e': (-32-43j),\n",
        " 'f': True,\n",
        " 'g': False,\n",
        " 'h': 'hello',\n",
        " 'i': 'world',\n",
        " 'j': [1, 2, 3, 4, 5],\n",
        " 'k': {6, 7, 8, 9, 10, 11},\n",
        " 'l': (12, 13, 14, 15),\n",
        " 'm': {'name': 'deepa', 'department': 'account'}}\n",
        "\n",
        "print(dict1.keys())\n",
        "print(dict1.items())"
      ]
    },
    {
      "cell_type": "markdown",
      "source": [
        "# Lambda Functions (one liner functions)"
      ],
      "metadata": {
        "id": "R-CWhLcsMjgf"
      }
    },
    {
      "cell_type": "code",
      "source": [
        "x = lambda a : a + 10\n",
        "print(x(25))"
      ],
      "metadata": {
        "colab": {
          "base_uri": "https://localhost:8080/"
        },
        "id": "x1BjOrGiMpQF",
        "outputId": "d177b571-c7be-4bf4-980a-e1604147a112"
      },
      "execution_count": null,
      "outputs": [
        {
          "output_type": "stream",
          "name": "stdout",
          "text": [
            "35\n"
          ]
        }
      ]
    },
    {
      "cell_type": "code",
      "source": [
        "x = lambda a:a - 5\n",
        "print(x(100))"
      ],
      "metadata": {
        "colab": {
          "base_uri": "https://localhost:8080/"
        },
        "id": "EiiCrhqyN_wo",
        "outputId": "efa21032-03a2-444d-cdf7-c5ae39afc13d"
      },
      "execution_count": null,
      "outputs": [
        {
          "output_type": "stream",
          "name": "stdout",
          "text": [
            "95\n"
          ]
        }
      ]
    },
    {
      "cell_type": "code",
      "source": [
        "x = lambda a, b : a * b\n",
        "print(x(10, 23))"
      ],
      "metadata": {
        "colab": {
          "base_uri": "https://localhost:8080/"
        },
        "id": "4kvnoqGANjBO",
        "outputId": "98c5f108-e507-4cf0-b48e-3c435d996f6e"
      },
      "execution_count": null,
      "outputs": [
        {
          "output_type": "stream",
          "name": "stdout",
          "text": [
            "230\n"
          ]
        }
      ]
    },
    {
      "cell_type": "code",
      "source": [
        "x = lambda a, b : a / b\n",
        "print(x(100, 25))"
      ],
      "metadata": {
        "colab": {
          "base_uri": "https://localhost:8080/"
        },
        "id": "Ip0Yn_l9OXxJ",
        "outputId": "93a8fa3c-bb39-4628-85bd-7ab7c651f81c"
      },
      "execution_count": null,
      "outputs": [
        {
          "output_type": "stream",
          "name": "stdout",
          "text": [
            "4.0\n"
          ]
        }
      ]
    },
    {
      "cell_type": "markdown",
      "source": [
        "python- lambda function follow BODMAS rule"
      ],
      "metadata": {
        "id": "A1Rt8muZN1UK"
      }
    },
    {
      "cell_type": "code",
      "source": [
        "x = lambda a, b, c : a + b - c\n",
        "print(x(12,24,36))"
      ],
      "metadata": {
        "colab": {
          "base_uri": "https://localhost:8080/"
        },
        "id": "3kTApfDANn7e",
        "outputId": "038b45db-20ef-4c9d-d3e8-17f03928216f"
      },
      "execution_count": null,
      "outputs": [
        {
          "output_type": "stream",
          "name": "stdout",
          "text": [
            "0\n"
          ]
        }
      ]
    },
    {
      "cell_type": "code",
      "source": [
        "x = lambda a, b, c, d : a + b - c * d\n",
        "print(x(12,24,36,48))\n",
        "print(x(9, 8, 7, 6))"
      ],
      "metadata": {
        "colab": {
          "base_uri": "https://localhost:8080/"
        },
        "id": "iE8bPDydNxe6",
        "outputId": "4304dfe7-a2ab-4df7-c1cf-055c800a09d9"
      },
      "execution_count": null,
      "outputs": [
        {
          "output_type": "stream",
          "name": "stdout",
          "text": [
            "-1692\n",
            "-25\n"
          ]
        }
      ]
    },
    {
      "cell_type": "code",
      "source": [
        "x = lambda a, b, c, d : a + b - c * d\n",
        "print(x(50,24,36,48))"
      ],
      "metadata": {
        "colab": {
          "base_uri": "https://localhost:8080/"
        },
        "id": "hEcdMkZ-O2dW",
        "outputId": "1ea99440-d59b-4d68-9147-f1c0432ee038"
      },
      "execution_count": null,
      "outputs": [
        {
          "output_type": "stream",
          "name": "stdout",
          "text": [
            "-1654\n"
          ]
        }
      ]
    },
    {
      "cell_type": "code",
      "source": [
        "x = lambda a, b, c, d : ((a + b)*a) - ((c * d ) + b)\n",
        "print(x(50,24,36,48))\n",
        "print(x(10, 10, 10, 10))"
      ],
      "metadata": {
        "colab": {
          "base_uri": "https://localhost:8080/"
        },
        "id": "S5ckAgJGPakp",
        "outputId": "46365215-71ac-45a7-d21d-e36eee255087"
      },
      "execution_count": null,
      "outputs": [
        {
          "output_type": "stream",
          "name": "stdout",
          "text": [
            "1948\n",
            "90\n"
          ]
        }
      ]
    }
  ]
}