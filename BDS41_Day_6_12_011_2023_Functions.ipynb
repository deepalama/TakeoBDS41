{
  "nbformat": 4,
  "nbformat_minor": 0,
  "metadata": {
    "colab": {
      "provenance": [],
      "collapsed_sections": [
        "SsW02uytovkl",
        "ibgO0W5PjS79",
        "5H2Yz6Fhq1qW",
        "McW1PSugrVW7",
        "4j5OJwCIre3s",
        "4jcG2p97rgfS",
        "JUDqlCHUtb91",
        "UHz9uwcdtTeJ",
        "RSGeDIvzt5Ms",
        "bWwmJOEQt1cB",
        "qvRgwlF7zSIm",
        "630Glab82IDq",
        "mqb7M_ak472g",
        "zXWGA_HA7xws"
      ],
      "toc_visible": true,
      "authorship_tag": "ABX9TyNNak0JvSwXO0QQcxL4TEpf",
      "include_colab_link": true
    },
    "kernelspec": {
      "name": "python3",
      "display_name": "Python 3"
    },
    "language_info": {
      "name": "python"
    }
  },
  "cells": [
    {
      "cell_type": "markdown",
      "metadata": {
        "id": "view-in-github",
        "colab_type": "text"
      },
      "source": [
        "<a href=\"https://colab.research.google.com/github/deepalama/TakeoBDS41/blob/main/BDS41_Day_6_12_011_2023_Functions.ipynb\" target=\"_parent\"><img src=\"https://colab.research.google.com/assets/colab-badge.svg\" alt=\"Open In Colab\"/></a>"
      ]
    },
    {
      "cell_type": "markdown",
      "source": [
        "# Monday Dec 11, 2023"
      ],
      "metadata": {
        "id": "dutTMotWjS0Z"
      }
    },
    {
      "cell_type": "markdown",
      "source": [
        "# **Python Function**\n",
        "\n",
        "1. Build in Functions (pre-defined)\n",
        "2. User Define Functions\n",
        "3. Lamda Functions\n",
        "\n",
        "https://docs.python.org/3/library/functions.html"
      ],
      "metadata": {
        "id": "XlMY_90YlqSi"
      }
    },
    {
      "cell_type": "markdown",
      "source": [
        "# Print function - print()"
      ],
      "metadata": {
        "id": "SsW02uytovkl"
      }
    },
    {
      "cell_type": "code",
      "source": [
        "print('Welcome, today we are going to learn python functions')"
      ],
      "metadata": {
        "colab": {
          "base_uri": "https://localhost:8080/"
        },
        "id": "9MNutmD9jU5c",
        "outputId": "8467aa62-9126-435f-d8f0-7a69127c6839"
      },
      "execution_count": null,
      "outputs": [
        {
          "output_type": "stream",
          "name": "stdout",
          "text": [
            "Welcome, today we are going to learn python functions\n"
          ]
        }
      ]
    },
    {
      "cell_type": "code",
      "source": [
        "print(*object, sep=' ', end='\\n', file=None, flush=False)"
      ],
      "metadata": {
        "id": "brgYQi26onC2"
      },
      "execution_count": null,
      "outputs": []
    },
    {
      "cell_type": "code",
      "source": [
        "print(*object, sep = ' ', end = ' ', file = None, flush = False)"
      ],
      "metadata": {
        "id": "2VdkrYFpopAz"
      },
      "execution_count": null,
      "outputs": []
    },
    {
      "cell_type": "markdown",
      "source": [
        "print(*object, sep = ' ', end = ' ', file = None, flush = False)"
      ],
      "metadata": {
        "id": "CLiq9Hp6n4sD"
      }
    },
    {
      "cell_type": "markdown",
      "source": [
        "# Input function - input()"
      ],
      "metadata": {
        "id": "ibgO0W5PjS79"
      }
    },
    {
      "cell_type": "code",
      "execution_count": null,
      "metadata": {
        "colab": {
          "base_uri": "https://localhost:8080/"
        },
        "id": "-laVp7pzjRYK",
        "outputId": "168ced4d-cb40-4590-c787-a8ff44078254"
      },
      "outputs": [
        {
          "output_type": "stream",
          "name": "stdout",
          "text": [
            "Please enter your name - Deepa lama\n",
            "Deepa lama\n"
          ]
        }
      ],
      "source": [
        "a = input('Please enter your name - ')\n",
        "print(a)"
      ]
    },
    {
      "cell_type": "code",
      "source": [
        "a = input('marks in english - ')\n",
        "b = input('marks in math - ')\n",
        "c = input('marks in science - ')\n",
        "d = input('marks in Account - ')\n",
        "e = input('marks in arts - ')\n",
        "f = input('marks in computer - ')\n",
        "\n",
        "print('\\n', 'sum of all marks = ', a + b + c + d + e + f)"
      ],
      "metadata": {
        "colab": {
          "base_uri": "https://localhost:8080/"
        },
        "id": "3FLtmdrEpLIp",
        "outputId": "ee206b03-29a8-4ac9-aa13-f5a0a0335f68"
      },
      "execution_count": null,
      "outputs": [
        {
          "output_type": "stream",
          "name": "stdout",
          "text": [
            "marks in english - 1\n",
            "marks in math - 1\n",
            "marks in science - 1\n",
            "marks in Account - 1\n",
            "marks in arts - 1\n",
            "marks in computer - 1\n",
            "\n",
            " sum of all marks =  111111\n"
          ]
        }
      ]
    },
    {
      "cell_type": "markdown",
      "source": [
        "# **Input will take input data as string by default, in order to change the data type as required we use type casting functions.**"
      ],
      "metadata": {
        "id": "5H2Yz6Fhq1qW"
      }
    },
    {
      "cell_type": "code",
      "source": [
        "a = int(input('marks in english - '))\n",
        "b = int(input('marks in math - '))\n",
        "c = int(input('marks in science - '))\n",
        "d = int(input('marks in Account - '))\n",
        "e = int(input('marks in arts - '))\n",
        "f = int(input('marks in computer - '))\n",
        "\n",
        "print('\\n', 'sum of all marks = ', a + b + c + d + e + f)"
      ],
      "metadata": {
        "colab": {
          "base_uri": "https://localhost:8080/"
        },
        "id": "Wg-OQFHzp0Tc",
        "outputId": "188093c6-1445-44ba-9586-394dda00f6cb"
      },
      "execution_count": null,
      "outputs": [
        {
          "output_type": "stream",
          "name": "stdout",
          "text": [
            "marks in english - 1\n",
            "marks in math - 1\n",
            "marks in science - 1\n",
            "marks in Account - 1\n",
            "marks in arts - 1\n",
            "marks in computer - 1\n",
            "\n",
            " sum of all marks =  6\n"
          ]
        }
      ]
    },
    {
      "cell_type": "markdown",
      "source": [
        "# Type casting functions"
      ],
      "metadata": {
        "id": "SHvx9QOgrFeS"
      }
    },
    {
      "cell_type": "markdown",
      "source": [
        "Python Type Casting Functions\n",
        "\n",
        "1. int\n",
        "2. float\n",
        "3. complex\n",
        "4. boolean\n",
        "5. string\n",
        "6. list\n",
        "7. tuple\n",
        "8. set\n",
        "9. dictionary"
      ],
      "metadata": {
        "id": "GedsZCoNtDVI"
      }
    },
    {
      "cell_type": "markdown",
      "source": [
        "# typecast to int - int()"
      ],
      "metadata": {
        "id": "McW1PSugrVW7"
      }
    },
    {
      "cell_type": "code",
      "source": [
        "a = int(input('marks in english - '))\n",
        "b = int(input('marks in math - '))\n",
        "c = int(input('marks in science - '))\n",
        "d = int(input('marks in Account - '))\n",
        "e = int(input('marks in arts - '))\n",
        "f = int(input('marks in computer - '))\n",
        "\n",
        "print('\\n', 'sum of all marks = ', a + b + c + d + e + f)\n"
      ],
      "metadata": {
        "colab": {
          "base_uri": "https://localhost:8080/"
        },
        "id": "kqDF-YWzp0Mb",
        "outputId": "16073094-4b3c-439c-e778-bfcd07add3c1"
      },
      "execution_count": null,
      "outputs": [
        {
          "output_type": "stream",
          "name": "stdout",
          "text": [
            "marks in english - 1\n",
            "marks in math - 1\n",
            "marks in science - 1\n",
            "marks in Account - 1\n",
            "marks in arts - 1\n",
            "marks in computer - 1\n",
            "\n",
            " sum of all marks =  6\n"
          ]
        }
      ]
    },
    {
      "cell_type": "markdown",
      "source": [
        "# typecast to float - float()"
      ],
      "metadata": {
        "id": "4j5OJwCIre3s"
      }
    },
    {
      "cell_type": "code",
      "source": [
        "a = float(input('marks in english - '))\n",
        "b = float(input('marks in math - '))\n",
        "c = float(input('marks in science - '))\n",
        "d = float(input('marks in Account - '))\n",
        "e = float(input('marks in arts - '))\n",
        "f = float(input('marks in computer - '))\n",
        "\n",
        "print('\\n', 'sum of all marks = ', a + b + c + d + e + f)"
      ],
      "metadata": {
        "colab": {
          "base_uri": "https://localhost:8080/"
        },
        "id": "BAfBZluuruHS",
        "outputId": "3365d8d9-0853-49a8-f162-f8c4989c977f"
      },
      "execution_count": null,
      "outputs": [
        {
          "output_type": "stream",
          "name": "stdout",
          "text": [
            "marks in english - 1.5\n",
            "marks in math - 1\n",
            "marks in science - 1\n",
            "marks in Account - 1\n",
            "marks in arts - 1\n",
            "marks in computer - 1\n",
            "\n",
            " sum of all marks =  6.5\n"
          ]
        }
      ]
    },
    {
      "cell_type": "markdown",
      "source": [
        "# typecast to complex - complex()"
      ],
      "metadata": {
        "id": "4jcG2p97rgfS"
      }
    },
    {
      "cell_type": "code",
      "source": [
        "a = complex(input('input 1 - '))\n",
        "b = complex(input('input 2 - '))\n",
        "c = complex(input('input 3 - '))\n",
        "\n",
        "print('\\n', 'sum of all marks = ', a + b + c )"
      ],
      "metadata": {
        "colab": {
          "base_uri": "https://localhost:8080/"
        },
        "id": "--2BwWhzsG_U",
        "outputId": "99af89a0-83f6-4593-c128-58e41e82a3f7"
      },
      "execution_count": null,
      "outputs": [
        {
          "output_type": "stream",
          "name": "stdout",
          "text": [
            "input 1 - 12+23j\n",
            "input 2 - -23-34j\n",
            "input 3 - 34_34j\n",
            "\n",
            " sum of all marks =  (-11+3423j)\n"
          ]
        }
      ]
    },
    {
      "cell_type": "markdown",
      "source": [
        "# typecast to List - list()"
      ],
      "metadata": {
        "id": "JUDqlCHUtb91"
      }
    },
    {
      "cell_type": "code",
      "source": [
        "str1 = 'convert string to list'\n",
        "\n",
        "print(list(str1))"
      ],
      "metadata": {
        "colab": {
          "base_uri": "https://localhost:8080/"
        },
        "id": "2P9HBDsevS5F",
        "outputId": "3d8d3ac9-5a7d-4120-9552-27017527135a"
      },
      "execution_count": null,
      "outputs": [
        {
          "output_type": "stream",
          "name": "stdout",
          "text": [
            "['c', 'o', 'n', 'v', 'e', 'r', 't', ' ', 's', 't', 'r', 'i', 'n', 'g', ' ', 't', 'o', ' ', 'l', 'i', 's', 't']\n"
          ]
        }
      ]
    },
    {
      "cell_type": "markdown",
      "source": [
        "# typecast to Tuple - tuple()"
      ],
      "metadata": {
        "id": "UHz9uwcdtTeJ"
      }
    },
    {
      "cell_type": "code",
      "source": [
        "str1 = 'convert string to tuple'\n",
        "\n",
        "print(tuple(str1))"
      ],
      "metadata": {
        "colab": {
          "base_uri": "https://localhost:8080/"
        },
        "id": "q-OiXUCsvANO",
        "outputId": "8e6d7a99-4ebb-40f8-db9b-d5fb97454289"
      },
      "execution_count": null,
      "outputs": [
        {
          "output_type": "stream",
          "name": "stdout",
          "text": [
            "('c', 'o', 'n', 'v', 'e', 'r', 't', ' ', 's', 't', 'r', 'i', 'n', 'g', ' ', 't', 'o', ' ', 't', 'u', 'p', 'l', 'e')\n"
          ]
        }
      ]
    },
    {
      "cell_type": "markdown",
      "source": [
        "# typecast to Set - set()"
      ],
      "metadata": {
        "id": "RSGeDIvzt5Ms"
      }
    },
    {
      "cell_type": "code",
      "source": [
        "str1 = 'convert string to set'\n",
        "\n",
        "print(set(str1))"
      ],
      "metadata": {
        "colab": {
          "base_uri": "https://localhost:8080/"
        },
        "id": "3f9Hl7G0tgyJ",
        "outputId": "33849def-f4d5-430d-e01c-72d9c372414c"
      },
      "execution_count": null,
      "outputs": [
        {
          "output_type": "stream",
          "name": "stdout",
          "text": [
            "{'t', 'i', 'n', 'r', ' ', 'c', 's', 'v', 'o', 'g', 'e'}\n"
          ]
        }
      ]
    },
    {
      "cell_type": "markdown",
      "source": [
        "# typecast to Dictionary - dictionary()"
      ],
      "metadata": {
        "id": "bWwmJOEQt1cB"
      }
    },
    {
      "cell_type": "code",
      "source": [
        "# list of tuples to dictionary\n",
        "\n",
        "lst1 = [(1, 'a'), (2, 'b')]\n",
        "\n",
        "print(dict(lst1))"
      ],
      "metadata": {
        "colab": {
          "base_uri": "https://localhost:8080/"
        },
        "id": "typxHTBIuFUx",
        "outputId": "f480b4ca-7bc1-42d8-fb9d-6a90cd487c85"
      },
      "execution_count": null,
      "outputs": [
        {
          "output_type": "stream",
          "name": "stdout",
          "text": [
            "{1: 'a', 2: 'b'}\n"
          ]
        }
      ]
    },
    {
      "cell_type": "code",
      "source": [
        "# list of lists to dictionary\n",
        "\n",
        "lst2 = [[1, 'a'], [2, 'b']]\n",
        "\n",
        "print(dict(lst2))"
      ],
      "metadata": {
        "colab": {
          "base_uri": "https://localhost:8080/"
        },
        "id": "5vJ4Nw6ax3pN",
        "outputId": "15f4c80b-9a8f-43ff-9a90-2bc7c157172e"
      },
      "execution_count": null,
      "outputs": [
        {
          "output_type": "stream",
          "name": "stdout",
          "text": [
            "{1: 'a', 2: 'b'}\n"
          ]
        }
      ]
    },
    {
      "cell_type": "code",
      "source": [
        "# tuple of tuples to dictionary\n",
        "\n",
        "tup1 = (('zone1', 'north'), ('zone2', 'south'), ('zone3', 'east'), ('zone4', 'west'))\n",
        "\n",
        "print(dict(tup1))"
      ],
      "metadata": {
        "colab": {
          "base_uri": "https://localhost:8080/"
        },
        "id": "zCoaSBzMxKB1",
        "outputId": "19540f6f-5c3f-4ca8-ac43-03453c4d03af"
      },
      "execution_count": null,
      "outputs": [
        {
          "output_type": "stream",
          "name": "stdout",
          "text": [
            "{'zone1': 'north', 'zone2': 'south', 'zone3': 'east', 'zone4': 'west'}\n"
          ]
        }
      ]
    },
    {
      "cell_type": "code",
      "source": [
        "# tuple of list to dictionary\n",
        "\n",
        "tup2 = (['zone1', 'north'], ['zone2', 'south'], ['zone3', 'east'], ['zone4', 'west'])\n",
        "\n",
        "print(dict(tup2))"
      ],
      "metadata": {
        "colab": {
          "base_uri": "https://localhost:8080/"
        },
        "id": "VMWwIPqJyErm",
        "outputId": "459dcebe-887b-47c9-da05-b637af8eba7d"
      },
      "execution_count": null,
      "outputs": [
        {
          "output_type": "stream",
          "name": "stdout",
          "text": [
            "{'zone1': 'north', 'zone2': 'south', 'zone3': 'east', 'zone4': 'west'}\n"
          ]
        }
      ]
    },
    {
      "cell_type": "code",
      "source": [
        "# set of list to dictionary - TypeError: unhashable type: 'list'\n",
        "\n",
        "set1 = {[1, 'a'], [2, 'b']}\n",
        "\n",
        "print(dict(set1))"
      ],
      "metadata": {
        "id": "ul1lAoHWygLU"
      },
      "execution_count": null,
      "outputs": []
    },
    {
      "cell_type": "code",
      "source": [
        "# set of tuple to dictionary\n",
        "\n",
        "set2 = {(1, 'a'), (2, 'b')}\n",
        "\n",
        "print(dict(set2))"
      ],
      "metadata": {
        "colab": {
          "base_uri": "https://localhost:8080/"
        },
        "id": "JDOcYw41yzzd",
        "outputId": "5c5fbe5a-e6b1-47b6-8270-5b44bbba8e09"
      },
      "execution_count": null,
      "outputs": [
        {
          "output_type": "stream",
          "name": "stdout",
          "text": [
            "{2: 'b', 1: 'a'}\n"
          ]
        }
      ]
    },
    {
      "cell_type": "markdown",
      "source": [
        "# Number formats\n",
        "\n"
      ],
      "metadata": {
        "id": "qvRgwlF7zSIm"
      }
    },
    {
      "cell_type": "markdown",
      "source": [
        "Decimal:  1\n",
        "Binary:  0b1\n",
        "Octa Decimal:  0o1\n",
        "Hexa Decimal:  0x1"
      ],
      "metadata": {
        "id": "ZZ1MWcSP1ED-"
      }
    },
    {
      "cell_type": "code",
      "source": [
        "for i in range(0, 100, 1):\n",
        "    print('Decimal: ', i)\n",
        "    print('Binary: ', bin(i))\n",
        "    print('Octa Decimal: ', oct(i))\n",
        "    print('Hexa Decimal: ', hex(i), '\\n')\n"
      ],
      "metadata": {
        "id": "F6KBELqSzRvR"
      },
      "execution_count": null,
      "outputs": []
    },
    {
      "cell_type": "code",
      "source": [
        "for i in range(0, 100, 1):\n",
        "    print('Binary: ', bin(i))"
      ],
      "metadata": {
        "id": "sloE3szz09TU"
      },
      "execution_count": null,
      "outputs": []
    },
    {
      "cell_type": "code",
      "source": [
        "for i in range(0, 100, 1):\n",
        "    print('Octa Decimal: ', oct(i))"
      ],
      "metadata": {
        "id": "eRqbDGER1gri"
      },
      "execution_count": null,
      "outputs": []
    },
    {
      "cell_type": "code",
      "source": [
        "for i in range(0, 100, 1):\n",
        "    print('Hexa Decimal: ', hex(i))"
      ],
      "metadata": {
        "id": "SfE6AHVr1gkB"
      },
      "execution_count": null,
      "outputs": []
    },
    {
      "cell_type": "markdown",
      "source": [
        "# Help function - help()"
      ],
      "metadata": {
        "id": "630Glab82IDq"
      }
    },
    {
      "cell_type": "code",
      "source": [
        "help()"
      ],
      "metadata": {
        "id": "XkUR_Mrl4g6f",
        "colab": {
          "base_uri": "https://localhost:8080/"
        },
        "outputId": "081a0ffa-78da-44fc-bf40-08128dca7374"
      },
      "execution_count": null,
      "outputs": [
        {
          "metadata": {
            "tags": null
          },
          "name": "stdout",
          "output_type": "stream",
          "text": [
            "\n",
            "Welcome to Python 3.10's help utility!\n",
            "\n",
            "If this is your first time using Python, you should definitely check out\n",
            "the tutorial on the internet at https://docs.python.org/3.10/tutorial/.\n",
            "\n",
            "Enter the name of any module, keyword, or topic to get help on writing\n",
            "Python programs and using Python modules.  To quit this help utility and\n",
            "return to the interpreter, just type \"quit\".\n",
            "\n",
            "To get a list of available modules, keywords, symbols, or topics, type\n",
            "\"modules\", \"keywords\", \"symbols\", or \"topics\".  Each module also comes\n",
            "with a one-line summary of what it does; to list the modules whose name\n",
            "or summary contain a given string such as \"spam\", type \"modules spam\".\n",
            "\n"
          ]
        }
      ]
    },
    {
      "cell_type": "code",
      "source": [
        "help(print)"
      ],
      "metadata": {
        "id": "6dUixQ1e1gax",
        "colab": {
          "base_uri": "https://localhost:8080/"
        },
        "outputId": "e60bcc13-3ff4-4bca-d211-7fb482c85d87"
      },
      "execution_count": 8,
      "outputs": [
        {
          "output_type": "stream",
          "name": "stdout",
          "text": [
            "Help on built-in function print in module builtins:\n",
            "\n",
            "print(...)\n",
            "    print(value, ..., sep=' ', end='\\n', file=sys.stdout, flush=False)\n",
            "    \n",
            "    Prints the values to a stream, or to sys.stdout by default.\n",
            "    Optional keyword arguments:\n",
            "    file:  a file-like object (stream); defaults to the current sys.stdout.\n",
            "    sep:   string inserted between values, default a space.\n",
            "    end:   string appended after the last value, default a newline.\n",
            "    flush: whether to forcibly flush the stream.\n",
            "\n"
          ]
        }
      ]
    },
    {
      "cell_type": "code",
      "source": [
        "help(eval)"
      ],
      "metadata": {
        "id": "FO56E-3u4rwy",
        "colab": {
          "base_uri": "https://localhost:8080/"
        },
        "outputId": "24d46a1c-0f84-4272-d7d3-4bedd9fd67ca"
      },
      "execution_count": 7,
      "outputs": [
        {
          "output_type": "stream",
          "name": "stdout",
          "text": [
            "Help on built-in function eval in module builtins:\n",
            "\n",
            "eval(source, globals=None, locals=None, /)\n",
            "    Evaluate the given source in the context of globals and locals.\n",
            "    \n",
            "    The source may be a string representing a Python expression\n",
            "    or a code object as returned by compile().\n",
            "    The globals must be a dictionary and locals can be any mapping,\n",
            "    defaulting to the current globals and locals.\n",
            "    If only globals is given, locals defaults to it.\n",
            "\n"
          ]
        }
      ]
    },
    {
      "cell_type": "code",
      "source": [
        "help(iter)"
      ],
      "metadata": {
        "id": "IFW04e804sI9",
        "colab": {
          "base_uri": "https://localhost:8080/"
        },
        "outputId": "a3b6bae6-82bd-4385-afe0-9929683c6492"
      },
      "execution_count": 6,
      "outputs": [
        {
          "output_type": "stream",
          "name": "stdout",
          "text": [
            "Help on built-in function iter in module builtins:\n",
            "\n",
            "iter(...)\n",
            "    iter(iterable) -> iterator\n",
            "    iter(callable, sentinel) -> iterator\n",
            "    \n",
            "    Get an iterator from an object.  In the first form, the argument must\n",
            "    supply its own iterator, or be a sequence.\n",
            "    In the second form, the callable is called until it returns the sentinel.\n",
            "\n"
          ]
        }
      ]
    },
    {
      "cell_type": "code",
      "source": [
        "help(next)"
      ],
      "metadata": {
        "colab": {
          "base_uri": "https://localhost:8080/"
        },
        "id": "N8lAti2W4sVd",
        "outputId": "6cd50a56-2210-491f-e2e0-23291b695577"
      },
      "execution_count": null,
      "outputs": [
        {
          "output_type": "stream",
          "name": "stdout",
          "text": [
            "Help on built-in function next in module builtins:\n",
            "\n",
            "next(...)\n",
            "    next(iterator[, default])\n",
            "    \n",
            "    Return the next item from the iterator. If default is given and the iterator\n",
            "    is exhausted, it is returned instead of raising StopIteration.\n",
            "\n"
          ]
        }
      ]
    },
    {
      "cell_type": "code",
      "source": [
        "help(len)"
      ],
      "metadata": {
        "id": "4y4ONk8o5xPw",
        "colab": {
          "base_uri": "https://localhost:8080/"
        },
        "outputId": "6d88b9ac-1220-4e8b-fa55-8f20688e7488"
      },
      "execution_count": 5,
      "outputs": [
        {
          "output_type": "stream",
          "name": "stdout",
          "text": [
            "Help on built-in function len in module builtins:\n",
            "\n",
            "len(obj, /)\n",
            "    Return the number of items in a container.\n",
            "\n"
          ]
        }
      ]
    },
    {
      "cell_type": "code",
      "source": [
        "help(max)"
      ],
      "metadata": {
        "id": "oSRfJgzW5xFw",
        "colab": {
          "base_uri": "https://localhost:8080/"
        },
        "outputId": "6645b5a5-c8ab-481d-c731-3eafe46cd3b9"
      },
      "execution_count": 4,
      "outputs": [
        {
          "output_type": "stream",
          "name": "stdout",
          "text": [
            "Help on built-in function max in module builtins:\n",
            "\n",
            "max(...)\n",
            "    max(iterable, *[, default=obj, key=func]) -> value\n",
            "    max(arg1, arg2, *args, *[, key=func]) -> value\n",
            "    \n",
            "    With a single iterable argument, return its biggest item. The\n",
            "    default keyword-only argument specifies an object to return if\n",
            "    the provided iterable is empty.\n",
            "    With two or more arguments, return the largest argument.\n",
            "\n"
          ]
        }
      ]
    },
    {
      "cell_type": "code",
      "source": [
        "help(sorted)"
      ],
      "metadata": {
        "id": "c86BvLiH9XSd",
        "colab": {
          "base_uri": "https://localhost:8080/"
        },
        "outputId": "87fcd715-0c97-424a-ca89-796f661ae3c7"
      },
      "execution_count": 2,
      "outputs": [
        {
          "output_type": "stream",
          "name": "stdout",
          "text": [
            "Help on built-in function sorted in module builtins:\n",
            "\n",
            "sorted(iterable, /, *, key=None, reverse=False)\n",
            "    Return a new list containing all items from the iterable in ascending order.\n",
            "    \n",
            "    A custom key function can be supplied to customize the sort order, and the\n",
            "    reverse flag can be set to request the result in descending order.\n",
            "\n"
          ]
        }
      ]
    },
    {
      "cell_type": "code",
      "source": [
        "help(list)"
      ],
      "metadata": {
        "id": "f6vPzuOf9XIP",
        "colab": {
          "base_uri": "https://localhost:8080/"
        },
        "outputId": "3c06888a-c186-414e-aecf-1d4e55b00dac"
      },
      "execution_count": 1,
      "outputs": [
        {
          "output_type": "stream",
          "name": "stdout",
          "text": [
            "Help on class list in module builtins:\n",
            "\n",
            "class list(object)\n",
            " |  list(iterable=(), /)\n",
            " |  \n",
            " |  Built-in mutable sequence.\n",
            " |  \n",
            " |  If no argument is given, the constructor creates a new empty list.\n",
            " |  The argument must be an iterable if specified.\n",
            " |  \n",
            " |  Methods defined here:\n",
            " |  \n",
            " |  __add__(self, value, /)\n",
            " |      Return self+value.\n",
            " |  \n",
            " |  __contains__(self, key, /)\n",
            " |      Return key in self.\n",
            " |  \n",
            " |  __delitem__(self, key, /)\n",
            " |      Delete self[key].\n",
            " |  \n",
            " |  __eq__(self, value, /)\n",
            " |      Return self==value.\n",
            " |  \n",
            " |  __ge__(self, value, /)\n",
            " |      Return self>=value.\n",
            " |  \n",
            " |  __getattribute__(self, name, /)\n",
            " |      Return getattr(self, name).\n",
            " |  \n",
            " |  __getitem__(...)\n",
            " |      x.__getitem__(y) <==> x[y]\n",
            " |  \n",
            " |  __gt__(self, value, /)\n",
            " |      Return self>value.\n",
            " |  \n",
            " |  __iadd__(self, value, /)\n",
            " |      Implement self+=value.\n",
            " |  \n",
            " |  __imul__(self, value, /)\n",
            " |      Implement self*=value.\n",
            " |  \n",
            " |  __init__(self, /, *args, **kwargs)\n",
            " |      Initialize self.  See help(type(self)) for accurate signature.\n",
            " |  \n",
            " |  __iter__(self, /)\n",
            " |      Implement iter(self).\n",
            " |  \n",
            " |  __le__(self, value, /)\n",
            " |      Return self<=value.\n",
            " |  \n",
            " |  __len__(self, /)\n",
            " |      Return len(self).\n",
            " |  \n",
            " |  __lt__(self, value, /)\n",
            " |      Return self<value.\n",
            " |  \n",
            " |  __mul__(self, value, /)\n",
            " |      Return self*value.\n",
            " |  \n",
            " |  __ne__(self, value, /)\n",
            " |      Return self!=value.\n",
            " |  \n",
            " |  __repr__(self, /)\n",
            " |      Return repr(self).\n",
            " |  \n",
            " |  __reversed__(self, /)\n",
            " |      Return a reverse iterator over the list.\n",
            " |  \n",
            " |  __rmul__(self, value, /)\n",
            " |      Return value*self.\n",
            " |  \n",
            " |  __setitem__(self, key, value, /)\n",
            " |      Set self[key] to value.\n",
            " |  \n",
            " |  __sizeof__(self, /)\n",
            " |      Return the size of the list in memory, in bytes.\n",
            " |  \n",
            " |  append(self, object, /)\n",
            " |      Append object to the end of the list.\n",
            " |  \n",
            " |  clear(self, /)\n",
            " |      Remove all items from list.\n",
            " |  \n",
            " |  copy(self, /)\n",
            " |      Return a shallow copy of the list.\n",
            " |  \n",
            " |  count(self, value, /)\n",
            " |      Return number of occurrences of value.\n",
            " |  \n",
            " |  extend(self, iterable, /)\n",
            " |      Extend list by appending elements from the iterable.\n",
            " |  \n",
            " |  index(self, value, start=0, stop=9223372036854775807, /)\n",
            " |      Return first index of value.\n",
            " |      \n",
            " |      Raises ValueError if the value is not present.\n",
            " |  \n",
            " |  insert(self, index, object, /)\n",
            " |      Insert object before index.\n",
            " |  \n",
            " |  pop(self, index=-1, /)\n",
            " |      Remove and return item at index (default last).\n",
            " |      \n",
            " |      Raises IndexError if list is empty or index is out of range.\n",
            " |  \n",
            " |  remove(self, value, /)\n",
            " |      Remove first occurrence of value.\n",
            " |      \n",
            " |      Raises ValueError if the value is not present.\n",
            " |  \n",
            " |  reverse(self, /)\n",
            " |      Reverse *IN PLACE*.\n",
            " |  \n",
            " |  sort(self, /, *, key=None, reverse=False)\n",
            " |      Sort the list in ascending order and return None.\n",
            " |      \n",
            " |      The sort is in-place (i.e. the list itself is modified) and stable (i.e. the\n",
            " |      order of two equal elements is maintained).\n",
            " |      \n",
            " |      If a key function is given, apply it once to each list item and sort them,\n",
            " |      ascending or descending, according to their function values.\n",
            " |      \n",
            " |      The reverse flag can be set to sort in descending order.\n",
            " |  \n",
            " |  ----------------------------------------------------------------------\n",
            " |  Class methods defined here:\n",
            " |  \n",
            " |  __class_getitem__(...) from builtins.type\n",
            " |      See PEP 585\n",
            " |  \n",
            " |  ----------------------------------------------------------------------\n",
            " |  Static methods defined here:\n",
            " |  \n",
            " |  __new__(*args, **kwargs) from builtins.type\n",
            " |      Create and return a new object.  See help(type) for accurate signature.\n",
            " |  \n",
            " |  ----------------------------------------------------------------------\n",
            " |  Data and other attributes defined here:\n",
            " |  \n",
            " |  __hash__ = None\n",
            "\n"
          ]
        }
      ]
    },
    {
      "cell_type": "markdown",
      "source": [
        "# iter()"
      ],
      "metadata": {
        "id": "mqb7M_ak472g"
      }
    },
    {
      "cell_type": "code",
      "source": [
        "lst1 = ['apple','banana','cherries','durian','grapes']\n",
        "\n",
        "x = iter(lst1)\n",
        "\n",
        "print(next(x))\n",
        "print(next(x))\n",
        "print(next(x))\n",
        "print(next(x))\n",
        "print(next(x))"
      ],
      "metadata": {
        "colab": {
          "base_uri": "https://localhost:8080/"
        },
        "id": "vfC-hNJF15Fg",
        "outputId": "4b5a5a5b-76ff-4f60-910b-29c06776b705"
      },
      "execution_count": null,
      "outputs": [
        {
          "output_type": "stream",
          "name": "stdout",
          "text": [
            "apple\n",
            "banana\n",
            "cherries\n",
            "durian\n",
            "grapes\n"
          ]
        }
      ]
    },
    {
      "cell_type": "code",
      "source": [
        "tup1 = ('apple','banana','cherries','durian','grapes')\n",
        "\n",
        "x = iter(tup1)\n",
        "\n",
        "print(next(x))\n",
        "print(next(x))\n",
        "print(next(x))\n",
        "print(next(x))\n",
        "print(next(x))\n"
      ],
      "metadata": {
        "colab": {
          "base_uri": "https://localhost:8080/"
        },
        "id": "8URdRb6x53GB",
        "outputId": "82d6c7ca-fe81-4c93-d86b-4645b88c1c74"
      },
      "execution_count": null,
      "outputs": [
        {
          "output_type": "stream",
          "name": "stdout",
          "text": [
            "apple\n",
            "banana\n",
            "cherries\n",
            "durian\n",
            "grapes\n"
          ]
        }
      ]
    },
    {
      "cell_type": "code",
      "source": [
        "set1 = {'apple','banana','cherries','durian','grapes'}\n",
        "\n",
        "x = iter(set1)\n",
        "\n",
        "print(next(x))\n",
        "print(next(x))\n",
        "print(next(x))\n",
        "print(next(x))\n",
        "print(next(x))\n"
      ],
      "metadata": {
        "colab": {
          "base_uri": "https://localhost:8080/"
        },
        "id": "Uro12HVJ525l",
        "outputId": "c85cfd98-1ef2-40d4-d6dd-830f1a0f923d"
      },
      "execution_count": null,
      "outputs": [
        {
          "output_type": "stream",
          "name": "stdout",
          "text": [
            "banana\n",
            "apple\n",
            "grapes\n",
            "durian\n",
            "cherries\n"
          ]
        }
      ]
    },
    {
      "cell_type": "code",
      "source": [
        "set2 = {'apple','banana','cherries','durian','grapes', 'apple','banana','cherries'}\n",
        "\n",
        "x = iter(set2)\n",
        "\n",
        "print(next(x))\n",
        "print(next(x))\n",
        "print(next(x))\n",
        "print(next(x))\n",
        "print(next(x))\n",
        "\n",
        "StopIteration:\n"
      ],
      "metadata": {
        "colab": {
          "base_uri": "https://localhost:8080/"
        },
        "id": "Fc2d_CQo6OB0",
        "outputId": "eb55e375-06e5-42e1-ff80-e1d0dbc4ba12"
      },
      "execution_count": null,
      "outputs": [
        {
          "output_type": "stream",
          "name": "stdout",
          "text": [
            "banana\n",
            "apple\n",
            "grapes\n",
            "durian\n",
            "cherries\n"
          ]
        }
      ]
    },
    {
      "cell_type": "code",
      "source": [
        "dict1 = {}\n",
        "\n",
        "x = iter(dict1)"
      ],
      "metadata": {
        "id": "ytbBiOyF7Y8r"
      },
      "execution_count": null,
      "outputs": []
    },
    {
      "cell_type": "markdown",
      "source": [
        "# length - len()"
      ],
      "metadata": {
        "id": "zXWGA_HA7xws"
      }
    },
    {
      "cell_type": "code",
      "source": [
        "str1 = 'Welcome to python programming webinar'\n",
        "\n",
        "len(str1)"
      ],
      "metadata": {
        "colab": {
          "base_uri": "https://localhost:8080/"
        },
        "id": "rj_b1DDu7wpp",
        "outputId": "22ba1ffb-c50a-44e1-a41c-cbdeeeaf6111"
      },
      "execution_count": null,
      "outputs": [
        {
          "output_type": "execute_result",
          "data": {
            "text/plain": [
              "37"
            ]
          },
          "metadata": {},
          "execution_count": 82
        }
      ]
    },
    {
      "cell_type": "markdown",
      "source": [
        "# Some more functions"
      ],
      "metadata": {
        "id": "E3AGIDJV97EA"
      }
    },
    {
      "cell_type": "code",
      "source": [
        "min(lst1)"
      ],
      "metadata": {
        "colab": {
          "base_uri": "https://localhost:8080/",
          "height": 35
        },
        "id": "eyH8dIit8bPi",
        "outputId": "e3d9cb42-5eb9-4405-9f00-ea3f15644290"
      },
      "execution_count": null,
      "outputs": [
        {
          "output_type": "execute_result",
          "data": {
            "text/plain": [
              "'apple'"
            ],
            "application/vnd.google.colaboratory.intrinsic+json": {
              "type": "string"
            }
          },
          "metadata": {},
          "execution_count": 83
        }
      ]
    },
    {
      "cell_type": "code",
      "source": [
        "max(lst1)"
      ],
      "metadata": {
        "colab": {
          "base_uri": "https://localhost:8080/",
          "height": 35
        },
        "id": "e-WFgDvj8bHu",
        "outputId": "f82c1dcd-c528-40d5-9924-27569df6dbe0"
      },
      "execution_count": null,
      "outputs": [
        {
          "output_type": "execute_result",
          "data": {
            "text/plain": [
              "'grapes'"
            ],
            "application/vnd.google.colaboratory.intrinsic+json": {
              "type": "string"
            }
          },
          "metadata": {},
          "execution_count": 84
        }
      ]
    },
    {
      "cell_type": "code",
      "source": [
        "flt1 = 3.49\n",
        "round(flt1)"
      ],
      "metadata": {
        "colab": {
          "base_uri": "https://localhost:8080/"
        },
        "id": "7Xouf2Di8bXQ",
        "outputId": "665694f1-d98f-4cc7-821b-94ebada68f16"
      },
      "execution_count": null,
      "outputs": [
        {
          "output_type": "execute_result",
          "data": {
            "text/plain": [
              "3"
            ]
          },
          "metadata": {},
          "execution_count": 85
        }
      ]
    },
    {
      "cell_type": "code",
      "source": [
        "flt1 = 3.50\n",
        "round(flt1)"
      ],
      "metadata": {
        "colab": {
          "base_uri": "https://localhost:8080/"
        },
        "id": "B4LmQNQ28pFd",
        "outputId": "96b57d22-92fc-458c-a563-0d4e6130a32b"
      },
      "execution_count": null,
      "outputs": [
        {
          "output_type": "execute_result",
          "data": {
            "text/plain": [
              "4"
            ]
          },
          "metadata": {},
          "execution_count": 86
        }
      ]
    },
    {
      "cell_type": "code",
      "source": [
        "flt1 = 3.51\n",
        "round(flt1)"
      ],
      "metadata": {
        "colab": {
          "base_uri": "https://localhost:8080/"
        },
        "id": "HWTkekqc8a_z",
        "outputId": "52a4f7de-eb68-4f32-d2f4-be51128261fb"
      },
      "execution_count": null,
      "outputs": [
        {
          "output_type": "execute_result",
          "data": {
            "text/plain": [
              "4"
            ]
          },
          "metadata": {},
          "execution_count": 87
        }
      ]
    },
    {
      "cell_type": "code",
      "source": [
        "lst1 = [1, 1.49, 1.50, 1.35, 1.99, 1.77]\n",
        "\n",
        "lst1.sort()\n",
        "print(lst1)"
      ],
      "metadata": {
        "colab": {
          "base_uri": "https://localhost:8080/"
        },
        "id": "fm8EZwFr86ns",
        "outputId": "fa521e75-4814-48ad-9b64-847968ccd171"
      },
      "execution_count": null,
      "outputs": [
        {
          "output_type": "stream",
          "name": "stdout",
          "text": [
            "[1, 1.35, 1.49, 1.5, 1.77, 1.99]\n"
          ]
        }
      ]
    },
    {
      "cell_type": "code",
      "source": [
        "sorted(lst1)"
      ],
      "metadata": {
        "colab": {
          "base_uri": "https://localhost:8080/"
        },
        "id": "nkUT9Arl9jmu",
        "outputId": "4531d4e6-2184-4c41-a4e1-0d117961ca3a"
      },
      "execution_count": null,
      "outputs": [
        {
          "output_type": "execute_result",
          "data": {
            "text/plain": [
              "[1, 1.35, 1.49, 1.5, 1.77, 1.99]"
            ]
          },
          "metadata": {},
          "execution_count": 94
        }
      ]
    },
    {
      "cell_type": "markdown",
      "source": [
        "# find ascii value - ascii()"
      ],
      "metadata": {
        "id": "xmX15p-f5EVK"
      }
    },
    {
      "cell_type": "code",
      "source": [
        "for i in range(0, 100, 1):\n",
        "    print('Ascii value: ', ascii(i))"
      ],
      "metadata": {
        "id": "QC5RAdQf0pJa"
      },
      "execution_count": null,
      "outputs": []
    }
  ]
}